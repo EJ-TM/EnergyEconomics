{
 "cells": [
  {
   "cell_type": "code",
   "execution_count": 146,
   "metadata": {},
   "outputs": [],
   "source": [
    "import numpy as np  # numpy is a numerical library for Python\n",
    "import itertools\n",
    "from plotly import express as ex\n",
    "import pandas as pd\n",
    "import ipywidgets as widgets\n",
    "from ipywidgets import interact, fixed"
   ]
  },
  {
   "cell_type": "markdown",
   "metadata": {},
   "source": [
    "# MJ2383: Lab 1 - Computing Levelised Cost of Electricity\n",
    "\n",
    "In this lab, we are going to explore computation of an important metric called **levelised cost of electricity**, or LCOE for short.\n",
    "\n",
    "The lab is broken up into several stages each of which culminates in writing a piece of Python code or doing some analysis. Don't worry if you've never written any Python before or done any programming - it is actually as easy as (or easier than) writing down equations.\n",
    "\n",
    "In [stage 1](#Stage-1---Compute-LCOE), we'll write a Python function which computes the levelised cost of electricity from input data. We'll then test that this function produces the result we expect. You'll be able to check that your function works at the end of the stage.\n",
    "\n",
    "In [stage 2](#Stage-2---Explore-Parameter-Values), we'll then use the function you wrote to compute LCOE for one technology and explore what happens when you change the parameter values.\n",
    "\n",
    "in [stage 3](#Stage-3:-Comparing-technologies), we'll use the LCOE function again to compare technologies against one another, and develop screen curves that allow us to visualise the trade offs between technologies as a function of load-factor.\n",
    "\n",
    "## Housekeeping\n",
    "\n",
    "- This is a Jupyter notebook. A notebook contains cells. Each cell contains either descriptive text (like this) or Python code.  You execute a cell by pressing `Shift + Enter`.  Or, you can use the `Run` button in the menu bar at the top of the page.\n",
    "\n",
    "- Don't worry, you cannot break anything. If you think you've made a mistake, you can delete the content and try again. If you get really stuck, just reload the page and you'll be able to make a fresh start.\n",
    "\n",
    "- Also, each stage allows you to begin afresh, so you can just move on when you are ready.\n",
    "\n",
    "- If you like, work together in pairs sharing a screen.\n",
    "\n",
    "- The notebook has been designed to help support your learning by enabling you to explore, but also to challenge. However, we are not trying to trick you. In most cases, the answers are in front of you.\n",
    "\n",
    "- If you have questions, please ask us!"
   ]
  },
  {
   "cell_type": "markdown",
   "metadata": {},
   "source": [
    "## Stage 1 - Compute LCOE\n",
    "\n",
    "According to [OEE](http://www.open-electricity-economics.org/book/text/03.html) the formula to calculate LCOE is as follows:\n",
    "\n",
    "\\\\(LCOE = \\frac{C_{fix} + \\sum_{y=1}^Y CRF_y \\cdot C_y}{\\sum_{y=1}^Y CRF_y \\cdot G_y}\\\\)\n",
    "\n",
    "where LCOE is the levelized cost in EUR per kWh, \\\\(C_{fix}\\\\) is the capital investment costs incurred for setting up the project, \\\\(C_y\\\\) are operational costs incurred in year \\\\(y\\\\), \\\\(Y\\\\) is the technical lifetime in years, and \\\\(G_y\\\\) is electricity generation in kWh. The costs are called levelized because they are “leveled” over all units of output. Levelized costs can be calculated for a specific power plant or for generic types of generation technologies.\n",
    "\n",
    "Capital recovery factor (CRF) is calculated for each year \\\\(y\\\\) of the plant's technical lifetime\n",
    "\n",
    "\\\\(CRF_y =  (1 + r)^{-y}\\\\)\n",
    "\n",
    "where r is the discount rate"
   ]
  },
  {
   "cell_type": "markdown",
   "metadata": {},
   "source": [
    "Here we can store the technical lifetime of our technology in a |*variable* called ``technical_lifetime``"
   ]
  },
  {
   "cell_type": "code",
   "execution_count": 113,
   "metadata": {},
   "outputs": [],
   "source": [
    "technical_lifetime = 20"
   ]
  },
  {
   "cell_type": "markdown",
   "metadata": {},
   "source": [
    "You can access the value stored in the *variable* at anytime, by typing its name and press `shift` + `enter`"
   ]
  },
  {
   "cell_type": "code",
   "execution_count": 89,
   "metadata": {},
   "outputs": [
    {
     "data": {
      "text/plain": [
       "20"
      ]
     },
     "execution_count": 89,
     "metadata": {},
     "output_type": "execute_result"
    }
   ],
   "source": [
    "technical_lifetime"
   ]
  },
  {
   "cell_type": "markdown",
   "metadata": {},
   "source": [
    "We then create an *array* of years using the value stored in ``technical_lifetime``. \n",
    "\n",
    "An *array* is like a list of values. The command ``np.arange()`` takes a number as an argument and creates a *array* of the same length containing the values from 0 to one less than the number."
   ]
  },
  {
   "cell_type": "code",
   "execution_count": 90,
   "metadata": {},
   "outputs": [
    {
     "data": {
      "text/plain": [
       "array([ 0,  1,  2,  3,  4,  5,  6,  7,  8,  9, 10, 11, 12, 13, 14, 15, 16,\n",
       "       17, 18, 19])"
      ]
     },
     "execution_count": 90,
     "metadata": {},
     "output_type": "execute_result"
    }
   ],
   "source": [
    "year = np.arange(technical_lifetime)\n",
    "year"
   ]
  },
  {
   "cell_type": "markdown",
   "metadata": {},
   "source": [
    "Now we calculate CRF for each year in our plant's technical lifetime according to the formula we saw earlier:\n",
    "\\\\(CRF_y =  (1 + r)^{-y}\\\\). Remember \\\\(r\\\\) is the discount rate, and \\\\(y\\\\) is the year.\n",
    "\n",
    "`**` means \"to the power of\". \n",
    "\n",
    "**Q. What happens if you change the discount rate?**"
   ]
  },
  {
   "cell_type": "code",
   "execution_count": 112,
   "metadata": {},
   "outputs": [
    {
     "name": "stdout",
     "output_type": "stream",
     "text": [
      "[1.         0.95238095 0.90702948 0.8638376  0.82270247 0.78352617\n",
      " 0.7462154  0.71068133 0.67683936 0.64460892 0.61391325 0.58467929\n",
      " 0.55683742 0.53032135 0.50506795 0.4810171  0.45811152 0.43629669\n",
      " 0.41552065 0.39573396]\n"
     ]
    }
   ],
   "source": [
    "discount_rate = 0.05\n",
    "crf = (1 + discount_rate) ** - year\n",
    "print(crf)"
   ]
  },
  {
   "cell_type": "markdown",
   "metadata": {},
   "source": [
    "Now we've calculated CRF, let's get some data for the other parameters:"
   ]
  },
  {
   "cell_type": "code",
   "execution_count": 114,
   "metadata": {},
   "outputs": [],
   "source": [
    "capital_costs = 1000.0  # €\n",
    "operational_costs = np.repeat(500, technical_lifetime)  # €\n",
    "electricity_generation = np.repeat(8760., technical_lifetime)  # kWh"
   ]
  },
  {
   "cell_type": "markdown",
   "metadata": {},
   "source": [
    "The code above creates variables, each containing an *array* of values. We automatically generate the arrays using `np.repeat(50, technical_lifetime)`. This creates an array of length `technical_lifetime` where each element in the array contains the value `50`.\n",
    "\n",
    "---\n",
    "\n",
    "Remember the formula? Let's check it again:\n",
    "\n",
    "\\\\(LCOE = \\frac{C_{fix} + \\sum_{y=1}^Y CRF_y \\cdot C_y}{\\sum_{y=1}^Y CRF_y \\cdot G_y}\\\\)\n",
    "\n",
    "Now, we can calculate LCOE:"
   ]
  },
  {
   "cell_type": "code",
   "execution_count": 115,
   "metadata": {},
   "outputs": [
    {
     "name": "stdout",
     "output_type": "stream",
     "text": [
      "0.06580154242125368\n"
     ]
    }
   ],
   "source": [
    "lcoe = (capital_costs + sum(crf * operational_costs)) / sum(crf * electricity_generation)\n",
    "print(lcoe)  # €/kWh"
   ]
  },
  {
   "cell_type": "markdown",
   "metadata": {},
   "source": [
    "At the moment, this seems a pretty arbitrary result. We're just putting in nonsense data, and we are getting nonsense in return. In stage 2, we'll start working with real data, but first, we need to make this calculation re-useable.\n",
    "\n",
    "---\n",
    "\n",
    "In Python, if we want to reuse a piece of code, we'll create a \"function\". To do this, you use the ``def`` command like this:\n",
    "\n",
    "```python\n",
    "def lcoe(capital_costs, operational_costs, electricity_generation, discount_rate, technical_lifetime):\n",
    "    # <<Something should go here>>\n",
    "    return value\n",
    "```\n",
    "\n",
    "- In the above example `lcoe` is the name of the function\n",
    "- The list of names in the round brackets `()` are arguments\n",
    "- Don't forget the `:` at the end of the list of arguments\n",
    "- Use four spaces to indent your code\n",
    "- The argument passed to `return` in the last line is what the function will give back when you run it\n",
    "\n",
    "**Q. What should go in the function?**\n",
    "\n",
    "Have a go below:"
   ]
  },
  {
   "cell_type": "code",
   "execution_count": 118,
   "metadata": {},
   "outputs": [],
   "source": [
    "def lcoe(capital_costs, operational_costs, electricity_generation, discount_rate, technical_lifetime):\n",
    "\n",
    "    # <<Write your code here>>\n",
    "    value = \"Replace me with some code\"\n",
    "    return value"
   ]
  },
  {
   "cell_type": "markdown",
   "metadata": {},
   "source": [
    "Test your `lcoe` function by running the cell below."
   ]
  },
  {
   "cell_type": "code",
   "execution_count": 119,
   "metadata": {},
   "outputs": [
    {
     "ename": "AssertionError",
     "evalue": "That's not right, try again! The function returns 'Replace me with some code'",
     "output_type": "error",
     "traceback": [
      "\u001b[0;31m---------------------------------------------------------------------------\u001b[0m",
      "\u001b[0;31mAssertionError\u001b[0m                            Traceback (most recent call last)",
      "\u001b[0;32m<ipython-input-119-fb082fffa591>\u001b[0m in \u001b[0;36m<module>\u001b[0;34m\u001b[0m\n\u001b[1;32m      1\u001b[0m \u001b[0mactual\u001b[0m \u001b[0;34m=\u001b[0m \u001b[0mlcoe\u001b[0m\u001b[0;34m(\u001b[0m\u001b[0;36m5000\u001b[0m\u001b[0;34m,\u001b[0m \u001b[0mnp\u001b[0m\u001b[0;34m.\u001b[0m\u001b[0marray\u001b[0m\u001b[0;34m(\u001b[0m\u001b[0;34m[\u001b[0m\u001b[0;36m100\u001b[0m\u001b[0;34m,\u001b[0m \u001b[0;36m100\u001b[0m\u001b[0;34m,\u001b[0m \u001b[0;36m100\u001b[0m\u001b[0;34m,\u001b[0m \u001b[0;36m100\u001b[0m\u001b[0;34m]\u001b[0m\u001b[0;34m)\u001b[0m\u001b[0;34m,\u001b[0m \u001b[0mnp\u001b[0m\u001b[0;34m.\u001b[0m\u001b[0marray\u001b[0m\u001b[0;34m(\u001b[0m\u001b[0;34m[\u001b[0m\u001b[0;36m8760\u001b[0m\u001b[0;34m,\u001b[0m \u001b[0;36m8760\u001b[0m\u001b[0;34m,\u001b[0m \u001b[0;36m8760\u001b[0m\u001b[0;34m,\u001b[0m \u001b[0;36m8760\u001b[0m\u001b[0;34m]\u001b[0m\u001b[0;34m)\u001b[0m\u001b[0;34m,\u001b[0m \u001b[0;36m0.1\u001b[0m\u001b[0;34m,\u001b[0m \u001b[0;36m4\u001b[0m\u001b[0;34m)\u001b[0m\u001b[0;34m\u001b[0m\u001b[0;34m\u001b[0m\u001b[0m\n\u001b[0;32m----> 2\u001b[0;31m \u001b[0;32massert\u001b[0m \u001b[0mactual\u001b[0m \u001b[0;34m==\u001b[0m \u001b[0;36m0.1751093834091417\u001b[0m\u001b[0;34m,\u001b[0m \u001b[0;34m\"That's not right, try again! The function returns '{}'\"\u001b[0m\u001b[0;34m.\u001b[0m\u001b[0mformat\u001b[0m\u001b[0;34m(\u001b[0m\u001b[0mactual\u001b[0m\u001b[0;34m)\u001b[0m\u001b[0;34m\u001b[0m\u001b[0;34m\u001b[0m\u001b[0m\n\u001b[0m",
      "\u001b[0;31mAssertionError\u001b[0m: That's not right, try again! The function returns 'Replace me with some code'"
     ]
    }
   ],
   "source": [
    "actual = lcoe(5000, np.array([100, 100, 100, 100]), np.array([8760, 8760, 8760, 8760]), 0.1, 4)\n",
    "assert actual == 0.1751093834091417, \"That's not right, try again! The function returns '{}'\".format(actual)"
   ]
  },
  {
   "cell_type": "markdown",
   "metadata": {},
   "source": [
    "### Stage 1 - Summary\n",
    "\n",
    "If you managed to get it to work, well done! You've written a Python function which computes LCOE. If not, don't worry, the answer is below!\n",
    "\n",
    "- In this stage, we introduced the LCOE equation\n",
    "\\\\(LCOE = \\frac{C_{fix} + \\sum_{y=1}^Y CRF_y \\cdot C_y}{\\sum_{y=1}^Y CRF_y \\cdot G_y}\\\\)\n",
    "and implemented it using a Python function.\n",
    "- We also explored how the capital recovery factors weighs future years differently as a function of the discount rate.\n",
    "- We learnt a lot of Python concepts including *variables*, *arrays*, and *arguments*.\n",
    "- We learnt how to reuse Python code by writing a function.\n",
    "\n",
    "In the next stage, we'll extend our function to make it more useful and investigate the LCOE calculation itself.\n",
    "\n",
    "### Stage 1 - Answer LCOE Function\n",
    "\n",
    "As you can see, we just need to fill in the gaps. First build the array of years, calculate the array of CRF and then add the lcoe calculation.\n",
    "```python\n",
    "def lcoe(capital_costs, operational_costs, electricity_generation, discount_rate, technical_lifetime):\n",
    "    year = np.arange(technical_lifetime)\n",
    "    crf = (1 + discount_rate) ** - year\n",
    "    value = (capital_costs + sum(crf * operational_costs)) / sum(crf * electricity_generation)\n",
    "    return value\n",
    "```"
   ]
  },
  {
   "cell_type": "markdown",
   "metadata": {},
   "source": [
    "## Stage 2 - Explore Parameter Values"
   ]
  },
  {
   "cell_type": "markdown",
   "metadata": {},
   "source": [
    "We'll now make use of an LCOE function to explore the effect of different parameter values for one technology - a combined cycle gas turbine. In the following implementation of LCOE, we make the assumption that the yearly values for operational costs and electricity generation are the same in each year of the technology's lifetime."
   ]
  },
  {
   "cell_type": "markdown",
   "metadata": {},
   "source": [
    "Here are the parameters for a combined cycle gas turbine (CCGT):\n",
    "\n",
    "Parameter | Unit |Value\n",
    "---|---|---\n",
    "Lifetime| |25\n",
    "Discount rate | |\t\t\t8.0%\n",
    "Station size | MW |\t750.0\n",
    "Overnight cost | €/kW | 750.0\n",
    "Fixed O&M cost | €/kW\t| 3.0\n",
    "Efficiency | | 0.5\n",
    "Fuel price | €/kWh| 0.03\n",
    "Emission Factor\t| ton/kW-yr| 1.8\n",
    "Load factor | | 0.75\n",
    "\n",
    "Here's the information we need to calculate the LCOE using the simple LCOE equation we developed earlier.\n",
    "\n",
    "Parameter | Unit |Value\n",
    "---|---|---\n",
    "Capital cost | m€ | ?\n",
    "Annual fixed O&M cost |\tm€\t| ?\n",
    "Variable O&M cost |€/kWh| ?\n",
    "Total fuel cost | €/yr | ?\n",
    "Emissions Penalty |\t€/ton\t| ?\n",
    "\n",
    "**Q. What's the levelised cost of electricity for the CCGT plant?**\n",
    "- work through the list of inputs methodically. \n",
    "- Pay close attention to the units.  \n",
    "- Use Python variables to store information you reuse."
   ]
  },
  {
   "cell_type": "code",
   "execution_count": 153,
   "metadata": {},
   "outputs": [
    {
     "ename": "AssertionError",
     "evalue": "Close, but no bananas. You got 'Replace me with some code'",
     "output_type": "error",
     "traceback": [
      "\u001b[0;31m---------------------------------------------------------------------------\u001b[0m",
      "\u001b[0;31mAssertionError\u001b[0m                            Traceback (most recent call last)",
      "\u001b[0;32m<ipython-input-153-b95c7725ddf3>\u001b[0m in \u001b[0;36m<module>\u001b[0;34m\u001b[0m\n\u001b[1;32m     23\u001b[0m \u001b[0mactual\u001b[0m \u001b[0;34m=\u001b[0m \u001b[0mlcoe\u001b[0m\u001b[0;34m(\u001b[0m\u001b[0mcapital_costs\u001b[0m\u001b[0;34m,\u001b[0m \u001b[0moperational_costs\u001b[0m\u001b[0;34m,\u001b[0m \u001b[0melectricity_generation\u001b[0m\u001b[0;34m,\u001b[0m \u001b[0mdiscount_rate\u001b[0m\u001b[0;34m,\u001b[0m \u001b[0mlifetime\u001b[0m\u001b[0;34m)\u001b[0m\u001b[0;34m\u001b[0m\u001b[0;34m\u001b[0m\u001b[0m\n\u001b[1;32m     24\u001b[0m \u001b[0;34m\u001b[0m\u001b[0m\n\u001b[0;32m---> 25\u001b[0;31m \u001b[0;32massert\u001b[0m \u001b[0mactual\u001b[0m \u001b[0;34m==\u001b[0m \u001b[0;36m0.06000000157662146\u001b[0m\u001b[0;34m,\u001b[0m \u001b[0;34m\"Close, but no bananas. You got '{}'\"\u001b[0m\u001b[0;34m.\u001b[0m\u001b[0mformat\u001b[0m\u001b[0;34m(\u001b[0m\u001b[0mactual\u001b[0m\u001b[0;34m)\u001b[0m\u001b[0;34m\u001b[0m\u001b[0;34m\u001b[0m\u001b[0m\n\u001b[0m",
      "\u001b[0;31mAssertionError\u001b[0m: Close, but no bananas. You got 'Replace me with some code'"
     ]
    }
   ],
   "source": [
    "# Add your working HERE\n",
    "\n",
    "# 1. Populate some variables using the information from the table\n",
    "\n",
    "lifetime = 25\n",
    "discount_rate = 0.08\n",
    "capacity = 750.0 # MW\n",
    "overnight_cost = 750.0 # €/kW\n",
    "fixed_om_cost = 3 # €/kW\n",
    "efficiency = 0.5\n",
    "fuel_price = 0.03 # €/kWh\n",
    "load_factor = 0.75\n",
    "\n",
    "# 2. Calculate the intermediate values (you can use Python like a calculator)\n",
    "# Use *+-/ for multiply, add, substract and divide. Here's one to get you started...\n",
    "# Remove the hashes on the following lines to make you calculations\n",
    "\n",
    "capital_costs = capacity * overnight_cost\n",
    "# electricity_generation = \n",
    "# operational_costs = \n",
    "\n",
    "# 3. Now use the earlier LCOE equation we developed to calculate LCOE\n",
    "actual = lcoe(capital_costs, operational_costs, electricity_generation, discount_rate, lifetime)\n",
    "\n",
    "assert actual == 0.06000000157662146, \"Close, but no bananas. You got '{}'\".format(actual)"
   ]
  },
  {
   "cell_type": "markdown",
   "metadata": {},
   "source": [
    "### Hints\n",
    "\n",
    "- Remember there are approximately `365 * 24 = 8760` hours in a year.\n",
    "- The load factor describes the proportion of those 8760 hours the plant is operational.\n",
    "- Operational costs are made up of fixed costs (not a function of activity) and variable costs (function of activity)\n",
    "- The variable cost will be the product of the amount of fuel used and the fuel price.\n",
    "- Fuel use can be computed from electricity generation and efficiency.\n",
    "\n",
    "---\n",
    "Now we extend our calculation of LCOE with a number of new parameters. `load_factor` represents the proportion of the hours in the year in which the technology generates electricity. We now calculate `annual_operational_cost` from two other new parameters `fuel_efficiency` and `fuel_cost` and `fixed_om_cost`."
   ]
  },
  {
   "cell_type": "code",
   "execution_count": 154,
   "metadata": {},
   "outputs": [],
   "source": [
    "def extended_lcoe(station_size, overnight_cost, fuel_efficiency, fuel_price, fixed_om_cost, load_factor, \n",
    "                discount_rate, technical_lifetime):\n",
    "    \"\"\"Calculates levelised cost of electricity as a function of useful parameters\n",
    "    \n",
    "    Arguments\n",
    "    ---------\n",
    "    station_size : float\n",
    "        The capacity of the technology in kW\n",
    "    overnight_cost : float\n",
    "        The capital cost of the technology in €\n",
    "    fuel_efficiency : float\n",
    "        The ratio describing quantity of fuel required per unit of activity\n",
    "    fuel_price : float\n",
    "        The price paid per unit of input fuel in €/kWh\n",
    "    fixed_om_cost : float\n",
    "        The fixed operation and maintenance cost of the technology in €/kW\n",
    "    load_factor : float\n",
    "        The percentage of the year in which the technology generates electricity in %.\n",
    "    discount_rate : float\n",
    "        A decimal value less than 1\n",
    "    technical_lifetime : int\n",
    "        Technical lifetime of the technology in years\n",
    "        \n",
    "    Returns\n",
    "    -------\n",
    "    float\n",
    "        The levelised cost of electricity in €/kWh\n",
    "    \"\"\"\n",
    "    HOURS_IN_YEAR = 8760\n",
    "    \n",
    "    capital_cost = station_size * overnight_cost\n",
    "    total_fixed_om_cost = station_size * fixed_om_cost\n",
    "    \n",
    "    annual_electricity_generation = station_size * HOURS_IN_YEAR * load_factor\n",
    "    total_variable_om_cost = (annual_electricity_generation / fuel_efficiency) * fuel_price\n",
    "    annual_operational_cost = total_fixed_om_cost + total_variable_om_cost\n",
    "    \n",
    "    year = np.arange(technical_lifetime)\n",
    "    total_crf = sum((1 + discount_rate) ** - year)\n",
    "    \n",
    "    \n",
    "    value = ((total_crf * annual_operational_cost) + capital_cost) / (total_crf * annual_electricity_generation)\n",
    "    return value"
   ]
  },
  {
   "cell_type": "markdown",
   "metadata": {},
   "source": [
    "So to perform the calculation again using our new LCOE function, we get:"
   ]
  },
  {
   "cell_type": "code",
   "execution_count": 155,
   "metadata": {},
   "outputs": [
    {
     "data": {
      "text/plain": [
       "0.06000000157662146"
      ]
     },
     "execution_count": 155,
     "metadata": {},
     "output_type": "execute_result"
    }
   ],
   "source": [
    "ccgt_lcoe = extended_lcoe(capacity, overnight_cost, efficiency, fuel_price, fixed_om_cost, capacity * 8760 * 0.75, \n",
    "                          discount_rate, lifetime)\n",
    "ccgt_lcoe"
   ]
  },
  {
   "cell_type": "markdown",
   "metadata": {},
   "source": [
    "### Q. What are the key parameters that determine the LCOE of the CCGT plant?\n",
    "\n",
    "Run the next cell to create an interactive slider widget which allows you to play with the `extended_lcoe` function and answer the following questions:\n",
    "\n",
    "1. Which is the most influential input parameter?\n",
    "2. Are all the responses linear? Is it easy to tell?\n",
    "3. What happens if gas is expensive?\n",
    "4. If the price of the gas turbine doubles from €750/kW to €1500/kW, what's the effect upon LCOE at different load factors?\n",
    "5. How important is discount rate compared to the fuel price?"
   ]
  },
  {
   "cell_type": "code",
   "execution_count": 156,
   "metadata": {},
   "outputs": [
    {
     "data": {
      "application/vnd.jupyter.widget-view+json": {
       "model_id": "45c6b0d5d066400ba050a91f4ba047c9",
       "version_major": 2,
       "version_minor": 0
      },
      "text/plain": [
       "interactive(children=(IntSlider(value=1000, description='overnight_cost', max=1500, min=500), FloatSlider(valu…"
      ]
     },
     "metadata": {},
     "output_type": "display_data"
    },
    {
     "data": {
      "text/plain": [
       "<function __main__.extended_lcoe(station_size, overnight_cost, fuel_efficiency, fuel_price, fixed_om_cost, load_factor, discount_rate, technical_lifetime)>"
      ]
     },
     "execution_count": 156,
     "metadata": {},
     "output_type": "execute_result"
    }
   ],
   "source": [
    "interact(extended_lcoe, station_size=fixed(750000), overnight_cost=(500, 1500), fuel_efficiency=(0.3, 0.7), \n",
    "         fuel_price=(0.01, 0.10, 0.01), fixed_om_cost=3, load_factor=(0.01, 1.0, 0.1), \n",
    "         discount_rate=(0.01, 0.30, 0.01), technical_lifetime=25)"
   ]
  },
  {
   "cell_type": "markdown",
   "metadata": {},
   "source": [
    "### Stage 2 - Summary\n",
    "\n",
    "- In this stage, we calculated the levelised cost for a CCGT plant.\n",
    "- Then, we explored the LCOE equation interactively to try to understand what parameters influence the LCOE of a technology.\n",
    "\n",
    "In the next stage, we compare LCOE across technologies."
   ]
  },
  {
   "cell_type": "markdown",
   "metadata": {},
   "source": [
    "# Stage 3: Comparing technologies\n",
    "\n",
    "In the previous stages, we developed our understanding of the LCOE equation, and applied it to one technology. Now comes the *really* fun part, where we develop a comparison across different technologies."
   ]
  },
  {
   "cell_type": "markdown",
   "metadata": {},
   "source": [
    "We can now make a more advanced function which holds the logic to calculate LCOE when we have a number of extra input parameters. Now, we can pass a *list* (elements separated by commas inside square brackets) of parameter values, and the function returns a list of results."
   ]
  },
  {
   "cell_type": "code",
   "execution_count": 164,
   "metadata": {},
   "outputs": [],
   "source": [
    "def lcoe_params(station_sizes, overnight_costs, fixed_om_costs, load_factors, efficiencies, \n",
    "                 fuel_prices, discount_rates, technical_lifetimes, technology):\n",
    "    \"\"\"Calculate LCOE for cartesian product of all parameter lists\n",
    "    \"\"\"\n",
    "    results = []  # Create a list to hold the observations\n",
    "    \n",
    "    # Loop over cartesian product of parameter values\n",
    "    for (capacity, capex, fixed_om_cost, load_factor, efficiency, \n",
    "        fuel_price, discount_rate, technical_lifetime) in itertools.product(\n",
    "        station_sizes, overnight_costs, fixed_om_costs, load_factors, \n",
    "        efficiencies, fuel_prices, discount_rates, technical_lifetimes):\n",
    "\n",
    "        observation = {}  # Create a dictionary to store the observation\n",
    "        \n",
    "        lcoe = extended_lcoe(capacity, capex, efficiency, fuel_price, fixed_om_cost, \n",
    "                             load_factor, discount_rate, technical_lifetime)\n",
    "    \n",
    "        observation['Technology'] = technology\n",
    "        observation['StationSize'] = capacity\n",
    "        observation['OvernightCost'] = capex\n",
    "        observation['FixedOMCost'] = fixed_om_cost\n",
    "        observation['LoadFactor'] = load_factor\n",
    "        observation['Efficiency'] = efficiency\n",
    "        observation['FuelPrice'] = fuel_price\n",
    "        observation['DiscountRate'] = discount_rate\n",
    "        observation['Lifetime'] = technical_lifetime\n",
    "        observation['LCOE'] = lcoe\n",
    "\n",
    "        results.append(observation)\n",
    "        \n",
    "    return results"
   ]
  },
  {
   "cell_type": "markdown",
   "metadata": {},
   "source": [
    "First, we'll use our new function to compare multiple technologies under their central operating characteristics, and explore how that changes under different discount rates."
   ]
  },
  {
   "cell_type": "code",
   "execution_count": 175,
   "metadata": {},
   "outputs": [
    {
     "data": {
      "application/vnd.plotly.v1+json": {
       "config": {
        "plotlyServerURL": "https://plot.ly"
       },
       "data": [
        {
         "hovertemplate": "Technology=CCGT<br>DiscountRate=0.08<br>LoadFactor=%{x}<br>LCOE=%{y}<extra></extra>",
         "legendgroup": "CCGT",
         "line": {
          "color": "#636efa",
          "dash": "solid"
         },
         "mode": "lines",
         "name": "CCGT",
         "orientation": "v",
         "showlegend": true,
         "type": "scatter",
         "x": [
          0.1,
          0.11,
          0.12,
          0.13,
          0.13999999999999999,
          0.14999999999999997,
          0.15999999999999998,
          0.16999999999999998,
          0.17999999999999997,
          0.18999999999999995,
          0.19999999999999996,
          0.20999999999999996,
          0.21999999999999995,
          0.22999999999999995,
          0.23999999999999994,
          0.24999999999999992,
          0.2599999999999999,
          0.2699999999999999,
          0.2799999999999999,
          0.2899999999999999,
          0.29999999999999993,
          0.30999999999999994,
          0.3199999999999999,
          0.32999999999999985,
          0.33999999999999986,
          0.34999999999999987,
          0.3599999999999999,
          0.3699999999999999,
          0.3799999999999999,
          0.3899999999999999,
          0.3999999999999998,
          0.4099999999999998,
          0.4199999999999998,
          0.4299999999999998,
          0.43999999999999984,
          0.44999999999999984,
          0.45999999999999985,
          0.46999999999999986,
          0.47999999999999976,
          0.48999999999999977,
          0.4999999999999998,
          0.5099999999999998,
          0.5199999999999998,
          0.5299999999999998,
          0.5399999999999998,
          0.5499999999999998,
          0.5599999999999997,
          0.5699999999999997,
          0.5799999999999997,
          0.5899999999999997,
          0.5999999999999998,
          0.6099999999999998,
          0.6199999999999998,
          0.6299999999999997,
          0.6399999999999997,
          0.6499999999999997,
          0.6599999999999997,
          0.6699999999999997,
          0.6799999999999997,
          0.6899999999999997,
          0.6999999999999996,
          0.7099999999999996,
          0.7199999999999996,
          0.7299999999999996,
          0.7399999999999997,
          0.7499999999999997,
          0.7599999999999997,
          0.7699999999999997,
          0.7799999999999997,
          0.7899999999999996,
          0.7999999999999996,
          0.8099999999999996,
          0.8199999999999996,
          0.8299999999999996,
          0.8399999999999996,
          0.8499999999999996,
          0.8599999999999995,
          0.8699999999999996,
          0.8799999999999996,
          0.8899999999999996,
          0.8999999999999996,
          0.9099999999999996,
          0.9199999999999996,
          0.9299999999999996,
          0.9399999999999996,
          0.9499999999999995,
          0.9599999999999995,
          0.9699999999999995,
          0.9799999999999995,
          0.9899999999999995
         ],
         "xaxis": "x",
         "y": [
          0.13768802246002043,
          0.13062547496365495,
          0.12474001871668366,
          0.1197600172769388,
          0.1154914446143003,
          0.11179201497334697,
          0.10855501403751276,
          0.10569883674118848,
          0.10316001247778912,
          0.10088843287369496,
          0.09884401123001021,
          0.09699429640953354,
          0.09531273748182748,
          0.0937774010695741,
          0.09237000935834185,
          0.09107520898400819,
          0.08988000863846941,
          0.08877334165185943,
          0.08774572230715016,
          0.08678897326207602,
          0.08589600748667348,
          0.0850606524064582,
          0.0842775070187564,
          0.08354182498788498,
          0.08284941837059424,
          0.08219657784572014,
          0.08158000623889458,
          0.08099676282703255,
          0.08044421643684749,
          0.07992000575897959,
          0.07942200561500512,
          0.0789482981609806,
          0.07849714820476676,
          0.07806698196744662,
          0.07765636874091374,
          0.07726400499111566,
          0.07688870053478707,
          0.07652936648085541,
          0.07618500467917094,
          0.07585469846122866,
          0.0755376044920041,
          0.07523294558039617,
          0.0749400043192347,
          0.07465811744528689,
          0.0743866708259297,
          0.074125094992731,
          0.07387286115357508,
          0.073629477624565,
          0.07339448663103801,
          0.07316746143390176,
          0.07294800374333675,
          0.0727357413868886,
          0.0725303262032291,
          0.07233143213651119,
          0.07213875350937819,
          0.07195200345538776,
          0.07177091249394249,
          0.07159522723283888,
          0.07142470918529713,
          0.07125913368985803,
          0.07109828892286008,
          0.07094197499436908,
          0.07079000311944729,
          0.07064219485753705,
          0.07049838141351629,
          0.07035840299466939,
          0.07022210821842374,
          0.07008935356623643,
          0.06996000287948981,
          0.06983392689367347,
          0.06971100280750256,
          0.06959111388395314,
          0.06947414908049031,
          0.06936000270602657,
          0.06924857410238339,
          0.0691397673482377,
          0.0690334909837233,
          0.06892965775402533,
          0.06882818437045687,
          0.06872899128764275,
          0.06863200249555784,
          0.06853714532527698,
          0.06844435026739353,
          0.06835355080215273,
          0.06826468324042771,
          0.068177686574739,
          0.06809250233958547,
          0.06800907448041447,
          0.06792734923061433,
          0.06784727499596166
         ],
         "yaxis": "y"
        },
        {
         "hovertemplate": "Technology=Coal<br>DiscountRate=0.08<br>LoadFactor=%{x}<br>LCOE=%{y}<extra></extra>",
         "legendgroup": "Coal",
         "line": {
          "color": "#EF553B",
          "dash": "solid"
         },
         "mode": "lines",
         "name": "Coal",
         "orientation": "v",
         "showlegend": true,
         "type": "scatter",
         "x": [
          0.1,
          0.11,
          0.12,
          0.13,
          0.13999999999999999,
          0.14999999999999997,
          0.15999999999999998,
          0.16999999999999998,
          0.17999999999999997,
          0.18999999999999995,
          0.19999999999999996,
          0.20999999999999996,
          0.21999999999999995,
          0.22999999999999995,
          0.23999999999999994,
          0.24999999999999992,
          0.2599999999999999,
          0.2699999999999999,
          0.2799999999999999,
          0.2899999999999999,
          0.29999999999999993,
          0.30999999999999994,
          0.3199999999999999,
          0.32999999999999985,
          0.33999999999999986,
          0.34999999999999987,
          0.3599999999999999,
          0.3699999999999999,
          0.3799999999999999,
          0.3899999999999999,
          0.3999999999999998,
          0.4099999999999998,
          0.4199999999999998,
          0.4299999999999998,
          0.43999999999999984,
          0.44999999999999984,
          0.45999999999999985,
          0.46999999999999986,
          0.47999999999999976,
          0.48999999999999977,
          0.4999999999999998,
          0.5099999999999998,
          0.5199999999999998,
          0.5299999999999998,
          0.5399999999999998,
          0.5499999999999998,
          0.5599999999999997,
          0.5699999999999997,
          0.5799999999999997,
          0.5899999999999997,
          0.5999999999999998,
          0.6099999999999998,
          0.6199999999999998,
          0.6299999999999997,
          0.6399999999999997,
          0.6499999999999997,
          0.6599999999999997,
          0.6699999999999997,
          0.6799999999999997,
          0.6899999999999997,
          0.6999999999999996,
          0.7099999999999996,
          0.7199999999999996,
          0.7299999999999996,
          0.7399999999999997,
          0.7499999999999997,
          0.7599999999999997,
          0.7699999999999997,
          0.7799999999999997,
          0.7899999999999996,
          0.7999999999999996,
          0.8099999999999996,
          0.8199999999999996,
          0.8299999999999996,
          0.8399999999999996,
          0.8499999999999996,
          0.8599999999999995,
          0.8699999999999996,
          0.8799999999999996,
          0.8899999999999996,
          0.8999999999999996,
          0.9099999999999996,
          0.9199999999999996,
          0.9299999999999996,
          0.9399999999999996,
          0.9499999999999995,
          0.9599999999999995,
          0.9699999999999995,
          0.9799999999999995,
          0.9899999999999995
         ],
         "xaxis": "x",
         "y": [
          0.21209467394021625,
          0.1950860672183784,
          0.1809122282835135,
          0.16891897995401248,
          0.15863905281444016,
          0.14972978262681083,
          0.14193417121263513,
          0.1350556905530684,
          0.1289414855223424,
          0.12347088102116646,
          0.11854733697010814,
          0.11409270187629346,
          0.11004303360918921,
          0.10634551040878969,
          0.10295611414175677,
          0.09983786957608652,
          0.09695948997700626,
          0.09429432368156158,
          0.0918195264072201,
          0.08951540480697112,
          0.08736489131340541,
          0.08535312062587622,
          0.08346708560631759,
          0.08169535573945949,
          0.08002784527653421,
          0.07845562112577607,
          0.07697074276117119,
          0.07556612809195033,
          0.07423544051058323,
          0.07297299331800418,
          0.07177366848505408,
          0.07063284730249177,
          0.06954635093814673,
          0.0685103892884224,
          0.0675215168045946,
          0.06657659420893695,
          0.06567275520439485,
          0.06480737743408857,
          0.0639780570708784,
          0.06318258651841148,
          0.06241893478804326,
          0.06168523018435613,
          0.060979744988503136,
          0.06030088187551251,
          0.059647161840780796,
          0.059017213443675685,
          0.058409763203610056,
          0.057823627007055484,
          0.057257702403485565,
          0.056710961684782416,
          0.05618244565670271,
          0.05567125802298628,
          0.05517656031293811,
          0.05469756729209783,
          0.0542335428031588,
          0.05378379599080251,
          0.05334767786972975,
          0.05292457820003228,
          0.0525139226382671,
          0.05211517013626324,
          0.051727810562888055,
          0.05135136252679103,
          0.0509853713805856,
          0.05062940738907072,
          0.05028306404597518,
          0.04994595652536218,
          0.049617720255291625,
          0.0492980096026255,
          0.048986496659002086,
          0.048682870119014725,
          0.04838683424252704,
          0.048098107893853874,
          0.04781642365124588,
          0.04754152698074895,
          0.04727317546907337,
          0.047011138110613686,
          0.0467551946442112,
          0.04650513493565704,
          0.046260758402297306,
          0.04602187347642879,
          0.04578829710446848,
          0.04555985427914465,
          0.045336377602197414,
          0.04511770687529207,
          0.04490368871704428,
          0.04469417620423329,
          0.04448902853543919,
          0.04428811071548622,
          0.04409129325920574,
          0.04389845191315316
         ],
         "yaxis": "y"
        },
        {
         "hovertemplate": "Technology=Nuclear<br>DiscountRate=0.08<br>LoadFactor=%{x}<br>LCOE=%{y}<extra></extra>",
         "legendgroup": "Nuclear",
         "line": {
          "color": "#00cc96",
          "dash": "solid"
         },
         "mode": "lines",
         "name": "Nuclear",
         "orientation": "v",
         "showlegend": true,
         "type": "scatter",
         "x": [
          0.1,
          0.11,
          0.12,
          0.13,
          0.13999999999999999,
          0.14999999999999997,
          0.15999999999999998,
          0.16999999999999998,
          0.17999999999999997,
          0.18999999999999995,
          0.19999999999999996,
          0.20999999999999996,
          0.21999999999999995,
          0.22999999999999995,
          0.23999999999999994,
          0.24999999999999992,
          0.2599999999999999,
          0.2699999999999999,
          0.2799999999999999,
          0.2899999999999999,
          0.29999999999999993,
          0.30999999999999994,
          0.3199999999999999,
          0.32999999999999985,
          0.33999999999999986,
          0.34999999999999987,
          0.3599999999999999,
          0.3699999999999999,
          0.3799999999999999,
          0.3899999999999999,
          0.3999999999999998,
          0.4099999999999998,
          0.4199999999999998,
          0.4299999999999998,
          0.43999999999999984,
          0.44999999999999984,
          0.45999999999999985,
          0.46999999999999986,
          0.47999999999999976,
          0.48999999999999977,
          0.4999999999999998,
          0.5099999999999998,
          0.5199999999999998,
          0.5299999999999998,
          0.5399999999999998,
          0.5499999999999998,
          0.5599999999999997,
          0.5699999999999997,
          0.5799999999999997,
          0.5899999999999997,
          0.5999999999999998,
          0.6099999999999998,
          0.6199999999999998,
          0.6299999999999997,
          0.6399999999999997,
          0.6499999999999997,
          0.6599999999999997,
          0.6699999999999997,
          0.6799999999999997,
          0.6899999999999997,
          0.6999999999999996,
          0.7099999999999996,
          0.7199999999999996,
          0.7299999999999996,
          0.7399999999999997,
          0.7499999999999997,
          0.7599999999999997,
          0.7699999999999997,
          0.7799999999999997,
          0.7899999999999996,
          0.7999999999999996,
          0.8099999999999996,
          0.8199999999999996,
          0.8299999999999996,
          0.8399999999999996,
          0.8499999999999996,
          0.8599999999999995,
          0.8699999999999996,
          0.8799999999999996,
          0.8899999999999996,
          0.8999999999999996,
          0.9099999999999996,
          0.9199999999999996,
          0.9299999999999996,
          0.9399999999999996,
          0.9499999999999995,
          0.9599999999999995,
          0.9699999999999995,
          0.9799999999999995,
          0.9899999999999995
         ],
         "xaxis": "x",
         "y": [
          0.40359045929231196,
          0.3680367811748291,
          0.33840871607692663,
          0.31333881484023995,
          0.29185032806593714,
          0.2732269728615413,
          0.25693153705769506,
          0.24255321134841884,
          0.2297724773846178,
          0.218337083838059,
          0.20804522964615604,
          0.1987335520439581,
          0.19026839058741454,
          0.1825393301270922,
          0.17545435803846335,
          0.16893618371692484,
          0.16291940742012007,
          0.1573483182564119,
          0.1521751640329686,
          0.1473587790663145,
          0.14286348643077068,
          0.13865821267493939,
          0.1347157685288475,
          0.13101226039160974,
          0.12752660567420945,
          0.1242401312263749,
          0.12113623869230893,
          0.11820012413305735,
          0.11541854191902949,
          0.11277960494674667,
          0.11027261482307803,
          0.10788791690056394,
          0.10561677602197908,
          0.10345126960286329,
          0.10138419529370729,
          0.09940899095384714,
          0.0975196650635461,
          0.09571073601964086,
          0.09397717901923171,
          0.09231437944741065,
          0.09071809185846243,
          0.08918440378280627,
          0.08770970371006002,
          0.08629065269666265,
          0.08492415912820594,
          0.08360735623496585,
          0.08233758201648432,
          0.081112361279353,
          0.07992938953315727,
          0.07878651852412072,
          0.07768174321538536,
          0.07661319004792004,
          0.07557910633746968,
          0.0745778506813194,
          0.07360788426442377,
          0.07266776296804803,
          0.07175613019580486,
          0.07087171034213614,
          0.07001330283710473,
          0.06917977670903075,
          0.06837006561318745,
          0.06758316328060734,
          0.06681811934615446,
          0.06607403551949481,
          0.06535006206652867,
          0.06464539457230828,
          0.06395927095951476,
          0.06329096873926131,
          0.06263980247337335,
          0.062005121429406604,
          0.06138630741153901,
          0.060782772752137296,
          0.06019395845028197,
          0.059619332444856885,
          0.05905838801098954,
          0.058510642269683784,
          0.057975634801431655,
          0.05745292635543818,
          0.05694209764685365,
          0.05644274823509125,
          0.05595449547692357,
          0.05547697354860573,
          0.05500983253177305,
          0.05455273755831313,
          0.05410536800982044,
          0.05366741676761182,
          0.05323858950961585,
          0.05281860405075383,
          0.052407189723705325,
          0.052004086797203246
         ],
         "yaxis": "y"
        },
        {
         "hovertemplate": "Technology=CSP<br>DiscountRate=0.08<br>LoadFactor=%{x}<br>LCOE=%{y}<extra></extra>",
         "legendgroup": "CSP",
         "line": {
          "color": "#ab63fa",
          "dash": "solid"
         },
         "mode": "lines",
         "name": "CSP",
         "orientation": "v",
         "showlegend": true,
         "type": "scatter",
         "x": [
          0.1,
          0.11,
          0.12,
          0.13,
          0.13999999999999999,
          0.14999999999999997,
          0.15999999999999998,
          0.16999999999999998,
          0.17999999999999997,
          0.18999999999999995,
          0.19999999999999996,
          0.20999999999999996,
          0.21999999999999995,
          0.22999999999999995,
          0.23999999999999994,
          0.24999999999999992,
          0.2599999999999999,
          0.2699999999999999,
          0.2799999999999999,
          0.2899999999999999,
          0.29999999999999993,
          0.30999999999999994,
          0.3199999999999999,
          0.32999999999999985,
          0.33999999999999986,
          0.34999999999999987,
          0.3599999999999999,
          0.3699999999999999,
          0.3799999999999999,
          0.3899999999999999,
          0.3999999999999998,
          0.4099999999999998,
          0.4199999999999998,
          0.4299999999999998,
          0.43999999999999984,
          0.44999999999999984,
          0.45999999999999985,
          0.46999999999999986,
          0.47999999999999976,
          0.48999999999999977,
          0.4999999999999998,
          0.5099999999999998,
          0.5199999999999998,
          0.5299999999999998,
          0.5399999999999998,
          0.5499999999999998,
          0.5599999999999997,
          0.5699999999999997,
          0.5799999999999997,
          0.5899999999999997,
          0.5999999999999998,
          0.6099999999999998,
          0.6199999999999998,
          0.6299999999999997,
          0.6399999999999997,
          0.6499999999999997,
          0.6599999999999997,
          0.6699999999999997,
          0.6799999999999997,
          0.6899999999999997,
          0.6999999999999996,
          0.7099999999999996,
          0.7199999999999996,
          0.7299999999999996,
          0.7399999999999997,
          0.7499999999999997,
          0.7599999999999997,
          0.7699999999999997,
          0.7799999999999997,
          0.7899999999999996,
          0.7999999999999996,
          0.8099999999999996,
          0.8199999999999996,
          0.8299999999999996,
          0.8399999999999996,
          0.8499999999999996,
          0.8599999999999995,
          0.8699999999999996,
          0.8799999999999996,
          0.8899999999999996,
          0.8999999999999996,
          0.9099999999999996,
          0.9199999999999996,
          0.9299999999999996,
          0.9399999999999996,
          0.9499999999999995,
          0.9599999999999995,
          0.9699999999999995,
          0.9799999999999995,
          0.9899999999999995
         ],
         "xaxis": "x",
         "y": [
          0.380490210882483,
          0.3459001917113482,
          0.3170751757354025,
          0.29268477760191003,
          0.2717787220589165,
          0.25366014058832204,
          0.23780638180155192,
          0.223817771107343,
          0.21138345049026835,
          0.20025800572762267,
          0.19024510544124157,
          0.18118581470594433,
          0.17295009585567414,
          0.16543052647064482,
          0.15853758786770128,
          0.15219608435299325,
          0.14634238880095507,
          0.14092230032684563,
          0.13588936102945828,
          0.13120352099395968,
          0.12683007029416102,
          0.12273877770402679,
          0.11890319090077597,
          0.11530006390378278,
          0.11190888555367152,
          0.10871148882356661,
          0.1056917252451342,
          0.10283519213040085,
          0.10012900286381134,
          0.09756159253397002,
          0.0951225527206208,
          0.09280249045914224,
          0.09059290735297218,
          0.08848609555406585,
          0.08647504792783708,
          0.08455338019610738,
          0.08271526323532243,
          0.0809553640175496,
          0.07926879393385067,
          0.07765106344540473,
          0.07609804217649663,
          0.07460592370244767,
          0.07317119440047753,
          0.07179060582688362,
          0.07046115016342282,
          0.06918003834226967,
          0.06794468051472916,
          0.06675266857587424,
          0.06560176049697986,
          0.06448986625126833,
          0.06341503514708052,
          0.06237544440696445,
          0.061369388852013415,
          0.06039527156864813,
          0.059451595450388,
          0.05853695552038203,
          0.05765003195189139,
          0.05678958371380346,
          0.05595444277683576,
          0.055143508823548286,
          0.05435574441178331,
          0.05359017054682862,
          0.052845862622567116,
          0.052121946696230576,
          0.051417596065200424,
          0.050732028117664425,
          0.05006450143190568,
          0.0494143131016212,
          0.048780796266985026,
          0.04816331783322572,
          0.0475612763603104,
          0.04697410010894855,
          0.04640124522957112,
          0.04584219408222689,
          0.04529645367648609,
          0.04476355422146861,
          0.04424304777703293,
          0.043734506997986575,
          0.04323752396391855,
          0.04275170908791946,
          0.04227669009805369,
          0.04181211108598717,
          0.04135763161766121,
          0.04091292590134228,
          0.04047768200877481,
          0.04005160114552454,
          0.039634396966925334,
          0.03922579493633847,
          0.03882553172270237,
          0.03843335463459426
         ],
         "yaxis": "y"
        },
        {
         "hovertemplate": "Technology=Wind<br>DiscountRate=0.08<br>LoadFactor=%{x}<br>LCOE=%{y}<extra></extra>",
         "legendgroup": "Wind",
         "line": {
          "color": "#FFA15A",
          "dash": "solid"
         },
         "mode": "lines",
         "name": "Wind",
         "orientation": "v",
         "showlegend": true,
         "type": "scatter",
         "x": [
          0.1,
          0.11,
          0.12,
          0.13,
          0.13999999999999999,
          0.14999999999999997,
          0.15999999999999998,
          0.16999999999999998,
          0.17999999999999997,
          0.18999999999999995,
          0.19999999999999996,
          0.20999999999999996,
          0.21999999999999995,
          0.22999999999999995,
          0.23999999999999994,
          0.24999999999999992,
          0.2599999999999999,
          0.2699999999999999,
          0.2799999999999999,
          0.2899999999999999,
          0.29999999999999993,
          0.30999999999999994,
          0.3199999999999999,
          0.32999999999999985,
          0.33999999999999986,
          0.34999999999999987,
          0.3599999999999999,
          0.3699999999999999,
          0.3799999999999999,
          0.3899999999999999,
          0.3999999999999998,
          0.4099999999999998,
          0.4199999999999998,
          0.4299999999999998,
          0.43999999999999984,
          0.44999999999999984,
          0.45999999999999985,
          0.46999999999999986,
          0.47999999999999976,
          0.48999999999999977,
          0.4999999999999998,
          0.5099999999999998,
          0.5199999999999998,
          0.5299999999999998,
          0.5399999999999998,
          0.5499999999999998,
          0.5599999999999997,
          0.5699999999999997,
          0.5799999999999997,
          0.5899999999999997,
          0.5999999999999998,
          0.6099999999999998,
          0.6199999999999998,
          0.6299999999999997,
          0.6399999999999997,
          0.6499999999999997,
          0.6599999999999997,
          0.6699999999999997,
          0.6799999999999997,
          0.6899999999999997,
          0.6999999999999996,
          0.7099999999999996,
          0.7199999999999996,
          0.7299999999999996,
          0.7399999999999997,
          0.7499999999999997,
          0.7599999999999997,
          0.7699999999999997,
          0.7799999999999997,
          0.7899999999999996,
          0.7999999999999996,
          0.8099999999999996,
          0.8199999999999996,
          0.8299999999999996,
          0.8399999999999996,
          0.8499999999999996,
          0.8599999999999995,
          0.8699999999999996,
          0.8799999999999996,
          0.8899999999999996,
          0.8999999999999996,
          0.9099999999999996,
          0.9199999999999996,
          0.9299999999999996,
          0.9399999999999996,
          0.9499999999999995,
          0.9599999999999995,
          0.9699999999999995,
          0.9799999999999995,
          0.9899999999999995
         ],
         "xaxis": "x",
         "y": [
          0.12110448890406923,
          0.11009498991279021,
          0.10092040742005769,
          0.09315729915697632,
          0.08650320636004945,
          0.08073632593604617,
          0.07569030556504329,
          0.0712379346494525,
          0.0672802716133718,
          0.06373920468635225,
          0.06055224445203462,
          0.05766880424003297,
          0.05504749495639512,
          0.05265412561046489,
          0.05046020371002885,
          0.0484417955616277,
          0.046578649578488174,
          0.044853514408914545,
          0.04325160318002473,
          0.041760168587610086,
          0.040368162968023084,
          0.03906596416260298,
          0.037845152782521645,
          0.03669832997093008,
          0.035618967324726254,
          0.03460128254401979,
          0.03364013580668591,
          0.032730942947045746,
          0.03186960234317612,
          0.031052433052325447,
          0.030276122226017322,
          0.029537680220504705,
          0.028834402120016495,
          0.028163834628853322,
          0.02752374747819756,
          0.026912108645348726,
          0.02632706280523245,
          0.025766912532780694,
          0.025230101855014436,
          0.024715201817156994,
          0.024220897780813856,
          0.023745978216484172,
          0.023289324789244087,
          0.02284990356680552,
          0.022426757204457273,
          0.022018997982558047,
          0.02162580159001237,
          0.021246401562117417,
          0.020880084293805046,
          0.02052618456001174,
          0.020184081484011546,
          0.019853194902306436,
          0.019532982081301494,
          0.01922293474667766,
          0.018922576391260822,
          0.01863145983139527,
          0.01834916498546504,
          0.018075296851353624,
          0.017809483662363127,
          0.0175513752034883,
          0.0173006412720099,
          0.017056970268178772,
          0.016820067903342957,
          0.016589656014256066,
          0.016365471473522877,
          0.016147265187209235,
          0.01593480117158806,
          0.01572785570182718,
          0.015526216526162727,
          0.015329682139755605,
          0.015138061113008661,
          0.014951171469638183,
          0.014768840110252352,
          0.014590902277598707,
          0.014417201060008248,
          0.014247586929890503,
          0.014081917314426661,
          0.013920056195870032,
          0.013761873739098783,
          0.013607245944277448,
          0.013456054322674365,
          0.013308185593853768,
          0.013163531402616224,
          0.013021988054200996,
          0.012883456266390347,
          0.012747840937270452,
          0.012615050927507218,
          0.012484998856089616,
          0.012357600908578497,
          0.012232776656976694
         ],
         "yaxis": "y"
        }
       ],
       "layout": {
        "annotations": [
         {
          "font": {},
          "showarrow": false,
          "text": "DiscountRate=0.08",
          "x": 0.5,
          "xanchor": "center",
          "xref": "paper",
          "y": 1,
          "yanchor": "bottom",
          "yref": "paper"
         }
        ],
        "legend": {
         "title": {
          "text": "Technology"
         },
         "tracegroupgap": 0
        },
        "margin": {
         "t": 60
        },
        "template": {
         "data": {
          "bar": [
           {
            "error_x": {
             "color": "#2a3f5f"
            },
            "error_y": {
             "color": "#2a3f5f"
            },
            "marker": {
             "line": {
              "color": "#E5ECF6",
              "width": 0.5
             }
            },
            "type": "bar"
           }
          ],
          "barpolar": [
           {
            "marker": {
             "line": {
              "color": "#E5ECF6",
              "width": 0.5
             }
            },
            "type": "barpolar"
           }
          ],
          "carpet": [
           {
            "aaxis": {
             "endlinecolor": "#2a3f5f",
             "gridcolor": "white",
             "linecolor": "white",
             "minorgridcolor": "white",
             "startlinecolor": "#2a3f5f"
            },
            "baxis": {
             "endlinecolor": "#2a3f5f",
             "gridcolor": "white",
             "linecolor": "white",
             "minorgridcolor": "white",
             "startlinecolor": "#2a3f5f"
            },
            "type": "carpet"
           }
          ],
          "choropleth": [
           {
            "colorbar": {
             "outlinewidth": 0,
             "ticks": ""
            },
            "type": "choropleth"
           }
          ],
          "contour": [
           {
            "colorbar": {
             "outlinewidth": 0,
             "ticks": ""
            },
            "colorscale": [
             [
              0,
              "#0d0887"
             ],
             [
              0.1111111111111111,
              "#46039f"
             ],
             [
              0.2222222222222222,
              "#7201a8"
             ],
             [
              0.3333333333333333,
              "#9c179e"
             ],
             [
              0.4444444444444444,
              "#bd3786"
             ],
             [
              0.5555555555555556,
              "#d8576b"
             ],
             [
              0.6666666666666666,
              "#ed7953"
             ],
             [
              0.7777777777777778,
              "#fb9f3a"
             ],
             [
              0.8888888888888888,
              "#fdca26"
             ],
             [
              1,
              "#f0f921"
             ]
            ],
            "type": "contour"
           }
          ],
          "contourcarpet": [
           {
            "colorbar": {
             "outlinewidth": 0,
             "ticks": ""
            },
            "type": "contourcarpet"
           }
          ],
          "heatmap": [
           {
            "colorbar": {
             "outlinewidth": 0,
             "ticks": ""
            },
            "colorscale": [
             [
              0,
              "#0d0887"
             ],
             [
              0.1111111111111111,
              "#46039f"
             ],
             [
              0.2222222222222222,
              "#7201a8"
             ],
             [
              0.3333333333333333,
              "#9c179e"
             ],
             [
              0.4444444444444444,
              "#bd3786"
             ],
             [
              0.5555555555555556,
              "#d8576b"
             ],
             [
              0.6666666666666666,
              "#ed7953"
             ],
             [
              0.7777777777777778,
              "#fb9f3a"
             ],
             [
              0.8888888888888888,
              "#fdca26"
             ],
             [
              1,
              "#f0f921"
             ]
            ],
            "type": "heatmap"
           }
          ],
          "heatmapgl": [
           {
            "colorbar": {
             "outlinewidth": 0,
             "ticks": ""
            },
            "colorscale": [
             [
              0,
              "#0d0887"
             ],
             [
              0.1111111111111111,
              "#46039f"
             ],
             [
              0.2222222222222222,
              "#7201a8"
             ],
             [
              0.3333333333333333,
              "#9c179e"
             ],
             [
              0.4444444444444444,
              "#bd3786"
             ],
             [
              0.5555555555555556,
              "#d8576b"
             ],
             [
              0.6666666666666666,
              "#ed7953"
             ],
             [
              0.7777777777777778,
              "#fb9f3a"
             ],
             [
              0.8888888888888888,
              "#fdca26"
             ],
             [
              1,
              "#f0f921"
             ]
            ],
            "type": "heatmapgl"
           }
          ],
          "histogram": [
           {
            "marker": {
             "colorbar": {
              "outlinewidth": 0,
              "ticks": ""
             }
            },
            "type": "histogram"
           }
          ],
          "histogram2d": [
           {
            "colorbar": {
             "outlinewidth": 0,
             "ticks": ""
            },
            "colorscale": [
             [
              0,
              "#0d0887"
             ],
             [
              0.1111111111111111,
              "#46039f"
             ],
             [
              0.2222222222222222,
              "#7201a8"
             ],
             [
              0.3333333333333333,
              "#9c179e"
             ],
             [
              0.4444444444444444,
              "#bd3786"
             ],
             [
              0.5555555555555556,
              "#d8576b"
             ],
             [
              0.6666666666666666,
              "#ed7953"
             ],
             [
              0.7777777777777778,
              "#fb9f3a"
             ],
             [
              0.8888888888888888,
              "#fdca26"
             ],
             [
              1,
              "#f0f921"
             ]
            ],
            "type": "histogram2d"
           }
          ],
          "histogram2dcontour": [
           {
            "colorbar": {
             "outlinewidth": 0,
             "ticks": ""
            },
            "colorscale": [
             [
              0,
              "#0d0887"
             ],
             [
              0.1111111111111111,
              "#46039f"
             ],
             [
              0.2222222222222222,
              "#7201a8"
             ],
             [
              0.3333333333333333,
              "#9c179e"
             ],
             [
              0.4444444444444444,
              "#bd3786"
             ],
             [
              0.5555555555555556,
              "#d8576b"
             ],
             [
              0.6666666666666666,
              "#ed7953"
             ],
             [
              0.7777777777777778,
              "#fb9f3a"
             ],
             [
              0.8888888888888888,
              "#fdca26"
             ],
             [
              1,
              "#f0f921"
             ]
            ],
            "type": "histogram2dcontour"
           }
          ],
          "mesh3d": [
           {
            "colorbar": {
             "outlinewidth": 0,
             "ticks": ""
            },
            "type": "mesh3d"
           }
          ],
          "parcoords": [
           {
            "line": {
             "colorbar": {
              "outlinewidth": 0,
              "ticks": ""
             }
            },
            "type": "parcoords"
           }
          ],
          "pie": [
           {
            "automargin": true,
            "type": "pie"
           }
          ],
          "scatter": [
           {
            "marker": {
             "colorbar": {
              "outlinewidth": 0,
              "ticks": ""
             }
            },
            "type": "scatter"
           }
          ],
          "scatter3d": [
           {
            "line": {
             "colorbar": {
              "outlinewidth": 0,
              "ticks": ""
             }
            },
            "marker": {
             "colorbar": {
              "outlinewidth": 0,
              "ticks": ""
             }
            },
            "type": "scatter3d"
           }
          ],
          "scattercarpet": [
           {
            "marker": {
             "colorbar": {
              "outlinewidth": 0,
              "ticks": ""
             }
            },
            "type": "scattercarpet"
           }
          ],
          "scattergeo": [
           {
            "marker": {
             "colorbar": {
              "outlinewidth": 0,
              "ticks": ""
             }
            },
            "type": "scattergeo"
           }
          ],
          "scattergl": [
           {
            "marker": {
             "colorbar": {
              "outlinewidth": 0,
              "ticks": ""
             }
            },
            "type": "scattergl"
           }
          ],
          "scattermapbox": [
           {
            "marker": {
             "colorbar": {
              "outlinewidth": 0,
              "ticks": ""
             }
            },
            "type": "scattermapbox"
           }
          ],
          "scatterpolar": [
           {
            "marker": {
             "colorbar": {
              "outlinewidth": 0,
              "ticks": ""
             }
            },
            "type": "scatterpolar"
           }
          ],
          "scatterpolargl": [
           {
            "marker": {
             "colorbar": {
              "outlinewidth": 0,
              "ticks": ""
             }
            },
            "type": "scatterpolargl"
           }
          ],
          "scatterternary": [
           {
            "marker": {
             "colorbar": {
              "outlinewidth": 0,
              "ticks": ""
             }
            },
            "type": "scatterternary"
           }
          ],
          "surface": [
           {
            "colorbar": {
             "outlinewidth": 0,
             "ticks": ""
            },
            "colorscale": [
             [
              0,
              "#0d0887"
             ],
             [
              0.1111111111111111,
              "#46039f"
             ],
             [
              0.2222222222222222,
              "#7201a8"
             ],
             [
              0.3333333333333333,
              "#9c179e"
             ],
             [
              0.4444444444444444,
              "#bd3786"
             ],
             [
              0.5555555555555556,
              "#d8576b"
             ],
             [
              0.6666666666666666,
              "#ed7953"
             ],
             [
              0.7777777777777778,
              "#fb9f3a"
             ],
             [
              0.8888888888888888,
              "#fdca26"
             ],
             [
              1,
              "#f0f921"
             ]
            ],
            "type": "surface"
           }
          ],
          "table": [
           {
            "cells": {
             "fill": {
              "color": "#EBF0F8"
             },
             "line": {
              "color": "white"
             }
            },
            "header": {
             "fill": {
              "color": "#C8D4E3"
             },
             "line": {
              "color": "white"
             }
            },
            "type": "table"
           }
          ]
         },
         "layout": {
          "annotationdefaults": {
           "arrowcolor": "#2a3f5f",
           "arrowhead": 0,
           "arrowwidth": 1
          },
          "coloraxis": {
           "colorbar": {
            "outlinewidth": 0,
            "ticks": ""
           }
          },
          "colorscale": {
           "diverging": [
            [
             0,
             "#8e0152"
            ],
            [
             0.1,
             "#c51b7d"
            ],
            [
             0.2,
             "#de77ae"
            ],
            [
             0.3,
             "#f1b6da"
            ],
            [
             0.4,
             "#fde0ef"
            ],
            [
             0.5,
             "#f7f7f7"
            ],
            [
             0.6,
             "#e6f5d0"
            ],
            [
             0.7,
             "#b8e186"
            ],
            [
             0.8,
             "#7fbc41"
            ],
            [
             0.9,
             "#4d9221"
            ],
            [
             1,
             "#276419"
            ]
           ],
           "sequential": [
            [
             0,
             "#0d0887"
            ],
            [
             0.1111111111111111,
             "#46039f"
            ],
            [
             0.2222222222222222,
             "#7201a8"
            ],
            [
             0.3333333333333333,
             "#9c179e"
            ],
            [
             0.4444444444444444,
             "#bd3786"
            ],
            [
             0.5555555555555556,
             "#d8576b"
            ],
            [
             0.6666666666666666,
             "#ed7953"
            ],
            [
             0.7777777777777778,
             "#fb9f3a"
            ],
            [
             0.8888888888888888,
             "#fdca26"
            ],
            [
             1,
             "#f0f921"
            ]
           ],
           "sequentialminus": [
            [
             0,
             "#0d0887"
            ],
            [
             0.1111111111111111,
             "#46039f"
            ],
            [
             0.2222222222222222,
             "#7201a8"
            ],
            [
             0.3333333333333333,
             "#9c179e"
            ],
            [
             0.4444444444444444,
             "#bd3786"
            ],
            [
             0.5555555555555556,
             "#d8576b"
            ],
            [
             0.6666666666666666,
             "#ed7953"
            ],
            [
             0.7777777777777778,
             "#fb9f3a"
            ],
            [
             0.8888888888888888,
             "#fdca26"
            ],
            [
             1,
             "#f0f921"
            ]
           ]
          },
          "colorway": [
           "#636efa",
           "#EF553B",
           "#00cc96",
           "#ab63fa",
           "#FFA15A",
           "#19d3f3",
           "#FF6692",
           "#B6E880",
           "#FF97FF",
           "#FECB52"
          ],
          "font": {
           "color": "#2a3f5f"
          },
          "geo": {
           "bgcolor": "white",
           "lakecolor": "white",
           "landcolor": "#E5ECF6",
           "showlakes": true,
           "showland": true,
           "subunitcolor": "white"
          },
          "hoverlabel": {
           "align": "left"
          },
          "hovermode": "closest",
          "mapbox": {
           "style": "light"
          },
          "paper_bgcolor": "white",
          "plot_bgcolor": "#E5ECF6",
          "polar": {
           "angularaxis": {
            "gridcolor": "white",
            "linecolor": "white",
            "ticks": ""
           },
           "bgcolor": "#E5ECF6",
           "radialaxis": {
            "gridcolor": "white",
            "linecolor": "white",
            "ticks": ""
           }
          },
          "scene": {
           "xaxis": {
            "backgroundcolor": "#E5ECF6",
            "gridcolor": "white",
            "gridwidth": 2,
            "linecolor": "white",
            "showbackground": true,
            "ticks": "",
            "zerolinecolor": "white"
           },
           "yaxis": {
            "backgroundcolor": "#E5ECF6",
            "gridcolor": "white",
            "gridwidth": 2,
            "linecolor": "white",
            "showbackground": true,
            "ticks": "",
            "zerolinecolor": "white"
           },
           "zaxis": {
            "backgroundcolor": "#E5ECF6",
            "gridcolor": "white",
            "gridwidth": 2,
            "linecolor": "white",
            "showbackground": true,
            "ticks": "",
            "zerolinecolor": "white"
           }
          },
          "shapedefaults": {
           "line": {
            "color": "#2a3f5f"
           }
          },
          "ternary": {
           "aaxis": {
            "gridcolor": "white",
            "linecolor": "white",
            "ticks": ""
           },
           "baxis": {
            "gridcolor": "white",
            "linecolor": "white",
            "ticks": ""
           },
           "bgcolor": "#E5ECF6",
           "caxis": {
            "gridcolor": "white",
            "linecolor": "white",
            "ticks": ""
           }
          },
          "title": {
           "x": 0.05
          },
          "xaxis": {
           "automargin": true,
           "gridcolor": "white",
           "linecolor": "white",
           "ticks": "",
           "title": {
            "standoff": 15
           },
           "zerolinecolor": "white",
           "zerolinewidth": 2
          },
          "yaxis": {
           "automargin": true,
           "gridcolor": "white",
           "linecolor": "white",
           "ticks": "",
           "title": {
            "standoff": 15
           },
           "zerolinecolor": "white",
           "zerolinewidth": 2
          }
         }
        },
        "xaxis": {
         "anchor": "y",
         "domain": [
          0,
          1
         ],
         "title": {
          "text": "LoadFactor"
         }
        },
        "yaxis": {
         "anchor": "x",
         "domain": [
          0,
          1
         ],
         "title": {
          "text": "LCOE"
         }
        }
       }
      },
      "text/html": [
       "<div>                            <div id=\"5a0f461a-dc14-4c09-a56a-a752d8648cc7\" class=\"plotly-graph-div\" style=\"height:525px; width:100%;\"></div>            <script type=\"text/javascript\">                require([\"plotly\"], function(Plotly) {                    window.PLOTLYENV=window.PLOTLYENV || {};                                    if (document.getElementById(\"5a0f461a-dc14-4c09-a56a-a752d8648cc7\")) {                    Plotly.newPlot(                        \"5a0f461a-dc14-4c09-a56a-a752d8648cc7\",                        [{\"hovertemplate\": \"Technology=CCGT<br>DiscountRate=0.08<br>LoadFactor=%{x}<br>LCOE=%{y}<extra></extra>\", \"legendgroup\": \"CCGT\", \"line\": {\"color\": \"#636efa\", \"dash\": \"solid\"}, \"mode\": \"lines\", \"name\": \"CCGT\", \"orientation\": \"v\", \"showlegend\": true, \"type\": \"scatter\", \"x\": [0.1, 0.11, 0.12, 0.13, 0.13999999999999999, 0.14999999999999997, 0.15999999999999998, 0.16999999999999998, 0.17999999999999997, 0.18999999999999995, 0.19999999999999996, 0.20999999999999996, 0.21999999999999995, 0.22999999999999995, 0.23999999999999994, 0.24999999999999992, 0.2599999999999999, 0.2699999999999999, 0.2799999999999999, 0.2899999999999999, 0.29999999999999993, 0.30999999999999994, 0.3199999999999999, 0.32999999999999985, 0.33999999999999986, 0.34999999999999987, 0.3599999999999999, 0.3699999999999999, 0.3799999999999999, 0.3899999999999999, 0.3999999999999998, 0.4099999999999998, 0.4199999999999998, 0.4299999999999998, 0.43999999999999984, 0.44999999999999984, 0.45999999999999985, 0.46999999999999986, 0.47999999999999976, 0.48999999999999977, 0.4999999999999998, 0.5099999999999998, 0.5199999999999998, 0.5299999999999998, 0.5399999999999998, 0.5499999999999998, 0.5599999999999997, 0.5699999999999997, 0.5799999999999997, 0.5899999999999997, 0.5999999999999998, 0.6099999999999998, 0.6199999999999998, 0.6299999999999997, 0.6399999999999997, 0.6499999999999997, 0.6599999999999997, 0.6699999999999997, 0.6799999999999997, 0.6899999999999997, 0.6999999999999996, 0.7099999999999996, 0.7199999999999996, 0.7299999999999996, 0.7399999999999997, 0.7499999999999997, 0.7599999999999997, 0.7699999999999997, 0.7799999999999997, 0.7899999999999996, 0.7999999999999996, 0.8099999999999996, 0.8199999999999996, 0.8299999999999996, 0.8399999999999996, 0.8499999999999996, 0.8599999999999995, 0.8699999999999996, 0.8799999999999996, 0.8899999999999996, 0.8999999999999996, 0.9099999999999996, 0.9199999999999996, 0.9299999999999996, 0.9399999999999996, 0.9499999999999995, 0.9599999999999995, 0.9699999999999995, 0.9799999999999995, 0.9899999999999995], \"xaxis\": \"x\", \"y\": [0.13768802246002043, 0.13062547496365495, 0.12474001871668366, 0.1197600172769388, 0.1154914446143003, 0.11179201497334697, 0.10855501403751276, 0.10569883674118848, 0.10316001247778912, 0.10088843287369496, 0.09884401123001021, 0.09699429640953354, 0.09531273748182748, 0.0937774010695741, 0.09237000935834185, 0.09107520898400819, 0.08988000863846941, 0.08877334165185943, 0.08774572230715016, 0.08678897326207602, 0.08589600748667348, 0.0850606524064582, 0.0842775070187564, 0.08354182498788498, 0.08284941837059424, 0.08219657784572014, 0.08158000623889458, 0.08099676282703255, 0.08044421643684749, 0.07992000575897959, 0.07942200561500512, 0.0789482981609806, 0.07849714820476676, 0.07806698196744662, 0.07765636874091374, 0.07726400499111566, 0.07688870053478707, 0.07652936648085541, 0.07618500467917094, 0.07585469846122866, 0.0755376044920041, 0.07523294558039617, 0.0749400043192347, 0.07465811744528689, 0.0743866708259297, 0.074125094992731, 0.07387286115357508, 0.073629477624565, 0.07339448663103801, 0.07316746143390176, 0.07294800374333675, 0.0727357413868886, 0.0725303262032291, 0.07233143213651119, 0.07213875350937819, 0.07195200345538776, 0.07177091249394249, 0.07159522723283888, 0.07142470918529713, 0.07125913368985803, 0.07109828892286008, 0.07094197499436908, 0.07079000311944729, 0.07064219485753705, 0.07049838141351629, 0.07035840299466939, 0.07022210821842374, 0.07008935356623643, 0.06996000287948981, 0.06983392689367347, 0.06971100280750256, 0.06959111388395314, 0.06947414908049031, 0.06936000270602657, 0.06924857410238339, 0.0691397673482377, 0.0690334909837233, 0.06892965775402533, 0.06882818437045687, 0.06872899128764275, 0.06863200249555784, 0.06853714532527698, 0.06844435026739353, 0.06835355080215273, 0.06826468324042771, 0.068177686574739, 0.06809250233958547, 0.06800907448041447, 0.06792734923061433, 0.06784727499596166], \"yaxis\": \"y\"}, {\"hovertemplate\": \"Technology=Coal<br>DiscountRate=0.08<br>LoadFactor=%{x}<br>LCOE=%{y}<extra></extra>\", \"legendgroup\": \"Coal\", \"line\": {\"color\": \"#EF553B\", \"dash\": \"solid\"}, \"mode\": \"lines\", \"name\": \"Coal\", \"orientation\": \"v\", \"showlegend\": true, \"type\": \"scatter\", \"x\": [0.1, 0.11, 0.12, 0.13, 0.13999999999999999, 0.14999999999999997, 0.15999999999999998, 0.16999999999999998, 0.17999999999999997, 0.18999999999999995, 0.19999999999999996, 0.20999999999999996, 0.21999999999999995, 0.22999999999999995, 0.23999999999999994, 0.24999999999999992, 0.2599999999999999, 0.2699999999999999, 0.2799999999999999, 0.2899999999999999, 0.29999999999999993, 0.30999999999999994, 0.3199999999999999, 0.32999999999999985, 0.33999999999999986, 0.34999999999999987, 0.3599999999999999, 0.3699999999999999, 0.3799999999999999, 0.3899999999999999, 0.3999999999999998, 0.4099999999999998, 0.4199999999999998, 0.4299999999999998, 0.43999999999999984, 0.44999999999999984, 0.45999999999999985, 0.46999999999999986, 0.47999999999999976, 0.48999999999999977, 0.4999999999999998, 0.5099999999999998, 0.5199999999999998, 0.5299999999999998, 0.5399999999999998, 0.5499999999999998, 0.5599999999999997, 0.5699999999999997, 0.5799999999999997, 0.5899999999999997, 0.5999999999999998, 0.6099999999999998, 0.6199999999999998, 0.6299999999999997, 0.6399999999999997, 0.6499999999999997, 0.6599999999999997, 0.6699999999999997, 0.6799999999999997, 0.6899999999999997, 0.6999999999999996, 0.7099999999999996, 0.7199999999999996, 0.7299999999999996, 0.7399999999999997, 0.7499999999999997, 0.7599999999999997, 0.7699999999999997, 0.7799999999999997, 0.7899999999999996, 0.7999999999999996, 0.8099999999999996, 0.8199999999999996, 0.8299999999999996, 0.8399999999999996, 0.8499999999999996, 0.8599999999999995, 0.8699999999999996, 0.8799999999999996, 0.8899999999999996, 0.8999999999999996, 0.9099999999999996, 0.9199999999999996, 0.9299999999999996, 0.9399999999999996, 0.9499999999999995, 0.9599999999999995, 0.9699999999999995, 0.9799999999999995, 0.9899999999999995], \"xaxis\": \"x\", \"y\": [0.21209467394021625, 0.1950860672183784, 0.1809122282835135, 0.16891897995401248, 0.15863905281444016, 0.14972978262681083, 0.14193417121263513, 0.1350556905530684, 0.1289414855223424, 0.12347088102116646, 0.11854733697010814, 0.11409270187629346, 0.11004303360918921, 0.10634551040878969, 0.10295611414175677, 0.09983786957608652, 0.09695948997700626, 0.09429432368156158, 0.0918195264072201, 0.08951540480697112, 0.08736489131340541, 0.08535312062587622, 0.08346708560631759, 0.08169535573945949, 0.08002784527653421, 0.07845562112577607, 0.07697074276117119, 0.07556612809195033, 0.07423544051058323, 0.07297299331800418, 0.07177366848505408, 0.07063284730249177, 0.06954635093814673, 0.0685103892884224, 0.0675215168045946, 0.06657659420893695, 0.06567275520439485, 0.06480737743408857, 0.0639780570708784, 0.06318258651841148, 0.06241893478804326, 0.06168523018435613, 0.060979744988503136, 0.06030088187551251, 0.059647161840780796, 0.059017213443675685, 0.058409763203610056, 0.057823627007055484, 0.057257702403485565, 0.056710961684782416, 0.05618244565670271, 0.05567125802298628, 0.05517656031293811, 0.05469756729209783, 0.0542335428031588, 0.05378379599080251, 0.05334767786972975, 0.05292457820003228, 0.0525139226382671, 0.05211517013626324, 0.051727810562888055, 0.05135136252679103, 0.0509853713805856, 0.05062940738907072, 0.05028306404597518, 0.04994595652536218, 0.049617720255291625, 0.0492980096026255, 0.048986496659002086, 0.048682870119014725, 0.04838683424252704, 0.048098107893853874, 0.04781642365124588, 0.04754152698074895, 0.04727317546907337, 0.047011138110613686, 0.0467551946442112, 0.04650513493565704, 0.046260758402297306, 0.04602187347642879, 0.04578829710446848, 0.04555985427914465, 0.045336377602197414, 0.04511770687529207, 0.04490368871704428, 0.04469417620423329, 0.04448902853543919, 0.04428811071548622, 0.04409129325920574, 0.04389845191315316], \"yaxis\": \"y\"}, {\"hovertemplate\": \"Technology=Nuclear<br>DiscountRate=0.08<br>LoadFactor=%{x}<br>LCOE=%{y}<extra></extra>\", \"legendgroup\": \"Nuclear\", \"line\": {\"color\": \"#00cc96\", \"dash\": \"solid\"}, \"mode\": \"lines\", \"name\": \"Nuclear\", \"orientation\": \"v\", \"showlegend\": true, \"type\": \"scatter\", \"x\": [0.1, 0.11, 0.12, 0.13, 0.13999999999999999, 0.14999999999999997, 0.15999999999999998, 0.16999999999999998, 0.17999999999999997, 0.18999999999999995, 0.19999999999999996, 0.20999999999999996, 0.21999999999999995, 0.22999999999999995, 0.23999999999999994, 0.24999999999999992, 0.2599999999999999, 0.2699999999999999, 0.2799999999999999, 0.2899999999999999, 0.29999999999999993, 0.30999999999999994, 0.3199999999999999, 0.32999999999999985, 0.33999999999999986, 0.34999999999999987, 0.3599999999999999, 0.3699999999999999, 0.3799999999999999, 0.3899999999999999, 0.3999999999999998, 0.4099999999999998, 0.4199999999999998, 0.4299999999999998, 0.43999999999999984, 0.44999999999999984, 0.45999999999999985, 0.46999999999999986, 0.47999999999999976, 0.48999999999999977, 0.4999999999999998, 0.5099999999999998, 0.5199999999999998, 0.5299999999999998, 0.5399999999999998, 0.5499999999999998, 0.5599999999999997, 0.5699999999999997, 0.5799999999999997, 0.5899999999999997, 0.5999999999999998, 0.6099999999999998, 0.6199999999999998, 0.6299999999999997, 0.6399999999999997, 0.6499999999999997, 0.6599999999999997, 0.6699999999999997, 0.6799999999999997, 0.6899999999999997, 0.6999999999999996, 0.7099999999999996, 0.7199999999999996, 0.7299999999999996, 0.7399999999999997, 0.7499999999999997, 0.7599999999999997, 0.7699999999999997, 0.7799999999999997, 0.7899999999999996, 0.7999999999999996, 0.8099999999999996, 0.8199999999999996, 0.8299999999999996, 0.8399999999999996, 0.8499999999999996, 0.8599999999999995, 0.8699999999999996, 0.8799999999999996, 0.8899999999999996, 0.8999999999999996, 0.9099999999999996, 0.9199999999999996, 0.9299999999999996, 0.9399999999999996, 0.9499999999999995, 0.9599999999999995, 0.9699999999999995, 0.9799999999999995, 0.9899999999999995], \"xaxis\": \"x\", \"y\": [0.40359045929231196, 0.3680367811748291, 0.33840871607692663, 0.31333881484023995, 0.29185032806593714, 0.2732269728615413, 0.25693153705769506, 0.24255321134841884, 0.2297724773846178, 0.218337083838059, 0.20804522964615604, 0.1987335520439581, 0.19026839058741454, 0.1825393301270922, 0.17545435803846335, 0.16893618371692484, 0.16291940742012007, 0.1573483182564119, 0.1521751640329686, 0.1473587790663145, 0.14286348643077068, 0.13865821267493939, 0.1347157685288475, 0.13101226039160974, 0.12752660567420945, 0.1242401312263749, 0.12113623869230893, 0.11820012413305735, 0.11541854191902949, 0.11277960494674667, 0.11027261482307803, 0.10788791690056394, 0.10561677602197908, 0.10345126960286329, 0.10138419529370729, 0.09940899095384714, 0.0975196650635461, 0.09571073601964086, 0.09397717901923171, 0.09231437944741065, 0.09071809185846243, 0.08918440378280627, 0.08770970371006002, 0.08629065269666265, 0.08492415912820594, 0.08360735623496585, 0.08233758201648432, 0.081112361279353, 0.07992938953315727, 0.07878651852412072, 0.07768174321538536, 0.07661319004792004, 0.07557910633746968, 0.0745778506813194, 0.07360788426442377, 0.07266776296804803, 0.07175613019580486, 0.07087171034213614, 0.07001330283710473, 0.06917977670903075, 0.06837006561318745, 0.06758316328060734, 0.06681811934615446, 0.06607403551949481, 0.06535006206652867, 0.06464539457230828, 0.06395927095951476, 0.06329096873926131, 0.06263980247337335, 0.062005121429406604, 0.06138630741153901, 0.060782772752137296, 0.06019395845028197, 0.059619332444856885, 0.05905838801098954, 0.058510642269683784, 0.057975634801431655, 0.05745292635543818, 0.05694209764685365, 0.05644274823509125, 0.05595449547692357, 0.05547697354860573, 0.05500983253177305, 0.05455273755831313, 0.05410536800982044, 0.05366741676761182, 0.05323858950961585, 0.05281860405075383, 0.052407189723705325, 0.052004086797203246], \"yaxis\": \"y\"}, {\"hovertemplate\": \"Technology=CSP<br>DiscountRate=0.08<br>LoadFactor=%{x}<br>LCOE=%{y}<extra></extra>\", \"legendgroup\": \"CSP\", \"line\": {\"color\": \"#ab63fa\", \"dash\": \"solid\"}, \"mode\": \"lines\", \"name\": \"CSP\", \"orientation\": \"v\", \"showlegend\": true, \"type\": \"scatter\", \"x\": [0.1, 0.11, 0.12, 0.13, 0.13999999999999999, 0.14999999999999997, 0.15999999999999998, 0.16999999999999998, 0.17999999999999997, 0.18999999999999995, 0.19999999999999996, 0.20999999999999996, 0.21999999999999995, 0.22999999999999995, 0.23999999999999994, 0.24999999999999992, 0.2599999999999999, 0.2699999999999999, 0.2799999999999999, 0.2899999999999999, 0.29999999999999993, 0.30999999999999994, 0.3199999999999999, 0.32999999999999985, 0.33999999999999986, 0.34999999999999987, 0.3599999999999999, 0.3699999999999999, 0.3799999999999999, 0.3899999999999999, 0.3999999999999998, 0.4099999999999998, 0.4199999999999998, 0.4299999999999998, 0.43999999999999984, 0.44999999999999984, 0.45999999999999985, 0.46999999999999986, 0.47999999999999976, 0.48999999999999977, 0.4999999999999998, 0.5099999999999998, 0.5199999999999998, 0.5299999999999998, 0.5399999999999998, 0.5499999999999998, 0.5599999999999997, 0.5699999999999997, 0.5799999999999997, 0.5899999999999997, 0.5999999999999998, 0.6099999999999998, 0.6199999999999998, 0.6299999999999997, 0.6399999999999997, 0.6499999999999997, 0.6599999999999997, 0.6699999999999997, 0.6799999999999997, 0.6899999999999997, 0.6999999999999996, 0.7099999999999996, 0.7199999999999996, 0.7299999999999996, 0.7399999999999997, 0.7499999999999997, 0.7599999999999997, 0.7699999999999997, 0.7799999999999997, 0.7899999999999996, 0.7999999999999996, 0.8099999999999996, 0.8199999999999996, 0.8299999999999996, 0.8399999999999996, 0.8499999999999996, 0.8599999999999995, 0.8699999999999996, 0.8799999999999996, 0.8899999999999996, 0.8999999999999996, 0.9099999999999996, 0.9199999999999996, 0.9299999999999996, 0.9399999999999996, 0.9499999999999995, 0.9599999999999995, 0.9699999999999995, 0.9799999999999995, 0.9899999999999995], \"xaxis\": \"x\", \"y\": [0.380490210882483, 0.3459001917113482, 0.3170751757354025, 0.29268477760191003, 0.2717787220589165, 0.25366014058832204, 0.23780638180155192, 0.223817771107343, 0.21138345049026835, 0.20025800572762267, 0.19024510544124157, 0.18118581470594433, 0.17295009585567414, 0.16543052647064482, 0.15853758786770128, 0.15219608435299325, 0.14634238880095507, 0.14092230032684563, 0.13588936102945828, 0.13120352099395968, 0.12683007029416102, 0.12273877770402679, 0.11890319090077597, 0.11530006390378278, 0.11190888555367152, 0.10871148882356661, 0.1056917252451342, 0.10283519213040085, 0.10012900286381134, 0.09756159253397002, 0.0951225527206208, 0.09280249045914224, 0.09059290735297218, 0.08848609555406585, 0.08647504792783708, 0.08455338019610738, 0.08271526323532243, 0.0809553640175496, 0.07926879393385067, 0.07765106344540473, 0.07609804217649663, 0.07460592370244767, 0.07317119440047753, 0.07179060582688362, 0.07046115016342282, 0.06918003834226967, 0.06794468051472916, 0.06675266857587424, 0.06560176049697986, 0.06448986625126833, 0.06341503514708052, 0.06237544440696445, 0.061369388852013415, 0.06039527156864813, 0.059451595450388, 0.05853695552038203, 0.05765003195189139, 0.05678958371380346, 0.05595444277683576, 0.055143508823548286, 0.05435574441178331, 0.05359017054682862, 0.052845862622567116, 0.052121946696230576, 0.051417596065200424, 0.050732028117664425, 0.05006450143190568, 0.0494143131016212, 0.048780796266985026, 0.04816331783322572, 0.0475612763603104, 0.04697410010894855, 0.04640124522957112, 0.04584219408222689, 0.04529645367648609, 0.04476355422146861, 0.04424304777703293, 0.043734506997986575, 0.04323752396391855, 0.04275170908791946, 0.04227669009805369, 0.04181211108598717, 0.04135763161766121, 0.04091292590134228, 0.04047768200877481, 0.04005160114552454, 0.039634396966925334, 0.03922579493633847, 0.03882553172270237, 0.03843335463459426], \"yaxis\": \"y\"}, {\"hovertemplate\": \"Technology=Wind<br>DiscountRate=0.08<br>LoadFactor=%{x}<br>LCOE=%{y}<extra></extra>\", \"legendgroup\": \"Wind\", \"line\": {\"color\": \"#FFA15A\", \"dash\": \"solid\"}, \"mode\": \"lines\", \"name\": \"Wind\", \"orientation\": \"v\", \"showlegend\": true, \"type\": \"scatter\", \"x\": [0.1, 0.11, 0.12, 0.13, 0.13999999999999999, 0.14999999999999997, 0.15999999999999998, 0.16999999999999998, 0.17999999999999997, 0.18999999999999995, 0.19999999999999996, 0.20999999999999996, 0.21999999999999995, 0.22999999999999995, 0.23999999999999994, 0.24999999999999992, 0.2599999999999999, 0.2699999999999999, 0.2799999999999999, 0.2899999999999999, 0.29999999999999993, 0.30999999999999994, 0.3199999999999999, 0.32999999999999985, 0.33999999999999986, 0.34999999999999987, 0.3599999999999999, 0.3699999999999999, 0.3799999999999999, 0.3899999999999999, 0.3999999999999998, 0.4099999999999998, 0.4199999999999998, 0.4299999999999998, 0.43999999999999984, 0.44999999999999984, 0.45999999999999985, 0.46999999999999986, 0.47999999999999976, 0.48999999999999977, 0.4999999999999998, 0.5099999999999998, 0.5199999999999998, 0.5299999999999998, 0.5399999999999998, 0.5499999999999998, 0.5599999999999997, 0.5699999999999997, 0.5799999999999997, 0.5899999999999997, 0.5999999999999998, 0.6099999999999998, 0.6199999999999998, 0.6299999999999997, 0.6399999999999997, 0.6499999999999997, 0.6599999999999997, 0.6699999999999997, 0.6799999999999997, 0.6899999999999997, 0.6999999999999996, 0.7099999999999996, 0.7199999999999996, 0.7299999999999996, 0.7399999999999997, 0.7499999999999997, 0.7599999999999997, 0.7699999999999997, 0.7799999999999997, 0.7899999999999996, 0.7999999999999996, 0.8099999999999996, 0.8199999999999996, 0.8299999999999996, 0.8399999999999996, 0.8499999999999996, 0.8599999999999995, 0.8699999999999996, 0.8799999999999996, 0.8899999999999996, 0.8999999999999996, 0.9099999999999996, 0.9199999999999996, 0.9299999999999996, 0.9399999999999996, 0.9499999999999995, 0.9599999999999995, 0.9699999999999995, 0.9799999999999995, 0.9899999999999995], \"xaxis\": \"x\", \"y\": [0.12110448890406923, 0.11009498991279021, 0.10092040742005769, 0.09315729915697632, 0.08650320636004945, 0.08073632593604617, 0.07569030556504329, 0.0712379346494525, 0.0672802716133718, 0.06373920468635225, 0.06055224445203462, 0.05766880424003297, 0.05504749495639512, 0.05265412561046489, 0.05046020371002885, 0.0484417955616277, 0.046578649578488174, 0.044853514408914545, 0.04325160318002473, 0.041760168587610086, 0.040368162968023084, 0.03906596416260298, 0.037845152782521645, 0.03669832997093008, 0.035618967324726254, 0.03460128254401979, 0.03364013580668591, 0.032730942947045746, 0.03186960234317612, 0.031052433052325447, 0.030276122226017322, 0.029537680220504705, 0.028834402120016495, 0.028163834628853322, 0.02752374747819756, 0.026912108645348726, 0.02632706280523245, 0.025766912532780694, 0.025230101855014436, 0.024715201817156994, 0.024220897780813856, 0.023745978216484172, 0.023289324789244087, 0.02284990356680552, 0.022426757204457273, 0.022018997982558047, 0.02162580159001237, 0.021246401562117417, 0.020880084293805046, 0.02052618456001174, 0.020184081484011546, 0.019853194902306436, 0.019532982081301494, 0.01922293474667766, 0.018922576391260822, 0.01863145983139527, 0.01834916498546504, 0.018075296851353624, 0.017809483662363127, 0.0175513752034883, 0.0173006412720099, 0.017056970268178772, 0.016820067903342957, 0.016589656014256066, 0.016365471473522877, 0.016147265187209235, 0.01593480117158806, 0.01572785570182718, 0.015526216526162727, 0.015329682139755605, 0.015138061113008661, 0.014951171469638183, 0.014768840110252352, 0.014590902277598707, 0.014417201060008248, 0.014247586929890503, 0.014081917314426661, 0.013920056195870032, 0.013761873739098783, 0.013607245944277448, 0.013456054322674365, 0.013308185593853768, 0.013163531402616224, 0.013021988054200996, 0.012883456266390347, 0.012747840937270452, 0.012615050927507218, 0.012484998856089616, 0.012357600908578497, 0.012232776656976694], \"yaxis\": \"y\"}],                        {\"annotations\": [{\"font\": {}, \"showarrow\": false, \"text\": \"DiscountRate=0.08\", \"x\": 0.5, \"xanchor\": \"center\", \"xref\": \"paper\", \"y\": 1.0, \"yanchor\": \"bottom\", \"yref\": \"paper\"}], \"legend\": {\"title\": {\"text\": \"Technology\"}, \"tracegroupgap\": 0}, \"margin\": {\"t\": 60}, \"template\": {\"data\": {\"bar\": [{\"error_x\": {\"color\": \"#2a3f5f\"}, \"error_y\": {\"color\": \"#2a3f5f\"}, \"marker\": {\"line\": {\"color\": \"#E5ECF6\", \"width\": 0.5}}, \"type\": \"bar\"}], \"barpolar\": [{\"marker\": {\"line\": {\"color\": \"#E5ECF6\", \"width\": 0.5}}, \"type\": \"barpolar\"}], \"carpet\": [{\"aaxis\": {\"endlinecolor\": \"#2a3f5f\", \"gridcolor\": \"white\", \"linecolor\": \"white\", \"minorgridcolor\": \"white\", \"startlinecolor\": \"#2a3f5f\"}, \"baxis\": {\"endlinecolor\": \"#2a3f5f\", \"gridcolor\": \"white\", \"linecolor\": \"white\", \"minorgridcolor\": \"white\", \"startlinecolor\": \"#2a3f5f\"}, \"type\": \"carpet\"}], \"choropleth\": [{\"colorbar\": {\"outlinewidth\": 0, \"ticks\": \"\"}, \"type\": \"choropleth\"}], \"contour\": [{\"colorbar\": {\"outlinewidth\": 0, \"ticks\": \"\"}, \"colorscale\": [[0.0, \"#0d0887\"], [0.1111111111111111, \"#46039f\"], [0.2222222222222222, \"#7201a8\"], [0.3333333333333333, \"#9c179e\"], [0.4444444444444444, \"#bd3786\"], [0.5555555555555556, \"#d8576b\"], [0.6666666666666666, \"#ed7953\"], [0.7777777777777778, \"#fb9f3a\"], [0.8888888888888888, \"#fdca26\"], [1.0, \"#f0f921\"]], \"type\": \"contour\"}], \"contourcarpet\": [{\"colorbar\": {\"outlinewidth\": 0, \"ticks\": \"\"}, \"type\": \"contourcarpet\"}], \"heatmap\": [{\"colorbar\": {\"outlinewidth\": 0, \"ticks\": \"\"}, \"colorscale\": [[0.0, \"#0d0887\"], [0.1111111111111111, \"#46039f\"], [0.2222222222222222, \"#7201a8\"], [0.3333333333333333, \"#9c179e\"], [0.4444444444444444, \"#bd3786\"], [0.5555555555555556, \"#d8576b\"], [0.6666666666666666, \"#ed7953\"], [0.7777777777777778, \"#fb9f3a\"], [0.8888888888888888, \"#fdca26\"], [1.0, \"#f0f921\"]], \"type\": \"heatmap\"}], \"heatmapgl\": [{\"colorbar\": {\"outlinewidth\": 0, \"ticks\": \"\"}, \"colorscale\": [[0.0, \"#0d0887\"], [0.1111111111111111, \"#46039f\"], [0.2222222222222222, \"#7201a8\"], [0.3333333333333333, \"#9c179e\"], [0.4444444444444444, \"#bd3786\"], [0.5555555555555556, \"#d8576b\"], [0.6666666666666666, \"#ed7953\"], [0.7777777777777778, \"#fb9f3a\"], [0.8888888888888888, \"#fdca26\"], [1.0, \"#f0f921\"]], \"type\": \"heatmapgl\"}], \"histogram\": [{\"marker\": {\"colorbar\": {\"outlinewidth\": 0, \"ticks\": \"\"}}, \"type\": \"histogram\"}], \"histogram2d\": [{\"colorbar\": {\"outlinewidth\": 0, \"ticks\": \"\"}, \"colorscale\": [[0.0, \"#0d0887\"], [0.1111111111111111, \"#46039f\"], [0.2222222222222222, \"#7201a8\"], [0.3333333333333333, \"#9c179e\"], [0.4444444444444444, \"#bd3786\"], [0.5555555555555556, \"#d8576b\"], [0.6666666666666666, \"#ed7953\"], [0.7777777777777778, \"#fb9f3a\"], [0.8888888888888888, \"#fdca26\"], [1.0, \"#f0f921\"]], \"type\": \"histogram2d\"}], \"histogram2dcontour\": [{\"colorbar\": {\"outlinewidth\": 0, \"ticks\": \"\"}, \"colorscale\": [[0.0, \"#0d0887\"], [0.1111111111111111, \"#46039f\"], [0.2222222222222222, \"#7201a8\"], [0.3333333333333333, \"#9c179e\"], [0.4444444444444444, \"#bd3786\"], [0.5555555555555556, \"#d8576b\"], [0.6666666666666666, \"#ed7953\"], [0.7777777777777778, \"#fb9f3a\"], [0.8888888888888888, \"#fdca26\"], [1.0, \"#f0f921\"]], \"type\": \"histogram2dcontour\"}], \"mesh3d\": [{\"colorbar\": {\"outlinewidth\": 0, \"ticks\": \"\"}, \"type\": \"mesh3d\"}], \"parcoords\": [{\"line\": {\"colorbar\": {\"outlinewidth\": 0, \"ticks\": \"\"}}, \"type\": \"parcoords\"}], \"pie\": [{\"automargin\": true, \"type\": \"pie\"}], \"scatter\": [{\"marker\": {\"colorbar\": {\"outlinewidth\": 0, \"ticks\": \"\"}}, \"type\": \"scatter\"}], \"scatter3d\": [{\"line\": {\"colorbar\": {\"outlinewidth\": 0, \"ticks\": \"\"}}, \"marker\": {\"colorbar\": {\"outlinewidth\": 0, \"ticks\": \"\"}}, \"type\": \"scatter3d\"}], \"scattercarpet\": [{\"marker\": {\"colorbar\": {\"outlinewidth\": 0, \"ticks\": \"\"}}, \"type\": \"scattercarpet\"}], \"scattergeo\": [{\"marker\": {\"colorbar\": {\"outlinewidth\": 0, \"ticks\": \"\"}}, \"type\": \"scattergeo\"}], \"scattergl\": [{\"marker\": {\"colorbar\": {\"outlinewidth\": 0, \"ticks\": \"\"}}, \"type\": \"scattergl\"}], \"scattermapbox\": [{\"marker\": {\"colorbar\": {\"outlinewidth\": 0, \"ticks\": \"\"}}, \"type\": \"scattermapbox\"}], \"scatterpolar\": [{\"marker\": {\"colorbar\": {\"outlinewidth\": 0, \"ticks\": \"\"}}, \"type\": \"scatterpolar\"}], \"scatterpolargl\": [{\"marker\": {\"colorbar\": {\"outlinewidth\": 0, \"ticks\": \"\"}}, \"type\": \"scatterpolargl\"}], \"scatterternary\": [{\"marker\": {\"colorbar\": {\"outlinewidth\": 0, \"ticks\": \"\"}}, \"type\": \"scatterternary\"}], \"surface\": [{\"colorbar\": {\"outlinewidth\": 0, \"ticks\": \"\"}, \"colorscale\": [[0.0, \"#0d0887\"], [0.1111111111111111, \"#46039f\"], [0.2222222222222222, \"#7201a8\"], [0.3333333333333333, \"#9c179e\"], [0.4444444444444444, \"#bd3786\"], [0.5555555555555556, \"#d8576b\"], [0.6666666666666666, \"#ed7953\"], [0.7777777777777778, \"#fb9f3a\"], [0.8888888888888888, \"#fdca26\"], [1.0, \"#f0f921\"]], \"type\": \"surface\"}], \"table\": [{\"cells\": {\"fill\": {\"color\": \"#EBF0F8\"}, \"line\": {\"color\": \"white\"}}, \"header\": {\"fill\": {\"color\": \"#C8D4E3\"}, \"line\": {\"color\": \"white\"}}, \"type\": \"table\"}]}, \"layout\": {\"annotationdefaults\": {\"arrowcolor\": \"#2a3f5f\", \"arrowhead\": 0, \"arrowwidth\": 1}, \"coloraxis\": {\"colorbar\": {\"outlinewidth\": 0, \"ticks\": \"\"}}, \"colorscale\": {\"diverging\": [[0, \"#8e0152\"], [0.1, \"#c51b7d\"], [0.2, \"#de77ae\"], [0.3, \"#f1b6da\"], [0.4, \"#fde0ef\"], [0.5, \"#f7f7f7\"], [0.6, \"#e6f5d0\"], [0.7, \"#b8e186\"], [0.8, \"#7fbc41\"], [0.9, \"#4d9221\"], [1, \"#276419\"]], \"sequential\": [[0.0, \"#0d0887\"], [0.1111111111111111, \"#46039f\"], [0.2222222222222222, \"#7201a8\"], [0.3333333333333333, \"#9c179e\"], [0.4444444444444444, \"#bd3786\"], [0.5555555555555556, \"#d8576b\"], [0.6666666666666666, \"#ed7953\"], [0.7777777777777778, \"#fb9f3a\"], [0.8888888888888888, \"#fdca26\"], [1.0, \"#f0f921\"]], \"sequentialminus\": [[0.0, \"#0d0887\"], [0.1111111111111111, \"#46039f\"], [0.2222222222222222, \"#7201a8\"], [0.3333333333333333, \"#9c179e\"], [0.4444444444444444, \"#bd3786\"], [0.5555555555555556, \"#d8576b\"], [0.6666666666666666, \"#ed7953\"], [0.7777777777777778, \"#fb9f3a\"], [0.8888888888888888, \"#fdca26\"], [1.0, \"#f0f921\"]]}, \"colorway\": [\"#636efa\", \"#EF553B\", \"#00cc96\", \"#ab63fa\", \"#FFA15A\", \"#19d3f3\", \"#FF6692\", \"#B6E880\", \"#FF97FF\", \"#FECB52\"], \"font\": {\"color\": \"#2a3f5f\"}, \"geo\": {\"bgcolor\": \"white\", \"lakecolor\": \"white\", \"landcolor\": \"#E5ECF6\", \"showlakes\": true, \"showland\": true, \"subunitcolor\": \"white\"}, \"hoverlabel\": {\"align\": \"left\"}, \"hovermode\": \"closest\", \"mapbox\": {\"style\": \"light\"}, \"paper_bgcolor\": \"white\", \"plot_bgcolor\": \"#E5ECF6\", \"polar\": {\"angularaxis\": {\"gridcolor\": \"white\", \"linecolor\": \"white\", \"ticks\": \"\"}, \"bgcolor\": \"#E5ECF6\", \"radialaxis\": {\"gridcolor\": \"white\", \"linecolor\": \"white\", \"ticks\": \"\"}}, \"scene\": {\"xaxis\": {\"backgroundcolor\": \"#E5ECF6\", \"gridcolor\": \"white\", \"gridwidth\": 2, \"linecolor\": \"white\", \"showbackground\": true, \"ticks\": \"\", \"zerolinecolor\": \"white\"}, \"yaxis\": {\"backgroundcolor\": \"#E5ECF6\", \"gridcolor\": \"white\", \"gridwidth\": 2, \"linecolor\": \"white\", \"showbackground\": true, \"ticks\": \"\", \"zerolinecolor\": \"white\"}, \"zaxis\": {\"backgroundcolor\": \"#E5ECF6\", \"gridcolor\": \"white\", \"gridwidth\": 2, \"linecolor\": \"white\", \"showbackground\": true, \"ticks\": \"\", \"zerolinecolor\": \"white\"}}, \"shapedefaults\": {\"line\": {\"color\": \"#2a3f5f\"}}, \"ternary\": {\"aaxis\": {\"gridcolor\": \"white\", \"linecolor\": \"white\", \"ticks\": \"\"}, \"baxis\": {\"gridcolor\": \"white\", \"linecolor\": \"white\", \"ticks\": \"\"}, \"bgcolor\": \"#E5ECF6\", \"caxis\": {\"gridcolor\": \"white\", \"linecolor\": \"white\", \"ticks\": \"\"}}, \"title\": {\"x\": 0.05}, \"xaxis\": {\"automargin\": true, \"gridcolor\": \"white\", \"linecolor\": \"white\", \"ticks\": \"\", \"title\": {\"standoff\": 15}, \"zerolinecolor\": \"white\", \"zerolinewidth\": 2}, \"yaxis\": {\"automargin\": true, \"gridcolor\": \"white\", \"linecolor\": \"white\", \"ticks\": \"\", \"title\": {\"standoff\": 15}, \"zerolinecolor\": \"white\", \"zerolinewidth\": 2}}}, \"xaxis\": {\"anchor\": \"y\", \"domain\": [0.0, 1.0], \"title\": {\"text\": \"LoadFactor\"}}, \"yaxis\": {\"anchor\": \"x\", \"domain\": [0.0, 1.0], \"title\": {\"text\": \"LCOE\"}}},                        {\"responsive\": true}                    ).then(function(){\n",
       "                            \n",
       "var gd = document.getElementById('5a0f461a-dc14-4c09-a56a-a752d8648cc7');\n",
       "var x = new MutationObserver(function (mutations, observer) {{\n",
       "        var display = window.getComputedStyle(gd).display;\n",
       "        if (!display || display === 'none') {{\n",
       "            console.log([gd, 'removed!']);\n",
       "            Plotly.purge(gd);\n",
       "            observer.disconnect();\n",
       "        }}\n",
       "}});\n",
       "\n",
       "// Listen for the removal of the full notebook cells\n",
       "var notebookContainer = gd.closest('#notebook-container');\n",
       "if (notebookContainer) {{\n",
       "    x.observe(notebookContainer, {childList: true});\n",
       "}}\n",
       "\n",
       "// Listen for the clearing of the current output cell\n",
       "var outputEl = gd.closest('.output');\n",
       "if (outputEl) {{\n",
       "    x.observe(outputEl, {childList: true});\n",
       "}}\n",
       "\n",
       "                        })                };                });            </script>        </div>"
      ]
     },
     "metadata": {},
     "output_type": "display_data"
    }
   ],
   "source": [
    "# Here we create an array of load factors from 0.1 to 1.0 in steps of 0.01\n",
    "load_factors = np.arange(0.1, 1.0, 0.01)\n",
    "# We set the discount rate to a fixed value for the moment\n",
    "discount_rate = [0.08] # %\n",
    "\n",
    "# CCGT plant parameters\n",
    "technical_lifetime = [25] # years\n",
    "station_size = [750000]  # kW\n",
    "fuel_price = [0.03] # €/kWh\n",
    "overnight_cost = [750]  # €/kW\n",
    "fixed_om_cost = [3.0] # €/kW\n",
    "fuel_efficiency = [0.5]\n",
    "\n",
    "ccgt_results = lcoe_params(\n",
    "    station_size, overnight_cost, fixed_om_cost, load_factors, fuel_efficiency, \n",
    "    fuel_price, discount_rate, technical_lifetime, technology='CCGT')\n",
    "\n",
    "# Coal plants\n",
    "technical_lifetime = [35] # years\n",
    "station_size = [1000000] # kW\n",
    "fuel_price = [0.01] # €/kWh\n",
    "overnight_cost = [2000]  # €/kW\n",
    "fixed_om_cost = [5.0] # €/kW\n",
    "fuel_efficiency = [0.4]\n",
    "\n",
    "coal_results = lcoe_params(\n",
    "    station_size, overnight_cost, fixed_om_cost, load_factors, fuel_efficiency, \n",
    "    fuel_price, discount_rate, technical_lifetime, technology='Coal')\n",
    "\n",
    "# Nuclear plants\n",
    "technical_lifetime = [50] # years\n",
    "station_size = [1200000] # kW\n",
    "fuel_price = [0.005] # €/kWh\n",
    "overnight_cost = [4500]  # €/kW\n",
    "fixed_om_cost = [2.0] # €/kW\n",
    "fuel_efficiency = [0.4]\n",
    "\n",
    "nuclear_results = lcoe_params(\n",
    "    station_size, overnight_cost, fixed_om_cost, load_factors, fuel_efficiency, \n",
    "    fuel_price, discount_rate, technical_lifetime, technology='Nuclear')\n",
    "\n",
    "# Concentrating solar power\n",
    "technical_lifetime = [25] # years\n",
    "station_size = [500000] # kW\n",
    "fuel_price = [0.0] # €/kWh\n",
    "overnight_cost = [3785]  # €/kW\n",
    "fixed_om_cost = [5.0] # €/kW\n",
    "fuel_efficiency = [1.0]\n",
    "\n",
    "csp_results = lcoe_params(\n",
    "    station_size, overnight_cost, fixed_om_cost, load_factors, fuel_efficiency, \n",
    "    fuel_price, discount_rate, technical_lifetime, technology='CSP')\n",
    "\n",
    "# Wind turbines\n",
    "technical_lifetime = [25] # years\n",
    "station_size = [200000] # kW\n",
    "fuel_price = [0.0] # €/kWh\n",
    "overnight_cost = [1200]  # €/kW\n",
    "fixed_om_cost = [2.0] # €/kW\n",
    "fuel_efficiency = [1.0]\n",
    "\n",
    "wind_results = lcoe_params(\n",
    "    station_size, overnight_cost, fixed_om_cost, load_factors, fuel_efficiency, \n",
    "    fuel_price, discount_rate, technical_lifetime, technology='Wind')\n",
    "\n",
    "\n",
    "plotting = pd.DataFrame(ccgt_results + coal_results + nuclear_results + csp_results + wind_results)\n",
    "ex.line(plotting,x='LoadFactor', y='LCOE', color='Technology', facet_col='DiscountRate')"
   ]
  },
  {
   "cell_type": "markdown",
   "metadata": {},
   "source": [
    "What do you see when you compare technologies at different load factors?"
   ]
  },
  {
   "cell_type": "code",
   "execution_count": null,
   "metadata": {},
   "outputs": [],
   "source": []
  }
 ],
 "metadata": {
  "kernelspec": {
   "display_name": "Python 3",
   "language": "python",
   "name": "python3"
  },
  "language_info": {
   "codemirror_mode": {
    "name": "ipython",
    "version": 3
   },
   "file_extension": ".py",
   "mimetype": "text/x-python",
   "name": "python",
   "nbconvert_exporter": "python",
   "pygments_lexer": "ipython3",
   "version": "3.8.5"
  }
 },
 "nbformat": 4,
 "nbformat_minor": 4
}
