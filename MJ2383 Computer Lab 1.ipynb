{
 "cells": [
  {
   "cell_type": "code",
   "execution_count": null,
   "metadata": {},
   "outputs": [],
   "source": [
    "import numpy as np  # numpy is a numerical library for Python\n",
    "import itertools\n",
    "from plotly import express as ex\n",
    "import pandas as pd\n",
    "import ipywidgets as widgets\n",
    "from ipywidgets import interact, fixed"
   ]
  },
  {
   "cell_type": "markdown",
   "metadata": {},
   "source": [
    "# MJ2383: Lab 1 - Computing Levelised Cost of Electricity\n",
    "\n",
    "In this lab, we are going to explore computation of an important metric called **levelised cost of electricity**, or LCOE for short.\n",
    "\n",
    "The lab is broken up into several stages each of which culminates in writing a piece of Python code or doing some analysis. Don't worry if you've never written any Python before or done any programming - it is actually as easy as (or easier than) writing down equations.\n",
    "\n",
    "In [stage 1](#Stage-1---Compute-LCOE), we'll write a Python function which computes the levelised cost of electricity from input data. We'll then test that this function produces the result we expect. You'll be able to check that your function works at the end of the stage.\n",
    "\n",
    "In [stage 2](#Stage-2---Explore-Parameter-Values), we'll then use the function you wrote to compute LCOE for one technology and explore what happens when you change the parameter values.\n",
    "\n",
    "in [stage 3](#Stage-3:-Comparing-technologies), we'll use the LCOE function again to compare technologies against one another, and develop screen curves that allow us to visualise the trade offs between technologies as a function of load-factor.\n",
    "\n",
    "## Housekeeping\n",
    "\n",
    "- This is a Jupyter notebook. A notebook contains cells. Each cell contains either descriptive text (like this) or Python code.  You execute a cell by pressing `Shift + Enter`.  Or, you can use the `Run` button in the menu bar at the top of the page.\n",
    "\n",
    "- Don't worry, you cannot break anything. If you think you've made a mistake, you can delete the content and try again. If you get really stuck, just reload the page and you'll be able to make a fresh start.\n",
    "\n",
    "- Also, each stage allows you to begin afresh, so you can just move on when you are ready.\n",
    "\n",
    "- If you like, work together in pairs sharing a screen.\n",
    "\n",
    "- The notebook has been designed to help support your learning by enabling you to explore, but also to challenge. However, we are not trying to trick you. In most cases, the answers are in front of you.\n",
    "\n",
    "- If you have questions, please ask us!"
   ]
  },
  {
   "cell_type": "markdown",
   "metadata": {},
   "source": [
    "## Stage 1 - Compute LCOE\n",
    "\n",
    "According to [OEE](http://www.open-electricity-economics.org/book/text/03.html) the formula to calculate LCOE is as follows:\n",
    "\n",
    "\\\\(LCOE = \\frac{C_{fix} + \\sum_{y=1}^Y CRF_y \\cdot C_y}{\\sum_{y=1}^Y CRF_y \\cdot G_y}\\\\)\n",
    "\n",
    "where LCOE is the levelized cost in EUR per kWh, \\\\(C_{fix}\\\\) is the capital investment costs incurred for setting up the project, \\\\(C_y\\\\) are operational costs incurred in year \\\\(y\\\\), \\\\(Y\\\\) is the technical lifetime in years, and \\\\(G_y\\\\) is electricity generation in kWh. The costs are called levelized because they are “leveled” over all units of output. Levelized costs can be calculated for a specific power plant or for generic types of generation technologies.\n",
    "\n",
    "Capital recovery factor (CRF) is calculated for each year \\\\(y\\\\) of the plant's technical lifetime\n",
    "\n",
    "\\\\(CRF_y =  (1 + r)^{-y}\\\\)\n",
    "\n",
    "where r is the discount rate"
   ]
  },
  {
   "cell_type": "markdown",
   "metadata": {},
   "source": [
    "Here we can store the technical lifetime of our technology in a |*variable* called ``technical_lifetime``"
   ]
  },
  {
   "cell_type": "code",
   "execution_count": null,
   "metadata": {},
   "outputs": [],
   "source": [
    "technical_lifetime = 20"
   ]
  },
  {
   "cell_type": "markdown",
   "metadata": {},
   "source": [
    "You can access the value stored in the *variable* at anytime, by typing its name and press `shift` + `enter`"
   ]
  },
  {
   "cell_type": "code",
   "execution_count": null,
   "metadata": {},
   "outputs": [],
   "source": [
    "technical_lifetime"
   ]
  },
  {
   "cell_type": "markdown",
   "metadata": {},
   "source": [
    "We then create an *array* of years using the value stored in ``technical_lifetime``. \n",
    "\n",
    "An *array* is like a list of values. The command ``np.arange()`` takes a number as an argument and creates a *array* of the same length containing the values from 0 to one less than the number."
   ]
  },
  {
   "cell_type": "code",
   "execution_count": null,
   "metadata": {},
   "outputs": [],
   "source": [
    "year = np.arange(technical_lifetime)\n",
    "year"
   ]
  },
  {
   "cell_type": "markdown",
   "metadata": {},
   "source": [
    "Now we calculate CRF for each year in our plant's technical lifetime according to the formula we saw earlier:\n",
    "\\\\(CRF_y =  (1 + r)^{-y}\\\\). Remember \\\\(r\\\\) is the discount rate, and \\\\(y\\\\) is the year.\n",
    "\n",
    "`**` means \"to the power of\". \n",
    "\n",
    "**Q. What happens if you change the discount rate?**"
   ]
  },
  {
   "cell_type": "code",
   "execution_count": null,
   "metadata": {},
   "outputs": [],
   "source": [
    "discount_rate = 0.05\n",
    "crf = (1 + discount_rate) ** - year\n",
    "print(crf)"
   ]
  },
  {
   "cell_type": "markdown",
   "metadata": {},
   "source": [
    "Now we've calculated CRF, let's get some data for the other parameters:"
   ]
  },
  {
   "cell_type": "code",
   "execution_count": null,
   "metadata": {},
   "outputs": [],
   "source": [
    "capital_costs = 1000.0  # €\n",
    "operational_costs = np.repeat(500, technical_lifetime)  # €\n",
    "electricity_generation = np.repeat(8760., technical_lifetime)  # kWh"
   ]
  },
  {
   "cell_type": "markdown",
   "metadata": {},
   "source": [
    "The code above creates variables, each containing an *array* of values. We automatically generate the arrays using `np.repeat(50, technical_lifetime)`. This creates an array of length `technical_lifetime` where each element in the array contains the value `50`.\n",
    "\n",
    "---\n",
    "\n",
    "Remember the formula? Let's check it again:\n",
    "\n",
    "\\\\(LCOE = \\frac{C_{fix} + \\sum_{y=1}^Y CRF_y \\cdot C_y}{\\sum_{y=1}^Y CRF_y \\cdot G_y}\\\\)\n",
    "\n",
    "Now, we can calculate LCOE:"
   ]
  },
  {
   "cell_type": "code",
   "execution_count": null,
   "metadata": {},
   "outputs": [],
   "source": [
    "lcoe = (capital_costs + sum(crf * operational_costs)) / sum(crf * electricity_generation)\n",
    "print(lcoe)  # €/kWh"
   ]
  },
  {
   "cell_type": "markdown",
   "metadata": {},
   "source": [
    "At the moment, this seems a pretty arbitrary result. We're just putting in nonsense data, and we are getting nonsense in return. In stage 2, we'll start working with real data, but first, we need to make this calculation re-useable.\n",
    "\n",
    "---\n",
    "\n",
    "In Python, if we want to reuse a piece of code, we'll create a \"function\". To do this, you use the ``def`` command like this:\n",
    "\n",
    "```python\n",
    "def lcoe(capital_costs, operational_costs, electricity_generation, discount_rate, technical_lifetime):\n",
    "    # <<Something should go here>>\n",
    "    return value\n",
    "```\n",
    "\n",
    "- In the above example `lcoe` is the name of the function\n",
    "- The list of names in the round brackets `()` are arguments\n",
    "- Don't forget the `:` at the end of the list of arguments\n",
    "- Use four spaces to indent your code\n",
    "- The argument passed to `return` in the last line is what the function will give back when you run it\n",
    "\n",
    "**Q. What should go in the function?**\n",
    "\n",
    "Have a go below:"
   ]
  },
  {
   "cell_type": "code",
   "execution_count": null,
   "metadata": {},
   "outputs": [],
   "source": [
    "def lcoe(capital_costs, operational_costs, electricity_generation, discount_rate, technical_lifetime):\n",
    "\n",
    "    # <<Write your code here>>\n",
    "    value = \"Replace me with some code\"\n",
    "    return value"
   ]
  },
  {
   "cell_type": "markdown",
   "metadata": {},
   "source": [
    "Test your `lcoe` function by running the cell below."
   ]
  },
  {
   "cell_type": "code",
   "execution_count": null,
   "metadata": {},
   "outputs": [],
   "source": [
    "actual = lcoe(5000, np.array([100, 100, 100, 100]), np.array([8760, 8760, 8760, 8760]), 0.1, 4)\n",
    "assert actual == 0.1751093834091417, \"That's not right, try again! The function returns '{}'\".format(actual)"
   ]
  },
  {
   "cell_type": "markdown",
   "metadata": {},
   "source": [
    "### Stage 1 - Summary\n",
    "\n",
    "If you managed to get it to work, well done! You've written a Python function which computes LCOE. If not, don't worry, the answer is below!\n",
    "\n",
    "- In this stage, we introduced the LCOE equation\n",
    "\\\\(LCOE = \\frac{C_{fix} + \\sum_{y=1}^Y CRF_y \\cdot C_y}{\\sum_{y=1}^Y CRF_y \\cdot G_y}\\\\)\n",
    "and implemented it using a Python function.\n",
    "- We also explored how the capital recovery factors weighs future years differently as a function of the discount rate.\n",
    "- We learnt a lot of Python concepts including *variables*, *arrays*, and *arguments*.\n",
    "- We learnt how to reuse Python code by writing a function.\n",
    "\n",
    "In the next stage, we'll extend our function to make it more useful and investigate the LCOE calculation itself.\n",
    "\n",
    "### Stage 1 - Answer LCOE Function\n",
    "\n",
    "As you can see, we just need to fill in the gaps. First build the array of years, calculate the array of CRF and then add the lcoe calculation.\n",
    "```python\n",
    "def lcoe(capital_costs, operational_costs, electricity_generation, discount_rate, technical_lifetime):\n",
    "    year = np.arange(technical_lifetime)\n",
    "    crf = (1 + discount_rate) ** - year\n",
    "    value = (capital_costs + sum(crf * operational_costs)) / sum(crf * electricity_generation)\n",
    "    return value\n",
    "```"
   ]
  },
  {
   "cell_type": "markdown",
   "metadata": {},
   "source": [
    "## Stage 2 - Explore Parameter Values"
   ]
  },
  {
   "cell_type": "markdown",
   "metadata": {},
   "source": [
    "We'll now make use of an LCOE function to explore the effect of different parameter values for one technology - a combined cycle gas turbine. In the following implementation of LCOE, we make the assumption that the yearly values for operational costs and electricity generation are the same in each year of the technology's lifetime."
   ]
  },
  {
   "cell_type": "markdown",
   "metadata": {},
   "source": [
    "Here are the parameters for a combined cycle gas turbine (CCGT):\n",
    "\n",
    "Parameter | Unit |Value\n",
    "---|---|---\n",
    "Lifetime| |25\n",
    "Discount rate | |\t\t\t8.0%\n",
    "Station size | MW |\t750.0\n",
    "Overnight cost | €/kW | 750.0\n",
    "Fixed O&M cost | €/kW\t| 3.0\n",
    "Efficiency | | 0.5\n",
    "Fuel price | €/kWh| 0.03\n",
    "Emission Factor\t| ton/kW-yr| 1.8\n",
    "Load factor | | 0.75\n",
    "\n",
    "Here's the information we need to calculate the LCOE using the simple LCOE equation we developed earlier.\n",
    "\n",
    "Parameter | Unit |Value\n",
    "---|---|---\n",
    "Capital cost | m€ | ?\n",
    "Annual fixed O&M cost |\tm€\t| ?\n",
    "Variable O&M cost |€/kWh| ?\n",
    "Total fuel cost | €/yr | ?\n",
    "Emissions Penalty |\t€/ton\t| ?\n",
    "\n",
    "**Q. What's the levelised cost of electricity for the CCGT plant?**\n",
    "- work through the list of inputs methodically. \n",
    "- Pay close attention to the units.  \n",
    "- Use Python variables to store information you reuse."
   ]
  },
  {
   "cell_type": "code",
   "execution_count": null,
   "metadata": {},
   "outputs": [],
   "source": [
    "# Add your working HERE\n",
    "\n",
    "# 1. Populate some variables using the information from the table\n",
    "\n",
    "lifetime = 25\n",
    "discount_rate = 0.08\n",
    "capacity = 750.0 # MW\n",
    "overnight_cost = 750.0 # €/kW\n",
    "fixed_om_cost = 3 # €/kW\n",
    "efficiency = 0.5\n",
    "fuel_price = 0.03 # €/kWh\n",
    "load_factor = 0.75\n",
    "\n",
    "# 2. Calculate the intermediate values (you can use Python like a calculator)\n",
    "# Use *+-/ for multiply, add, substract and divide. Here's one to get you started...\n",
    "# Remove the hashes on the following lines to make you calculations\n",
    "\n",
    "capital_costs = capacity * overnight_cost\n",
    "# electricity_generation = \n",
    "# operational_costs = \n",
    "\n",
    "# 3. Now use the earlier LCOE equation we developed to calculate LCOE\n",
    "actual = lcoe(capital_costs, operational_costs, electricity_generation, discount_rate, lifetime)\n",
    "\n",
    "assert actual == 0.06000000157662146, \"Close, but no bananas. You got '{}'\".format(actual)"
   ]
  },
  {
   "cell_type": "markdown",
   "metadata": {},
   "source": [
    "### Hints\n",
    "\n",
    "- Remember there are approximately `365 * 24 = 8760` hours in a year.\n",
    "- The load factor describes the proportion of those 8760 hours the plant is operational.\n",
    "- Operational costs are made up of fixed costs (not a function of activity) and variable costs (function of activity)\n",
    "- The variable cost will be the product of the amount of fuel used and the fuel price.\n",
    "- Fuel use can be computed from electricity generation and efficiency.\n",
    "\n",
    "---\n",
    "Now we extend our calculation of LCOE with a number of new parameters. `load_factor` represents the proportion of the hours in the year in which the technology generates electricity. We now calculate `annual_operational_cost` from two other new parameters `fuel_efficiency` and `fuel_cost` and `fixed_om_cost`."
   ]
  },
  {
   "cell_type": "code",
   "execution_count": null,
   "metadata": {},
   "outputs": [],
   "source": [
    "def extended_lcoe(station_size, overnight_cost, fuel_efficiency, fuel_price, fixed_om_cost, load_factor, \n",
    "                discount_rate, technical_lifetime):\n",
    "    \"\"\"Calculates levelised cost of electricity as a function of useful parameters\n",
    "    \n",
    "    Arguments\n",
    "    ---------\n",
    "    station_size : float\n",
    "        The capacity of the technology in kW\n",
    "    overnight_cost : float\n",
    "        The capital cost of the technology in €\n",
    "    fuel_efficiency : float\n",
    "        The ratio describing quantity of fuel required per unit of activity\n",
    "    fuel_price : float\n",
    "        The price paid per unit of input fuel in €/kWh\n",
    "    fixed_om_cost : float\n",
    "        The fixed operation and maintenance cost of the technology in €/kW\n",
    "    load_factor : float\n",
    "        The percentage of the year in which the technology generates electricity in %.\n",
    "    discount_rate : float\n",
    "        A decimal value less than 1\n",
    "    technical_lifetime : int\n",
    "        Technical lifetime of the technology in years\n",
    "        \n",
    "    Returns\n",
    "    -------\n",
    "    float\n",
    "        The levelised cost of electricity in €/kWh\n",
    "    \"\"\"\n",
    "    HOURS_IN_YEAR = 8760\n",
    "    \n",
    "    capital_cost = station_size * overnight_cost\n",
    "    total_fixed_om_cost = station_size * fixed_om_cost\n",
    "    \n",
    "    annual_electricity_generation = station_size * HOURS_IN_YEAR * load_factor\n",
    "    total_variable_om_cost = (annual_electricity_generation / fuel_efficiency) * fuel_price\n",
    "    annual_operational_cost = total_fixed_om_cost + total_variable_om_cost\n",
    "    \n",
    "    year = np.arange(technical_lifetime)\n",
    "    total_crf = sum((1 + discount_rate) ** - year)\n",
    "    \n",
    "    \n",
    "    value = ((total_crf * annual_operational_cost) + capital_cost) / (total_crf * annual_electricity_generation)\n",
    "    return value"
   ]
  },
  {
   "cell_type": "markdown",
   "metadata": {},
   "source": [
    "So to perform the calculation again using our new LCOE function, we get:"
   ]
  },
  {
   "cell_type": "code",
   "execution_count": null,
   "metadata": {},
   "outputs": [],
   "source": [
    "ccgt_lcoe = extended_lcoe(capacity, overnight_cost, efficiency, fuel_price, fixed_om_cost, capacity * 8760 * 0.75, \n",
    "                          discount_rate, lifetime)\n",
    "ccgt_lcoe"
   ]
  },
  {
   "cell_type": "markdown",
   "metadata": {},
   "source": [
    "### Q. What are the key parameters that determine the LCOE of the CCGT plant?\n",
    "\n",
    "Run the next cell to create an interactive slider widget which allows you to play with the `extended_lcoe` function and answer the following questions:\n",
    "\n",
    "1. Which is the most influential input parameter?\n",
    "2. Are all the responses linear? Is it easy to tell?\n",
    "3. What happens if gas is expensive?\n",
    "4. If the price of the gas turbine doubles from €750/kW to €1500/kW, what's the effect upon LCOE at different load factors?\n",
    "5. How important is discount rate compared to the fuel price?"
   ]
  },
  {
   "cell_type": "code",
   "execution_count": null,
   "metadata": {},
   "outputs": [],
   "source": [
    "interact(extended_lcoe, station_size=fixed(750000), overnight_cost=(500, 1500), fuel_efficiency=(0.3, 0.7), \n",
    "         fuel_price=(0.01, 0.10, 0.01), fixed_om_cost=3, load_factor=(0.01, 1.0, 0.1), \n",
    "         discount_rate=(0.01, 0.30, 0.01), technical_lifetime=25)"
   ]
  },
  {
   "cell_type": "markdown",
   "metadata": {},
   "source": [
    "### Stage 2 - Summary\n",
    "\n",
    "- In this stage, we calculated the levelised cost for a CCGT plant.\n",
    "- Then, we explored the LCOE equation interactively to try to understand what parameters influence the LCOE of a technology.\n",
    "\n",
    "In the next stage, we compare LCOE across technologies."
   ]
  },
  {
   "cell_type": "markdown",
   "metadata": {},
   "source": [
    "# Stage 3: Comparing technologies\n",
    "\n",
    "In the previous stages, we developed our understanding of the LCOE equation, and applied it to one technology. Now comes the *really* fun part, where we develop a comparison across different technologies."
   ]
  },
  {
   "cell_type": "markdown",
   "metadata": {},
   "source": [
    "We can now make a more advanced function which holds the logic to calculate LCOE when we have a number of extra input parameters. Now, we can pass a *list* (elements separated by commas inside square brackets) of parameter values, and the function returns a list of results."
   ]
  },
  {
   "cell_type": "code",
   "execution_count": null,
   "metadata": {},
   "outputs": [],
   "source": [
    "def lcoe_params(station_sizes, overnight_costs, fixed_om_costs, load_factors, efficiencies, \n",
    "                 fuel_prices, discount_rates, technical_lifetimes, technology):\n",
    "    \"\"\"Calculate LCOE for cartesian product of all parameter lists\n",
    "    \"\"\"\n",
    "    results = []  # Create a list to hold the observations\n",
    "    \n",
    "    # Loop over cartesian product of parameter values\n",
    "    for (capacity, capex, fixed_om_cost, load_factor, efficiency, \n",
    "        fuel_price, discount_rate, technical_lifetime) in itertools.product(\n",
    "        station_sizes, overnight_costs, fixed_om_costs, load_factors, \n",
    "        efficiencies, fuel_prices, discount_rates, technical_lifetimes):\n",
    "\n",
    "        observation = {}  # Create a dictionary to store the observation\n",
    "        \n",
    "        lcoe = extended_lcoe(capacity, capex, efficiency, fuel_price, fixed_om_cost, \n",
    "                             load_factor, discount_rate, technical_lifetime)\n",
    "    \n",
    "        observation['Technology'] = technology\n",
    "        observation['StationSize'] = capacity\n",
    "        observation['OvernightCost'] = capex\n",
    "        observation['FixedOMCost'] = fixed_om_cost\n",
    "        observation['LoadFactor'] = load_factor\n",
    "        observation['Efficiency'] = efficiency\n",
    "        observation['FuelPrice'] = fuel_price\n",
    "        observation['DiscountRate'] = discount_rate\n",
    "        observation['Lifetime'] = technical_lifetime\n",
    "        observation['LCOE'] = lcoe\n",
    "\n",
    "        results.append(observation)\n",
    "        \n",
    "    return results"
   ]
  },
  {
   "cell_type": "markdown",
   "metadata": {},
   "source": [
    "First, we'll use our new function to compare multiple technologies under their central operating characteristics, and explore how that changes under different discount rates."
   ]
  },
  {
   "cell_type": "code",
   "execution_count": null,
   "metadata": {},
   "outputs": [],
   "source": [
    "# Here we create an array of load factors from 0.1 to 1.0 in steps of 0.01\n",
    "load_factors = np.arange(0.1, 1.0, 0.01)\n",
    "# We set the discount rate to a fixed value for the moment\n",
    "discount_rate = [0.08] # %\n",
    "\n",
    "# CCGT plant parameters\n",
    "technical_lifetime = [25] # years\n",
    "station_size = [750000]  # kW\n",
    "fuel_price = [0.03] # €/kWh\n",
    "overnight_cost = [750]  # €/kW\n",
    "fixed_om_cost = [3.0] # €/kW\n",
    "fuel_efficiency = [0.5]\n",
    "\n",
    "ccgt_results = lcoe_params(\n",
    "    station_size, overnight_cost, fixed_om_cost, load_factors, fuel_efficiency, \n",
    "    fuel_price, discount_rate, technical_lifetime, technology='CCGT')\n",
    "\n",
    "# Coal plants\n",
    "technical_lifetime = [35] # years\n",
    "station_size = [1000000] # kW\n",
    "fuel_price = [0.01] # €/kWh\n",
    "overnight_cost = [2000]  # €/kW\n",
    "fixed_om_cost = [5.0] # €/kW\n",
    "fuel_efficiency = [0.4]\n",
    "\n",
    "coal_results = lcoe_params(\n",
    "    station_size, overnight_cost, fixed_om_cost, load_factors, fuel_efficiency, \n",
    "    fuel_price, discount_rate, technical_lifetime, technology='Coal')\n",
    "\n",
    "# Nuclear plants\n",
    "technical_lifetime = [50] # years\n",
    "station_size = [1200000] # kW\n",
    "fuel_price = [0.005] # €/kWh\n",
    "overnight_cost = [4500]  # €/kW\n",
    "fixed_om_cost = [2.0] # €/kW\n",
    "fuel_efficiency = [0.4]\n",
    "\n",
    "nuclear_results = lcoe_params(\n",
    "    station_size, overnight_cost, fixed_om_cost, load_factors, fuel_efficiency, \n",
    "    fuel_price, discount_rate, technical_lifetime, technology='Nuclear')\n",
    "\n",
    "# Concentrating solar power\n",
    "technical_lifetime = [25] # years\n",
    "station_size = [500000] # kW\n",
    "fuel_price = [0.0] # €/kWh\n",
    "overnight_cost = [3785]  # €/kW\n",
    "fixed_om_cost = [5.0] # €/kW\n",
    "fuel_efficiency = [1.0]\n",
    "\n",
    "csp_results = lcoe_params(\n",
    "    station_size, overnight_cost, fixed_om_cost, load_factors, fuel_efficiency, \n",
    "    fuel_price, discount_rate, technical_lifetime, technology='CSP')\n",
    "\n",
    "# Wind turbines\n",
    "technical_lifetime = [25] # years\n",
    "station_size = [200000] # kW\n",
    "fuel_price = [0.0] # €/kWh\n",
    "overnight_cost = [1200]  # €/kW\n",
    "fixed_om_cost = [2.0] # €/kW\n",
    "fuel_efficiency = [1.0]\n",
    "\n",
    "wind_results = lcoe_params(\n",
    "    station_size, overnight_cost, fixed_om_cost, load_factors, fuel_efficiency, \n",
    "    fuel_price, discount_rate, technical_lifetime, technology='Wind')\n",
    "\n",
    "\n",
    "plotting = pd.DataFrame(ccgt_results + coal_results + nuclear_results + csp_results + wind_results)\n",
    "ex.line(plotting,x='LoadFactor', y='LCOE', color='Technology', facet_col='DiscountRate',\n",
    "        labels={'LoadFactor': 'LoadFactor (%)', 'LCOE': 'LCOE (€/kW)'})"
   ]
  },
  {
   "cell_type": "markdown",
   "metadata": {},
   "source": [
    "- What do you see when you compare technologies at different load factors?\n",
    "- What does the LCOE graph *not* show you?"
   ]
  },
  {
   "cell_type": "code",
   "execution_count": null,
   "metadata": {},
   "outputs": [],
   "source": []
  },
  {
   "cell_type": "code",
   "execution_count": null,
   "metadata": {},
   "outputs": [],
   "source": []
  }
 ],
 "metadata": {
  "kernelspec": {
   "display_name": "Python 3",
   "language": "python",
   "name": "python3"
  },
  "language_info": {
   "codemirror_mode": {
    "name": "ipython",
    "version": 3
   },
   "file_extension": ".py",
   "mimetype": "text/x-python",
   "name": "python",
   "nbconvert_exporter": "python",
   "pygments_lexer": "ipython3",
   "version": "3.8.5-final"
  }
 },
 "nbformat": 4,
 "nbformat_minor": 4
}
