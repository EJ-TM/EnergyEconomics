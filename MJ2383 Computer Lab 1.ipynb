{
 "cells": [
  {
   "cell_type": "code",
   "execution_count": 1,
   "metadata": {},
   "outputs": [],
   "source": [
    "# here we import all the libraries we will use in this session\n",
    "import numpy as np  # numpy is a numerical library for Python\n",
    "import itertools\n",
    "from plotly import express as px\n",
    "import pandas as pd\n",
    "import ipywidgets as widgets\n",
    "from ipywidgets import interact, fixed\n",
    "from checkers import checker_crf, checker_lcoe, checker_parameters"
   ]
  },
  {
   "cell_type": "markdown",
   "metadata": {},
   "source": [
    "# MJ2383: Lab 1 - Computing Levelised Cost of Electricity\n",
    "\n",
    "In this lab, we are going to explore computation of an important metric called **levelised cost of electricity**, or LCOE for short.\n",
    "\n",
    "The lab is broken up into several stages each of which culminates in writing a piece of Python code or doing some analysis. Don't worry if you've never written any Python before or done any programming - it is actually as easy as (or easier than) writing down equations.\n",
    "\n",
    "in [stage 0](#Stage-0---Basic-Python-commands) we'll go through Python basics. If you've never used Python or programming before, you'll want to start here.\n",
    "\n",
    "In [stage 1](#Stage-1---Compute-LCOE), we'll write a Python function which computes the levelised cost of electricity from input data. We'll then test that this function produces the result we expect. You'll be able to check that your function works at the end of the stage.\n",
    "\n",
    "In [stage 2](#Stage-2---Explore-Parameter-Values), we'll then use the function you wrote to compute LCOE for one technology and explore what happens when you change the parameter values.\n",
    "\n",
    "in [stage 3](#Stage-3:-Comparing-technologies), we'll use the LCOE function again to compare technologies against one another, and develop screen curves that allow us to visualise the trade offs between technologies as a function of load-factor.\n",
    "\n",
    "## Housekeeping\n",
    "\n",
    "- This is a Jupyter notebook. A notebook contains cells. Each cell contains either descriptive text (like this) or Python code.  You execute a cell by pressing `Shift + Enter`.  Or, you can use the `Run` button in the menu bar at the top of the page.\n",
    "\n",
    "- Don't worry, you cannot break anything. If you think you've made a mistake, you can delete the content and try again. If you get really stuck, just reload the page and you'll be able to make a fresh start.\n",
    "\n",
    "- Also, each stage allows you to begin afresh, so you can just move on when you are ready.\n",
    "\n",
    "- If you like, work together in pairs sharing a screen.\n",
    "\n",
    "- The notebook has been designed to help support your learning by enabling you to explore, but also to challenge. However, we are not trying to trick you. In most cases, the answers are in front of you.\n",
    "\n",
    "- If you have questions, please ask us!\n",
    "- If you have any suggestions for how this could be improved, or find a bug or problem, please submit an issue\n",
    "  [here](https://github.com/KTH-dESA/MJ2383/issues/new/choose)"
   ]
  },
  {
   "cell_type": "markdown",
   "metadata": {},
   "source": [
    "## Stage 0 - Basic Python commands\n",
    "In this section, we will go through an overview of the most basics in python. If you already have knowledge of python you can skip this stage and move to [stage 1](#Stage-1---Compute-LCOE).\n",
    "\n",
    "In Python we use the number symbol `#` to make a comment in the code. A comment is for clarification porpuses to the person reading the code, but it is ignored by the computer when you run the program, thus having no effect on your code output:"
   ]
  },
  {
   "cell_type": "code",
   "execution_count": 2,
   "metadata": {},
   "outputs": [],
   "source": [
    "# this is a comment used to provide additional information"
   ]
  },
  {
   "cell_type": "markdown",
   "metadata": {},
   "source": [
    "In Python there exist many types of data, in here we are going to cover the most basic ones: integers, floats, strings, lists and arrays.\n",
    "```\n",
    "5                        integer\n",
    "2.6                      float\n",
    "'this is a string'       str\n",
    "[1, 2, 3, 4]             list\n",
    "np.array([3, 4, 6, 4])   numpy.ndarray\n",
    "```\n",
    "we can use the function `type` to check the type of a value. Pass different data types to the `type` function to see the different output:"
   ]
  },
  {
   "cell_type": "code",
   "execution_count": 3,
   "metadata": {},
   "outputs": [
    {
     "data": {
      "text/plain": [
       "int"
      ]
     },
     "execution_count": 3,
     "metadata": {},
     "output_type": "execute_result"
    }
   ],
   "source": [
    "type(1) # change the data inside parenthesis"
   ]
  },
  {
   "cell_type": "markdown",
   "metadata": {},
   "source": [
    "### Basic operators\n",
    "You can actually use Python as a calculator to compute equations and store values into variables. This means that you can use basic mathematical operators:\n",
    "```\n",
    "+   addition\n",
    "-   subtraction\n",
    "*   multiplication\n",
    "/   division\n",
    "**  exponent\n",
    "//  floor division\n",
    "```"
   ]
  },
  {
   "cell_type": "code",
   "execution_count": 4,
   "metadata": {},
   "outputs": [
    {
     "data": {
      "text/plain": [
       "3.25"
      ]
     },
     "execution_count": 4,
     "metadata": {},
     "output_type": "execute_result"
    }
   ],
   "source": [
    "(3 + 5 * 10) / 4 - 10"
   ]
  },
  {
   "cell_type": "code",
   "execution_count": 5,
   "metadata": {},
   "outputs": [
    {
     "data": {
      "text/plain": [
       "9"
      ]
     },
     "execution_count": 5,
     "metadata": {},
     "output_type": "execute_result"
    }
   ],
   "source": [
    "3 ** 2"
   ]
  },
  {
   "cell_type": "markdown",
   "metadata": {},
   "source": [
    "You can also store the output of an operation into a variable and us such variable for further operations:"
   ]
  },
  {
   "cell_type": "code",
   "execution_count": 6,
   "metadata": {},
   "outputs": [
    {
     "name": "stdout",
     "output_type": "stream",
     "text": [
      "9\n",
      "36\n"
     ]
    }
   ],
   "source": [
    "x = 3 ** 2\n",
    "y = 4 * x\n",
    "print(x)\n",
    "print(y)"
   ]
  },
  {
   "cell_type": "markdown",
   "metadata": {},
   "source": [
    "### Lists and arrays\n",
    "Lists are variables containing a sequence of ints, floats, strings etc., even other lists.... Whatever you want to put in your list. We create a list by using square brackets `[]` and passing the values of the list separated by commas."
   ]
  },
  {
   "cell_type": "code",
   "execution_count": 7,
   "metadata": {},
   "outputs": [
    {
     "data": {
      "text/plain": [
       "[1, 2, 3, 4]"
      ]
     },
     "execution_count": 7,
     "metadata": {},
     "output_type": "execute_result"
    }
   ],
   "source": [
    "my_list = [1, 2, 3, 4]\n",
    "my_list"
   ]
  },
  {
   "cell_type": "markdown",
   "metadata": {},
   "source": [
    "An array is a list of values, which allows to make numerical calculations very efficiently. We create an array by calling the `numpy` library function `np.array()` and passing a list as argument (inside the parentesis):"
   ]
  },
  {
   "cell_type": "code",
   "execution_count": 8,
   "metadata": {},
   "outputs": [
    {
     "data": {
      "text/plain": [
       "array([1, 2, 3, 4])"
      ]
     },
     "execution_count": 8,
     "metadata": {},
     "output_type": "execute_result"
    }
   ],
   "source": [
    "my_array = np.array([1, 2, 3, 4])\n",
    "my_array"
   ]
  },
  {
   "cell_type": "markdown",
   "metadata": {},
   "source": [
    "Then we can use this array to make some elementwise computations or even pairwise computations between two arrays:"
   ]
  },
  {
   "cell_type": "code",
   "execution_count": 9,
   "metadata": {},
   "outputs": [
    {
     "data": {
      "text/plain": [
       "array([2, 4, 6, 8])"
      ]
     },
     "execution_count": 9,
     "metadata": {},
     "output_type": "execute_result"
    }
   ],
   "source": [
    "my_array * 2"
   ]
  },
  {
   "cell_type": "code",
   "execution_count": 10,
   "metadata": {},
   "outputs": [
    {
     "data": {
      "text/plain": [
       "array([ 4, 10, 18, 28])"
      ]
     },
     "execution_count": 10,
     "metadata": {},
     "output_type": "execute_result"
    }
   ],
   "source": [
    "my_array * np.array([4, 5, 6, 7])"
   ]
  },
  {
   "cell_type": "markdown",
   "metadata": {},
   "source": [
    "We can even sum all of the values of the array by calling the function `sum()`"
   ]
  },
  {
   "cell_type": "code",
   "execution_count": 11,
   "metadata": {},
   "outputs": [
    {
     "data": {
      "text/plain": [
       "10"
      ]
     },
     "execution_count": 11,
     "metadata": {},
     "output_type": "execute_result"
    }
   ],
   "source": [
    "sum(my_array)"
   ]
  },
  {
   "cell_type": "markdown",
   "metadata": {},
   "source": [
    "## Stage 1 - Compute LCOE\n",
    "\n",
    "According to [OEE](http://www.open-electricity-economics.org/book/text/03.html) the formula to calculate LCOE is as follows:\n",
    "\n",
    "\\\\(LCOE = \\frac{C_{fix} + \\sum_{y=1}^Y CRF_y \\cdot C_y}{\\sum_{y=1}^Y CRF_y \\cdot G_y}\\\\)\n",
    "\n",
    "where LCOE is the levelized cost in EUR per kWh, \\\\(C_{fix}\\\\) is the capital investment costs incurred for setting up the project, \\\\(C_y\\\\) are operational costs incurred in year \\\\(y\\\\), \\\\(Y\\\\) is the technical lifetime in years, and \\\\(G_y\\\\) is electricity generation in kWh. The costs are called levelized because they are “leveled” over all units of output. Levelized costs can be calculated for a specific power plant or for generic types of generation technologies.\n",
    "\n",
    "Capital recovery factor (CRF) is calculated for each year \\\\(y\\\\) of the plant's technical lifetime\n",
    "\n",
    "\\\\(CRF_y =  (1 + r)^{-y}\\\\)\n",
    "\n",
    "where r is the discount rate"
   ]
  },
  {
   "cell_type": "markdown",
   "metadata": {},
   "source": [
    "Here we can store the technical lifetime of our technology in a *variable* called ``technical_lifetime``"
   ]
  },
  {
   "cell_type": "code",
   "execution_count": 12,
   "metadata": {},
   "outputs": [],
   "source": [
    "technical_lifetime = 20"
   ]
  },
  {
   "cell_type": "markdown",
   "metadata": {},
   "source": [
    "You can access the value stored in the *variable* at anytime, by typing its name and press `shift` + `enter`"
   ]
  },
  {
   "cell_type": "code",
   "execution_count": 13,
   "metadata": {},
   "outputs": [
    {
     "data": {
      "text/plain": [
       "20"
      ]
     },
     "execution_count": 13,
     "metadata": {},
     "output_type": "execute_result"
    }
   ],
   "source": [
    "technical_lifetime"
   ]
  },
  {
   "cell_type": "markdown",
   "metadata": {},
   "source": [
    "We then create an *array* of years using the value stored in ``technical_lifetime``. \n",
    "\n",
    "An *array* is like a list of values. The command ``np.arange()`` takes a number as an argument and creates a *array* of the same length containing the values from 0 to one less than the number."
   ]
  },
  {
   "cell_type": "code",
   "execution_count": 14,
   "metadata": {},
   "outputs": [
    {
     "data": {
      "text/plain": [
       "array([ 0,  1,  2,  3,  4,  5,  6,  7,  8,  9, 10, 11, 12, 13, 14, 15, 16,\n",
       "       17, 18, 19])"
      ]
     },
     "execution_count": 14,
     "metadata": {},
     "output_type": "execute_result"
    }
   ],
   "source": [
    "year = np.arange(technical_lifetime)\n",
    "year"
   ]
  },
  {
   "cell_type": "markdown",
   "metadata": {},
   "source": [
    "Now we calculate CRF for each year in our plant's technical lifetime according to the formula we saw earlier:\n",
    "\\\\(CRF_y =  (1 + r)^{-y}\\\\); \\\\(r\\\\) is the discount rate, and \\\\(y\\\\) is the year.\n",
    "\n",
    "**Implement the CRF formula in the cell below. Remember that to exponentiate in Python we use** `**`.\n",
    "\n",
    "**Q. What happens if you change the discount rate?**"
   ]
  },
  {
   "cell_type": "code",
   "execution_count": 16,
   "metadata": {},
   "outputs": [
    {
     "name": "stdout",
     "output_type": "stream",
     "text": [
      "[1.         0.95238095 0.90702948 0.8638376  0.82270247 0.78352617\n",
      " 0.7462154  0.71068133 0.67683936 0.64460892 0.61391325 0.58467929\n",
      " 0.55683742 0.53032135 0.50506795 0.4810171  0.45811152 0.43629669\n",
      " 0.41552065 0.39573396]\n"
     ]
    }
   ],
   "source": [
    "discount_rate = 0.05\n",
    "crf = (1 + discount_rate) ** -year\n",
    "print(crf) # we use the command print, to show the values stored inside the crf variable"
   ]
  },
  {
   "cell_type": "code",
   "execution_count": 17,
   "metadata": {},
   "outputs": [
    {
     "name": "stdout",
     "output_type": "stream",
     "text": [
      "Your answer is correct!\n"
     ]
    }
   ],
   "source": [
    "# Run this cell to check your answer\n",
    "checker_crf(crf, discount_rate, year)"
   ]
  },
  {
   "cell_type": "markdown",
   "metadata": {},
   "source": [
    "Now we've calculated CRF, let's get some data for the other parameters:"
   ]
  },
  {
   "cell_type": "code",
   "execution_count": 18,
   "metadata": {},
   "outputs": [],
   "source": [
    "capital_costs = 1000.0  # €\n",
    "operational_costs = np.repeat(500, technical_lifetime)  # €\n",
    "electricity_generation = np.repeat(8760., technical_lifetime)  # kWh"
   ]
  },
  {
   "cell_type": "markdown",
   "metadata": {},
   "source": [
    "The code above creates variables, each containing an *array* of values. We automatically generate the arrays using `np.repeat(50, technical_lifetime)`. This creates an array of length `technical_lifetime` where each element in the array contains the value `50`.\n",
    "\n",
    "---\n",
    "\n",
    "Remember the formula? Let's check it again:\n",
    "\n",
    "\\\\(LCOE = \\frac{C_{fix} + \\sum_{y=1}^Y CRF_y \\cdot C_y}{\\sum_{y=1}^Y CRF_y \\cdot G_y}\\\\)\n",
    "\n",
    "Now, implement the LCOE formula in the cell below:"
   ]
  },
  {
   "cell_type": "code",
   "execution_count": 19,
   "metadata": {},
   "outputs": [
    {
     "name": "stdout",
     "output_type": "stream",
     "text": [
      "0.06580154242125368\n"
     ]
    }
   ],
   "source": [
    "lcoe = (capital_costs + sum(crf * operational_costs)) / sum(crf * electricity_generation)\n",
    "print(lcoe)  # €/kWh"
   ]
  },
  {
   "cell_type": "code",
   "execution_count": 20,
   "metadata": {},
   "outputs": [
    {
     "name": "stdout",
     "output_type": "stream",
     "text": [
      "Your answer is correct!\n"
     ]
    }
   ],
   "source": [
    "checker_lcoe(lcoe, capital_costs, operational_costs, electricity_generation, discount_rate, technical_lifetime)"
   ]
  },
  {
   "cell_type": "markdown",
   "metadata": {},
   "source": [
    "At the moment, this seems a pretty arbitrary result. We're just putting in nonsense data, and we are getting nonsense in return. In stage 2, we'll start working with real data, but first, we need to make this calculation re-useable.\n",
    "\n",
    "---\n",
    "\n",
    "In Python, if we want to reuse a piece of code, we'll create a \"function\". To do this, you use the ``def`` command like this:\n",
    "\n",
    "```python\n",
    "def get_lcoe(capital_costs, operational_costs, electricity_generation, discount_rate, technical_lifetime):\n",
    "    # <<Something should go here>>\n",
    "    return lcoe\n",
    "```\n",
    "\n",
    "- In the above example `lcoe` is the name of the function\n",
    "- The list of names in the round brackets `()` are arguments\n",
    "- Don't forget the `:` at the end of the list of arguments\n",
    "- Use four spaces to indent your code\n",
    "- The argument passed to `return` in the last line is what the function will give back when you run it\n",
    "\n",
    "**Q. What should go in the function?**\n",
    "\n",
    "Have a go below:"
   ]
  },
  {
   "cell_type": "code",
   "execution_count": 21,
   "metadata": {},
   "outputs": [],
   "source": [
    "def get_lcoe(capital_costs, operational_costs, electricity_generation, discount_rate, technical_lifetime):\n",
    "    # Write your code next, be sure to include any variable needed to calculate the lcoe value.\n",
    "    # Use the input variables of the function: \n",
    "    # (capital_costs, operational_costs, electricity_generation, discount_rate, technical_lifetime)\n",
    "    \n",
    "    # <<Write your code here>>\n",
    "    year = np.arange(technical_lifetime)\n",
    "    crf = (1 + discount_rate) ** -year\n",
    "    lcoe = (capital_costs + sum(crf * operational_costs)) / sum(crf * electricity_generation)\n",
    "    return lcoe"
   ]
  },
  {
   "cell_type": "markdown",
   "metadata": {},
   "source": [
    "Test your `lcoe` function by running the cell below."
   ]
  },
  {
   "cell_type": "code",
   "execution_count": 22,
   "metadata": {},
   "outputs": [
    {
     "name": "stdout",
     "output_type": "stream",
     "text": [
      "0.1751093834091417\n",
      "Your answer is correct!\n"
     ]
    }
   ],
   "source": [
    "actual = get_lcoe(5000, np.array([100, 100, 100, 100]), np.array([8760, 8760, 8760, 8760]), 0.1, 4)\n",
    "print(actual)\n",
    "checker_lcoe(actual, 5000, np.array([100, 100, 100, 100]), np.array([8760, 8760, 8760, 8760]), 0.1, 4)"
   ]
  },
  {
   "cell_type": "markdown",
   "metadata": {},
   "source": [
    "### Stage 1 - Summary\n",
    "\n",
    "If you managed to get it to work, well done! You've written a Python function which computes LCOE. If not, don't worry, the answer is below! Make sure to write it in the function so the following steps of the Lab work.\n",
    "\n",
    "- In this stage, we introduced the LCOE equation\n",
    "\\\\(LCOE = \\frac{C_{fix} + \\sum_{y=1}^Y CRF_y \\cdot C_y}{\\sum_{y=1}^Y CRF_y \\cdot G_y}\\\\)\n",
    "and implemented it using a Python function.\n",
    "- We also explored how the capital recovery factors weighs future years differently as a function of the discount rate.\n",
    "- We learnt a lot of Python concepts including *variables*, *arrays*, and *arguments*.\n",
    "- We learnt how to reuse Python code by writing a function.\n",
    "\n",
    "In the next stage, we'll extend our function to make it more useful and investigate the LCOE calculation itself.\n",
    "\n",
    "### Stage 1 - Answer LCOE Function\n",
    "\n",
    "As you can see, we just need to fill in the gaps. First build the array of years, calculate the array of CRF and then add the lcoe calculation.\n",
    "```python\n",
    "def get_lcoe(capital_costs, operational_costs, electricity_generation, discount_rate, technical_lifetime):\n",
    "    year = np.arange(technical_lifetime)\n",
    "    crf = (1 + discount_rate) ** - year\n",
    "    lcoe = (capital_costs + sum(crf * operational_costs)) / sum(crf * electricity_generation)\n",
    "    return lcoe\n",
    "```"
   ]
  },
  {
   "cell_type": "markdown",
   "metadata": {},
   "source": [
    "## Stage 2 - Explore Parameter Values"
   ]
  },
  {
   "cell_type": "markdown",
   "metadata": {},
   "source": [
    "We'll now make use of an LCOE function to explore the effect of different parameter values for one technology - a combined cycle gas turbine. In the following implementation of LCOE, we make the assumption that the yearly values for operational costs and electricity generation are the same in each year of the technology's lifetime."
   ]
  },
  {
   "cell_type": "markdown",
   "metadata": {},
   "source": [
    "Here are the parameters for a combined cycle gas turbine (CCGT):\n",
    "\n",
    "Parameter | Unit |Value\n",
    "---|---|---\n",
    "Lifetime| |25\n",
    "Discount rate | |\t\t\t8.0%\n",
    "Station size | MW |\t750.0\n",
    "Overnight cost | €/kW | 750.0\n",
    "Fixed O&M cost | €/kW\t| 3.0\n",
    "Efficiency | | 0.5\n",
    "Fuel price | €/kWh| 0.03\n",
    "Emission Factor\t| ton/kW-yr| 1.8\n",
    "Load factor | | 0.75\n",
    "\n",
    "Here's the information we need to calculate the LCOE using the simple LCOE equation we developed earlier.\n",
    "\n",
    "Parameter | Unit |Value\n",
    "---|---|---\n",
    "Capital cost | € | ?\n",
    "Electricity generation | kWh | ?\n",
    "Annual fixed O&M cost |\t€\t| ?\n",
    "Annual variable O&M cost |€| ?\n",
    "Annual operational cost | € | ?\n",
    "\n",
    "**Q. What's the levelised cost of electricity for the CCGT plant?**\n",
    "- work through the list of inputs methodically. \n",
    "- Pay close attention to the units.  \n",
    "- Use Python variables to store information you reuse.\n",
    "\n",
    "### Hints\n",
    "\n",
    "- Remember there are approximately `365 * 24 = 8760` hours in a year.\n",
    "- The load factor describes the proportion of those 8760 hours the plant is operational.\n",
    "- Total operational costs are made up of fixed costs (not a function of activity) and variable costs (function of activity).\n",
    "- The fixed costs are a function of capacity.\n",
    "- The variable cost will be the product of the amount of fuel used and the fuel price.\n",
    "- Fuel use can be computed from electricity generation and efficiency.\n",
    "- Create any new variable if you need to."
   ]
  },
  {
   "cell_type": "code",
   "execution_count": 26,
   "metadata": {},
   "outputs": [
    {
     "name": "stdout",
     "output_type": "stream",
     "text": [
      "4927500000.0\n",
      "297900000.0\n"
     ]
    }
   ],
   "source": [
    "# Add your working HERE\n",
    "\n",
    "# 1. Populate some variables using the information from the table\n",
    "\n",
    "lifetime = 25\n",
    "discount_rate = 0.08\n",
    "capacity = 750000 # kW\n",
    "overnight_cost = 750.0 # €/kW\n",
    "fixed_om_cost = 3 # €/kW\n",
    "efficiency = 0.5\n",
    "fuel_price = 0.03 # €/kWh\n",
    "load_factor = 0.75\n",
    "\n",
    "# 2. Calculate the intermediate values (you can use Python like a calculator)\n",
    "# Use *+-/ for multiply, add, substract and divide.\n",
    "\n",
    "capital_costs = capacity * overnight_cost # in €\n",
    "electricity_generation = capacity * 8760 * load_factor\n",
    "total_fixed_om_cost = capacity * fixed_om_cost\n",
    "total_variable_om_cost = (electricity_generation / efficiency) * fuel_price\n",
    "operational_costs = total_fixed_om_cost + total_variable_om_cost\n",
    "\n",
    "print(electricity_generation)\n",
    "print(operational_costs)"
   ]
  },
  {
   "cell_type": "code",
   "execution_count": 27,
   "metadata": {},
   "outputs": [
    {
     "name": "stdout",
     "output_type": "stream",
     "text": [
      "Your electricity generation is correct!\n",
      "Your operational costs are correct!\n"
     ]
    }
   ],
   "source": [
    "# run this cell to check your answers   \n",
    "checker_parameters(electricity_generation, operational_costs, capacity, load_factor, fixed_om_cost, fuel_price, efficiency)"
   ]
  },
  {
   "cell_type": "code",
   "execution_count": 28,
   "metadata": {},
   "outputs": [
    {
     "name": "stdout",
     "output_type": "stream",
     "text": [
      "0.07035840299466938\n"
     ]
    }
   ],
   "source": [
    "# 3. Now use the earlier LCOE equation we developed to calculate LCOE\n",
    "actual = get_lcoe(capital_costs, operational_costs, electricity_generation, discount_rate, lifetime)\n",
    "print(actual)"
   ]
  },
  {
   "cell_type": "markdown",
   "metadata": {},
   "source": [
    "---\n",
    "Now we extend our calculation of LCOE with the parameters used above. We implement the same calculation you did in the `get_lcoe_input`. Then we use this function inside a new function called `extended_lcoe` to calculate the input parameters and the `lcoe` value using our previous definded `get_lcoe` function. You do not need to change anythiing here, just check them below and make sure to run both cells as we will need them in the next steps."
   ]
  },
  {
   "cell_type": "code",
   "execution_count": 29,
   "metadata": {},
   "outputs": [],
   "source": [
    "def get_lcoe_input(station_size, overnight_cost, fuel_efficiency, fuel_price, fixed_om_cost, load_factor):\n",
    "    \"\"\"Calculates the input parameters for the lcoe function\n",
    "    \n",
    "    Arguments\n",
    "    ---------\n",
    "    station_size : float\n",
    "        The capacity of the technology in kW\n",
    "    overnight_cost : float\n",
    "        The capital cost of the technology in €/kW\n",
    "    fuel_efficiency : float\n",
    "        The ratio describing quantity of fuel required per unit of activity\n",
    "    fuel_price : float\n",
    "        The price paid per unit of input fuel in €/kWh\n",
    "    fixed_om_cost : float\n",
    "        The fixed operation and maintenance cost of the technology in €/kW\n",
    "    load_factor : float\n",
    "        The percentage of the year in which the technology generates electricity in %.\n",
    "        \n",
    "    Returns\n",
    "    -------\n",
    "    dict\n",
    "        A dictionary containing:\n",
    "            capital_cost : float \n",
    "                The capital cost of the technology €\n",
    "            total_fixed_om_cost : float\n",
    "                Fixed costs €\n",
    "            annual_electricity_generation : float\n",
    "                annual electricity production kWh\n",
    "            total_variable_om_cost : float\n",
    "                variable cost due to fuel use €\n",
    "            annual_operational_cost : float\n",
    "                annual operational cost €\n",
    "            \n",
    "    \"\"\"\n",
    "    HOURS_IN_YEAR = 8760\n",
    "    \n",
    "    capital_cost = station_size * overnight_cost\n",
    "    total_fixed_om_cost = station_size * fixed_om_cost\n",
    "    annual_electricity_generation = station_size * HOURS_IN_YEAR * load_factor\n",
    "    total_variable_om_cost = (annual_electricity_generation / fuel_efficiency) * fuel_price\n",
    "    annual_operational_cost = total_fixed_om_cost + total_variable_om_cost\n",
    "    \n",
    "    return {'capital_cost': capital_cost, 'total_fixed_om_cost': total_fixed_om_cost,\n",
    "            'annual_electricity_generation': annual_electricity_generation, \n",
    "            'total_variable_om_cost': total_variable_om_cost, 'annual_operational_cost': annual_operational_cost}"
   ]
  },
  {
   "cell_type": "code",
   "execution_count": 30,
   "metadata": {},
   "outputs": [],
   "source": [
    "def extended_lcoe(station_size, overnight_cost, fuel_efficiency, fuel_price, fixed_om_cost, load_factor, \n",
    "                  discount_rate, technical_lifetime):\n",
    "    \"\"\"Calculates levelised cost of electricity as a function of useful parameters\n",
    "    \n",
    "    Arguments\n",
    "    ---------\n",
    "    station_size : float\n",
    "        The capacity of the technology in kW\n",
    "    overnight_cost : float\n",
    "        The capital cost of the technology in €\n",
    "    fuel_efficiency : float\n",
    "        The ratio describing quantity of fuel required per unit of activity\n",
    "    fuel_price : float\n",
    "        The price paid per unit of input fuel in €/kWh\n",
    "    fixed_om_cost : float\n",
    "        The fixed operation and maintenance cost of the technology in €/kW\n",
    "    load_factor : float\n",
    "        The percentage of the year in which the technology generates electricity in %.\n",
    "    discount_rate : float\n",
    "        A decimal value less than 1\n",
    "    technical_lifetime : int\n",
    "        Technical lifetime of the technology in years\n",
    "        \n",
    "    Returns\n",
    "    -------\n",
    "    float\n",
    "        The levelised cost of electricity in €/kWh\n",
    "    \"\"\"\n",
    "    lcoe_params = get_lcoe_input(station_size, overnight_cost, fuel_efficiency, \n",
    "                                 fuel_price, fixed_om_cost, load_factor)\n",
    "\n",
    "    value = get_lcoe(lcoe_params['capital_cost'], lcoe_params['annual_operational_cost'], \n",
    "                 lcoe_params['annual_electricity_generation'], discount_rate, \n",
    "                 technical_lifetime)\n",
    "    return value"
   ]
  },
  {
   "cell_type": "markdown",
   "metadata": {},
   "source": [
    "So to perform the calculation again using our new LCOE function, we get:"
   ]
  },
  {
   "cell_type": "code",
   "execution_count": 31,
   "metadata": {},
   "outputs": [
    {
     "data": {
      "text/plain": [
       "0.07035840299466938"
      ]
     },
     "execution_count": 31,
     "metadata": {},
     "output_type": "execute_result"
    }
   ],
   "source": [
    "ccgt_lcoe = extended_lcoe(capacity, overnight_cost, efficiency, fuel_price, fixed_om_cost, 0.75, \n",
    "                          discount_rate, lifetime)\n",
    "ccgt_lcoe"
   ]
  },
  {
   "cell_type": "markdown",
   "metadata": {},
   "source": [
    "### Q. What are the key parameters that determine the LCOE of the CCGT plant?\n",
    "\n",
    "Run the next cell to create an interactive slider widget which allows you to play with the `extended_lcoe` function and answer the following questions:\n",
    "\n",
    "1. Which is the most influential input parameter?\n",
    "2. Are all the responses linear? Is it easy to tell?\n",
    "3. What happens if gas is expensive?\n",
    "4. If the price of the gas turbine doubles from €750/kW to €1500/kW, what's the effect upon LCOE at different load factors?\n",
    "5. How important is discount rate compared to the fuel price?"
   ]
  },
  {
   "cell_type": "code",
   "execution_count": 32,
   "metadata": {},
   "outputs": [
    {
     "data": {
      "application/vnd.jupyter.widget-view+json": {
       "model_id": "cb3e3b68334644cbaaf3bb1df392757f",
       "version_major": 2,
       "version_minor": 0
      },
      "text/plain": [
       "interactive(children=(IntSlider(value=750, description='overnight_cost', max=1200, min=300), FloatSlider(value…"
      ]
     },
     "metadata": {},
     "output_type": "display_data"
    },
    {
     "data": {
      "text/plain": [
       "<function __main__.extended_lcoe(station_size, overnight_cost, fuel_efficiency, fuel_price, fixed_om_cost, load_factor, discount_rate, technical_lifetime)>"
      ]
     },
     "execution_count": 32,
     "metadata": {},
     "output_type": "execute_result"
    }
   ],
   "source": [
    "interact(extended_lcoe, station_size=fixed(750000), overnight_cost=(300, 1200), fuel_efficiency=(0.3, 0.7, 0.05), \n",
    "         fuel_price=(0.01, 0.10, 0.01), fixed_om_cost=(1, 5, 0.5), load_factor=(0.01, 1.0, 0.1), \n",
    "         discount_rate=(0.01, 0.30, 0.01), technical_lifetime=(10, 40, 1))"
   ]
  },
  {
   "cell_type": "markdown",
   "metadata": {},
   "source": [
    "### Stage 2 - Summary\n",
    "\n",
    "- In this stage, we calculated the levelised cost for a CCGT plant.\n",
    "- Then, we explored the LCOE equation interactively to try to understand what parameters influence the LCOE of a technology.\n",
    "\n",
    "In the next stage, we compare LCOE across technologies."
   ]
  },
  {
   "cell_type": "markdown",
   "metadata": {},
   "source": [
    "# Stage 3: Comparing technologies\n",
    "\n",
    "In the previous stages, we developed our understanding of the LCOE equation, and applied it to one technology. Now comes the *really* fun part, where we develop a comparison across different technologies."
   ]
  },
  {
   "cell_type": "markdown",
   "metadata": {},
   "source": [
    "We can now make a more advanced function which holds the logic to calculate LCOE when we have a number of extra input parameters. Now, we can pass a *list* (elements separated by commas inside square brackets) of parameter values, and the function returns a list of results.\n",
    "\n",
    "You don need to change anything in the following functions, just check them and run them."
   ]
  },
  {
   "cell_type": "code",
   "execution_count": 33,
   "metadata": {},
   "outputs": [],
   "source": [
    "def lcoe_params(station_sizes, overnight_costs, fixed_om_costs, load_factors, efficiencies, \n",
    "                 fuel_prices, discount_rates, technical_lifetimes, technology):\n",
    "    \"\"\"Calculate LCOE for cartesian product of all parameter lists\n",
    "    \"\"\"\n",
    "    results = []  # Create a list to hold the observations\n",
    "    \n",
    "    # Loop over cartesian product of parameter values\n",
    "    for (capacity, capex, fixed_om_cost, load_factor, efficiency, \n",
    "        fuel_price, discount_rate, technical_lifetime) in itertools.product(\n",
    "        station_sizes, overnight_costs, fixed_om_costs, load_factors, \n",
    "        efficiencies, fuel_prices, discount_rates, technical_lifetimes):\n",
    "\n",
    "        observation = {}  # Create a dictionary to store the observation\n",
    "        \n",
    "        lcoe_params = get_lcoe_input(capacity, capex, efficiency, \n",
    "                                     fuel_price, fixed_om_cost, load_factor)\n",
    "\n",
    "        lcoe = extended_lcoe(capacity, capex, efficiency, fuel_price, fixed_om_cost, \n",
    "                             load_factor, discount_rate, technical_lifetime)\n",
    "    \n",
    "        observation['Technology'] = technology\n",
    "        observation['StationSize'] = capacity\n",
    "        observation['OvernightCost'] = capex\n",
    "        observation['FixedOMCost'] = fixed_om_cost\n",
    "        observation['LoadFactor'] = load_factor\n",
    "        observation['Efficiency'] = efficiency\n",
    "        observation['FuelPrice'] = fuel_price\n",
    "        observation['DiscountRate'] = discount_rate\n",
    "        observation['Lifetime'] = technical_lifetime\n",
    "        observation['LCOE'] = lcoe\n",
    "        \n",
    "        year = np.arange(technical_lifetime)\n",
    "        total_crf = sum((1 + discount_rate) ** - year)\n",
    "        \n",
    "        observation['Fixed OM Cost'] = (total_crf * lcoe_params['total_fixed_om_cost']) / \\\n",
    "                                       (total_crf * lcoe_params['annual_electricity_generation'])\n",
    "        observation['Variable OM Cost'] = (total_crf * lcoe_params['total_variable_om_cost']) / \\\n",
    "                                          (total_crf * lcoe_params['annual_electricity_generation'])\n",
    "        observation['Capital Cost'] = lcoe_params['capital_cost'] / \\\n",
    "                                      (total_crf * lcoe_params['annual_electricity_generation'])\n",
    "\n",
    "        results.append(observation)\n",
    "        \n",
    "    return results"
   ]
  },
  {
   "cell_type": "markdown",
   "metadata": {},
   "source": [
    "First, we'll use our new function to compare multiple technologies under their central operating characteristics, and explore how that changes under different discount rates. Run the folowing cell to pass all of the input values for each technology to the function. Give it a minute and you will se a plot below."
   ]
  },
  {
   "cell_type": "code",
   "execution_count": 40,
   "metadata": {},
   "outputs": [
    {
     "data": {
      "application/vnd.plotly.v1+json": {
       "config": {
        "plotlyServerURL": "https://plot.ly"
       },
       "data": [
        {
         "hovertemplate": "Technology=CCGT<br>DiscountRate=0.05<br>LoadFactor (%)=%{x}<br>LCOE (€/kW)=%{y}<extra></extra>",
         "legendgroup": "CCGT",
         "line": {
          "color": "#636efa",
          "dash": "solid"
         },
         "mode": "lines",
         "name": "CCGT",
         "orientation": "v",
         "showlegend": true,
         "type": "scatter",
         "x": [
          0.1,
          0.11,
          0.12,
          0.13,
          0.13999999999999999,
          0.14999999999999997,
          0.15999999999999998,
          0.16999999999999998,
          0.17999999999999997,
          0.18999999999999995,
          0.19999999999999996,
          0.20999999999999996,
          0.21999999999999995,
          0.22999999999999995,
          0.23999999999999994,
          0.24999999999999992,
          0.2599999999999999,
          0.2699999999999999,
          0.2799999999999999,
          0.2899999999999999,
          0.29999999999999993,
          0.30999999999999994,
          0.3199999999999999,
          0.32999999999999985,
          0.33999999999999986,
          0.34999999999999987,
          0.3599999999999999,
          0.3699999999999999,
          0.3799999999999999,
          0.3899999999999999,
          0.3999999999999998,
          0.4099999999999998,
          0.4199999999999998,
          0.4299999999999998,
          0.43999999999999984,
          0.44999999999999984,
          0.45999999999999985,
          0.46999999999999986,
          0.47999999999999976,
          0.48999999999999977,
          0.4999999999999998,
          0.5099999999999998,
          0.5199999999999998,
          0.5299999999999998,
          0.5399999999999998,
          0.5499999999999998,
          0.5599999999999997,
          0.5699999999999997,
          0.5799999999999997,
          0.5899999999999997,
          0.5999999999999998,
          0.6099999999999998,
          0.6199999999999998,
          0.6299999999999997,
          0.6399999999999997,
          0.6499999999999997,
          0.6599999999999997,
          0.6699999999999997,
          0.6799999999999997,
          0.6899999999999997,
          0.6999999999999996,
          0.7099999999999996,
          0.7199999999999996,
          0.7299999999999996,
          0.7399999999999997,
          0.7499999999999997,
          0.7599999999999997,
          0.7699999999999997,
          0.7799999999999997,
          0.7899999999999996,
          0.7999999999999996,
          0.8099999999999996,
          0.8199999999999996,
          0.8299999999999996,
          0.8399999999999996,
          0.8499999999999996,
          0.8599999999999995,
          0.8699999999999996,
          0.8799999999999996,
          0.8899999999999996,
          0.8999999999999996,
          0.9099999999999996,
          0.9199999999999996,
          0.9299999999999996,
          0.9399999999999996,
          0.9499999999999995,
          0.9599999999999995,
          0.9699999999999995,
          0.9799999999999995,
          0.9899999999999995
         ],
         "xaxis": "x",
         "y": [
          0.12127891169213117,
          0.11570810153830105,
          0.11106575974344265,
          0.10713762437856239,
          0.10377065120866512,
          0.10085260779475409,
          0.09829931980758197,
          0.09604641864243008,
          0.09404383982896174,
          0.09225205878533221,
          0.09063945584606559,
          0.0891804341391101,
          0.08785405076915055,
          0.08664300508353533,
          0.08553287987172134,
          0.08451156467685249,
          0.08356881218928121,
          0.08269589321930784,
          0.08188532560433257,
          0.08113065920418318,
          0.08042630389737702,
          0.07976739086842939,
          0.079149659903791,
          0.07856936717943368,
          0.07802320932121505,
          0.07750826048346608,
          0.0770219199144809,
          0.07656186802490034,
          0.07612602939266612,
          0.07571254145952085,
          0.0753197279230328,
          0.07494607602247103,
          0.07459021706955506,
          0.07425090969584446,
          0.07392702538457527,
          0.0736175359315847,
          0.07332150254176768,
          0.07303806631747474,
          0.07276643993586066,
          0.07250590034533291,
          0.07225578233842624,
          0.07201547288081002,
          0.07178440609464061,
          0.07156205880983606,
          0.07134794660965395,
          0.07114162030766022,
          0.0709426628021663,
          0.07075068626177741,
          0.07056532960209158,
          0.07038625621900528,
          0.0702131519486885,
          0.07004572322821824,
          0.0698836954342147,
          0.06972681137970337,
          0.06957482995189548,
          0.06942752487571248,
          0.06928468358971683,
          0.06914610622270614,
          0.06901160466060752,
          0.06888100169451176,
          0.06875413024173303,
          0.06863083263269454,
          0.06851095995724046,
          0.06839437146467549,
          0.06828093401245015,
          0.06817052155895081,
          0.06806301469633304,
          0.0679583002197573,
          0.06785627072976043,
          0.06775682426482674,
          0.06765986396151642,
          0.06756529773976927,
          0.06747303801123551,
          0.06738300140869051,
          0.06729510853477753,
          0.06720928372848602,
          0.0671254548479222,
          0.06704355306806108,
          0.06696351269228763,
          0.06688527097664394,
          0.06680876796579235,
          0.06673394633979463,
          0.06666075127088385,
          0.06658913028947647,
          0.06651903315873738,
          0.06645041175706642,
          0.06638321996793035,
          0.06631741357650837,
          0.06625295017266647,
          0.06618978905981121
         ],
         "yaxis": "y"
        },
        {
         "hovertemplate": "Technology=CCGT<br>DiscountRate=0.1<br>LoadFactor (%)=%{x}<br>LCOE (€/kW)=%{y}<extra></extra>",
         "legendgroup": "CCGT",
         "line": {
          "color": "#636efa",
          "dash": "solid"
         },
         "mode": "lines",
         "name": "CCGT",
         "orientation": "v",
         "showlegend": false,
         "type": "scatter",
         "x": [
          0.1,
          0.11,
          0.12,
          0.13,
          0.13999999999999999,
          0.14999999999999997,
          0.15999999999999998,
          0.16999999999999998,
          0.17999999999999997,
          0.18999999999999995,
          0.19999999999999996,
          0.20999999999999996,
          0.21999999999999995,
          0.22999999999999995,
          0.23999999999999994,
          0.24999999999999992,
          0.2599999999999999,
          0.2699999999999999,
          0.2799999999999999,
          0.2899999999999999,
          0.29999999999999993,
          0.30999999999999994,
          0.3199999999999999,
          0.32999999999999985,
          0.33999999999999986,
          0.34999999999999987,
          0.3599999999999999,
          0.3699999999999999,
          0.3799999999999999,
          0.3899999999999999,
          0.3999999999999998,
          0.4099999999999998,
          0.4199999999999998,
          0.4299999999999998,
          0.43999999999999984,
          0.44999999999999984,
          0.45999999999999985,
          0.46999999999999986,
          0.47999999999999976,
          0.48999999999999977,
          0.4999999999999998,
          0.5099999999999998,
          0.5199999999999998,
          0.5299999999999998,
          0.5399999999999998,
          0.5499999999999998,
          0.5599999999999997,
          0.5699999999999997,
          0.5799999999999997,
          0.5899999999999997,
          0.5999999999999998,
          0.6099999999999998,
          0.6199999999999998,
          0.6299999999999997,
          0.6399999999999997,
          0.6499999999999997,
          0.6599999999999997,
          0.6699999999999997,
          0.6799999999999997,
          0.6899999999999997,
          0.6999999999999996,
          0.7099999999999996,
          0.7199999999999996,
          0.7299999999999996,
          0.7399999999999997,
          0.7499999999999997,
          0.7599999999999997,
          0.7699999999999997,
          0.7799999999999997,
          0.7899999999999996,
          0.7999999999999996,
          0.8099999999999996,
          0.8199999999999996,
          0.8299999999999996,
          0.8399999999999996,
          0.8499999999999996,
          0.8599999999999995,
          0.8699999999999996,
          0.8799999999999996,
          0.8899999999999996,
          0.8999999999999996,
          0.9099999999999996,
          0.9199999999999996,
          0.9299999999999996,
          0.9399999999999996,
          0.9499999999999995,
          0.9599999999999995,
          0.9699999999999995,
          0.9799999999999995,
          0.9899999999999995
         ],
         "xaxis": "x2",
         "y": [
          0.14917191172946836,
          0.14106537429951668,
          0.13430992644122364,
          0.12859377825343718,
          0.123694222663906,
          0.11944794115297888,
          0.11573244483091767,
          0.11245406572321669,
          0.10953995096081576,
          0.10693258512077285,
          0.10458595586473418,
          0.10246281510927063,
          0.10053268714975837,
          0.09877039640411665,
          0.09715496322061183,
          0.09566876469178733,
          0.0942968891267186,
          0.09302663397387717,
          0.09184711133195303,
          0.090748935079127,
          0.08972397057648944,
          0.08876513281595752,
          0.08786622241545884,
          0.08702179143317226,
          0.08622703286160835,
          0.08547768906556236,
          0.0847699754804079,
          0.08410051668364008,
          0.08346629256038643,
          0.08286459275114573,
          0.08229297793236712,
          0.08174924676328497,
          0.08123140755463533,
          0.08073765389057404,
          0.08026634357487918,
          0.07981598038432629,
          0.07938519820205833,
          0.07897274717648262,
          0.07857748161030592,
          0.07819834933254458,
          0.07783438234589368,
          0.07748468857440555,
          0.07714844456335931,
          0.07682488900556006,
          0.07651331698693857,
          0.07621307485990333,
          0.0759235556659765,
          0.07564419504025757,
          0.0753744675395635,
          0.07511388334397771,
          0.07486198528824475,
          0.07461834618515877,
          0.07438256640797876,
          0.0741542717030902,
          0.07393311120772943,
          0.07371875565068746,
          0.07351089571658613,
          0.07330924055663707,
          0.07311351643080417,
          0.07292346546803888,
          0.07273884453278119,
          0.07255942418724909,
          0.07238498774020397,
          0.07221533037389978,
          0.07205025834182004,
          0.07188958823059578,
          0.0717331462801932,
          0.07158076775707381,
          0.07143229637557288,
          0.07128758376322383,
          0.07114648896618357,
          0.0710088779912924,
          0.07087462338164248,
          0.07074360382282754,
          0.07061570377731764,
          0.07049081314464335,
          0.07036882694528701,
          0.07024964502637568,
          0.0701331717874396,
          0.07001931592465936,
          0.06990799019216315,
          0.06979911117906246,
          0.06969259910102918,
          0.06958837760531918,
          0.0694863735882413,
          0.06938651702415456,
          0.06928874080515296,
          0.06919298059066684,
          0.06909917466627229,
          0.06900726381105739
         ],
         "yaxis": "y2"
        },
        {
         "hovertemplate": "Technology=Coal<br>DiscountRate=0.05<br>LoadFactor (%)=%{x}<br>LCOE (€/kW)=%{y}<extra></extra>",
         "legendgroup": "Coal",
         "line": {
          "color": "#EF553B",
          "dash": "solid"
         },
         "mode": "lines",
         "name": "Coal",
         "orientation": "v",
         "showlegend": true,
         "type": "scatter",
         "x": [
          0.1,
          0.11,
          0.12,
          0.13,
          0.13999999999999999,
          0.14999999999999997,
          0.15999999999999998,
          0.16999999999999998,
          0.17999999999999997,
          0.18999999999999995,
          0.19999999999999996,
          0.20999999999999996,
          0.21999999999999995,
          0.22999999999999995,
          0.23999999999999994,
          0.24999999999999992,
          0.2599999999999999,
          0.2699999999999999,
          0.2799999999999999,
          0.2899999999999999,
          0.29999999999999993,
          0.30999999999999994,
          0.3199999999999999,
          0.32999999999999985,
          0.33999999999999986,
          0.34999999999999987,
          0.3599999999999999,
          0.3699999999999999,
          0.3799999999999999,
          0.3899999999999999,
          0.3999999999999998,
          0.4099999999999998,
          0.4199999999999998,
          0.4299999999999998,
          0.43999999999999984,
          0.44999999999999984,
          0.45999999999999985,
          0.46999999999999986,
          0.47999999999999976,
          0.48999999999999977,
          0.4999999999999998,
          0.5099999999999998,
          0.5199999999999998,
          0.5299999999999998,
          0.5399999999999998,
          0.5499999999999998,
          0.5599999999999997,
          0.5699999999999997,
          0.5799999999999997,
          0.5899999999999997,
          0.5999999999999998,
          0.6099999999999998,
          0.6199999999999998,
          0.6299999999999997,
          0.6399999999999997,
          0.6499999999999997,
          0.6599999999999997,
          0.6699999999999997,
          0.6799999999999997,
          0.6899999999999997,
          0.6999999999999996,
          0.7099999999999996,
          0.7199999999999996,
          0.7299999999999996,
          0.7399999999999997,
          0.7499999999999997,
          0.7599999999999997,
          0.7699999999999997,
          0.7799999999999997,
          0.7899999999999996,
          0.7999999999999996,
          0.8099999999999996,
          0.8199999999999996,
          0.8299999999999996,
          0.8399999999999996,
          0.8499999999999996,
          0.8599999999999995,
          0.8699999999999996,
          0.8799999999999996,
          0.8899999999999996,
          0.8999999999999996,
          0.9099999999999996,
          0.9199999999999996,
          0.9299999999999996,
          0.9399999999999996,
          0.9499999999999995,
          0.9599999999999995,
          0.9699999999999995,
          0.9799999999999995,
          0.9899999999999995
         ],
         "xaxis": "x",
         "y": [
          0.16350121163481157,
          0.15091019239528325,
          0.140417676362343,
          0.13153939356523967,
          0.1239294368820083,
          0.11733414108987436,
          0.11156325727175727,
          0.10647130096165389,
          0.10194511757489536,
          0.09789537454463772,
          0.09425060581740581,
          0.09095295792133883,
          0.08795509619764165,
          0.08521791810209203,
          0.08270883818117152,
          0.08040048465392467,
          0.07826969678261986,
          0.07629674504993021,
          0.07446471844100415,
          0.07275903849476266,
          0.07116707054493718,
          0.06967781020477795,
          0.06828162863587865,
          0.0669700641317611,
          0.06573565048082695,
          0.06457177475280335,
          0.06347255878744766,
          0.06243275990130042,
          0.061447687272318856,
          0.060513131188413234,
          0.05962530290870293,
          0.05878078332556381,
          0.057976478960669445,
          0.05720958410111899,
          0.05647754809882084,
          0.05577804702995814,
          0.05510895905104603,
          0.054468342901023745,
          0.05385441909058575,
          0.053265553394859534,
          0.05270024232696233,
          0.05215710032055129,
          0.05163484839130993,
          0.05113230408203994,
          0.0506483725249651,
          0.05018203847905667,
          0.04973235922050207,
          0.049298458181545886,
          0.04887951924738132,
          0.04847478163301894,
          0.04808353527246858,
          0.04770511666144454,
          0.047338905102388994,
          0.04698431930711295,
          0.04664081431793933,
          0.04630787871304795,
          0.04598503206588055,
          0.04567182263206145,
          0.04536782524041347,
          0.04507263936736401,
          0.044785887376401684,
          0.044507212906311495,
          0.044236279393723835,
          0.043972768717097495,
          0.04371637995065021,
          0.0434668282179749,
          0.04322384363615944,
          0.042987170342183335,
          0.04275656559420662,
          0.0425317989411154,
          0.042312651454351466,
          0.04209891501664342,
          0.0418903916627819,
          0.0416868929680496,
          0.041488239480334727,
          0.04129426019233079,
          0.04110479205055949,
          0.04091967949825422,
          0.04073877404941042,
          0.04056193389155187,
          0.04038902351497907,
          0.04021991336646281,
          0.040054479525523025,
          0.03989260340159264,
          0.039734171450511876,
          0.03957907490892755,
          0.03942720954529287,
          0.03927847542626923,
          0.03913277669742977,
          0.03899002137725369
         ],
         "yaxis": "y"
        },
        {
         "hovertemplate": "Technology=Coal<br>DiscountRate=0.1<br>LoadFactor (%)=%{x}<br>LCOE (€/kW)=%{y}<extra></extra>",
         "legendgroup": "Coal",
         "line": {
          "color": "#EF553B",
          "dash": "solid"
         },
         "mode": "lines",
         "name": "Coal",
         "orientation": "v",
         "showlegend": false,
         "type": "scatter",
         "x": [
          0.1,
          0.11,
          0.12,
          0.13,
          0.13999999999999999,
          0.14999999999999997,
          0.15999999999999998,
          0.16999999999999998,
          0.17999999999999997,
          0.18999999999999995,
          0.19999999999999996,
          0.20999999999999996,
          0.21999999999999995,
          0.22999999999999995,
          0.23999999999999994,
          0.24999999999999992,
          0.2599999999999999,
          0.2699999999999999,
          0.2799999999999999,
          0.2899999999999999,
          0.29999999999999993,
          0.30999999999999994,
          0.3199999999999999,
          0.32999999999999985,
          0.33999999999999986,
          0.34999999999999987,
          0.3599999999999999,
          0.3699999999999999,
          0.3799999999999999,
          0.3899999999999999,
          0.3999999999999998,
          0.4099999999999998,
          0.4199999999999998,
          0.4299999999999998,
          0.43999999999999984,
          0.44999999999999984,
          0.45999999999999985,
          0.46999999999999986,
          0.47999999999999976,
          0.48999999999999977,
          0.4999999999999998,
          0.5099999999999998,
          0.5199999999999998,
          0.5299999999999998,
          0.5399999999999998,
          0.5499999999999998,
          0.5599999999999997,
          0.5699999999999997,
          0.5799999999999997,
          0.5899999999999997,
          0.5999999999999998,
          0.6099999999999998,
          0.6199999999999998,
          0.6299999999999997,
          0.6399999999999997,
          0.6499999999999997,
          0.6599999999999997,
          0.6699999999999997,
          0.6799999999999997,
          0.6899999999999997,
          0.6999999999999996,
          0.7099999999999996,
          0.7199999999999996,
          0.7299999999999996,
          0.7399999999999997,
          0.7499999999999997,
          0.7599999999999997,
          0.7699999999999997,
          0.7799999999999997,
          0.7899999999999996,
          0.7999999999999996,
          0.8099999999999996,
          0.8199999999999996,
          0.8299999999999996,
          0.8399999999999996,
          0.8499999999999996,
          0.8599999999999995,
          0.8699999999999996,
          0.8799999999999996,
          0.8899999999999996,
          0.8999999999999996,
          0.9099999999999996,
          0.9199999999999996,
          0.9299999999999996,
          0.9399999999999996,
          0.9499999999999995,
          0.9599999999999995,
          0.9699999999999995,
          0.9799999999999995,
          0.9899999999999995
         ],
         "xaxis": "x2",
         "y": [
          0.24592093217081254,
          0.22583721106437507,
          0.20910077680901043,
          0.19493917859293275,
          0.18280066583629484,
          0.1722806214472085,
          0.16307558260675792,
          0.1549534895122428,
          0.14773385120600704,
          0.1412741748267435,
          0.1354604660854063,
          0.13020044389086324,
          0.1254186055321876,
          0.12105257920470121,
          0.11705038840450525,
          0.11336837286832507,
          0.10996958929646641,
          0.10682256747067136,
          0.1039003329181474,
          0.10117963178303889,
          0.09864031072360423,
          0.09626481682929441,
          0.09403779130337897,
          0.09194573702145843,
          0.08997674475612143,
          0.08812026633451792,
          0.08636692560300353,
          0.08470836004616558,
          0.08313708741337175,
          0.08164639286431094,
          0.08023023304270317,
          0.0788831541880031,
          0.07760022194543163,
          0.07637696096995646,
          0.07520930276609382,
          0.07409354048240284,
          0.0730262896023506,
          0.07200445365336441,
          0.07102519420225263,
          0.07008590452465567,
          0.06918418643416253,
          0.06831782983741426,
          0.06748479464823319,
          0.06668319474920997,
          0.06591128373533567,
          0.06516744221287503,
          0.06445016645907371,
          0.06375805827558119,
          0.06308981589151946,
          0.06244422579166316,
          0.06182015536180211,
          0.061216546257510274,
          0.06063240841464721,
          0.06006681463028773,
          0.05951889565168949,
          0.058987835718586575,
          0.05847286851072922,
          0.05797327345833026,
          0.057488372378060724,
          0.05701752640156707,
          0.056560133167258976,
          0.056115624249410245,
          0.055683462801501785,
          0.05526314139326203,
          0.0548541800230828,
          0.054456124289441694,
          0.05406854370668589,
          0.053691030152053607,
          0.053323196432155474,
          0.052964674958330724,
          0.05261511652135158,
          0.05227418915689047,
          0.05194157709400154,
          0.051616979779616,
          0.05130011097271583,
          0.05099069790244853,
          0.05068848048497822,
          0.05039321059434629,
          0.05010465138304691,
          0.04982257664840592,
          0.04954677024120141,
          0.04927702551327612,
          0.049013144801175294,
          0.048754938943098125,
          0.048502226826682204,
          0.04825483496534869,
          0.0480125971011263,
          0.047775353832042546,
          0.04754295226232783,
          0.047315245673819464
         ],
         "yaxis": "y2"
        },
        {
         "hovertemplate": "Technology=Nuclear<br>DiscountRate=0.05<br>LoadFactor (%)=%{x}<br>LCOE (€/kW)=%{y}<extra></extra>",
         "legendgroup": "Nuclear",
         "line": {
          "color": "#00cc96",
          "dash": "solid"
         },
         "mode": "lines",
         "name": "Nuclear",
         "orientation": "v",
         "showlegend": true,
         "type": "scatter",
         "x": [
          0.1,
          0.11,
          0.12,
          0.13,
          0.13999999999999999,
          0.14999999999999997,
          0.15999999999999998,
          0.16999999999999998,
          0.17999999999999997,
          0.18999999999999995,
          0.19999999999999996,
          0.20999999999999996,
          0.21999999999999995,
          0.22999999999999995,
          0.23999999999999994,
          0.24999999999999992,
          0.2599999999999999,
          0.2699999999999999,
          0.2799999999999999,
          0.2899999999999999,
          0.29999999999999993,
          0.30999999999999994,
          0.3199999999999999,
          0.32999999999999985,
          0.33999999999999986,
          0.34999999999999987,
          0.3599999999999999,
          0.3699999999999999,
          0.3799999999999999,
          0.3899999999999999,
          0.3999999999999998,
          0.4099999999999998,
          0.4199999999999998,
          0.4299999999999998,
          0.43999999999999984,
          0.44999999999999984,
          0.45999999999999985,
          0.46999999999999986,
          0.47999999999999976,
          0.48999999999999977,
          0.4999999999999998,
          0.5099999999999998,
          0.5199999999999998,
          0.5299999999999998,
          0.5399999999999998,
          0.5499999999999998,
          0.5599999999999997,
          0.5699999999999997,
          0.5799999999999997,
          0.5899999999999997,
          0.5999999999999998,
          0.6099999999999998,
          0.6199999999999998,
          0.6299999999999997,
          0.6399999999999997,
          0.6499999999999997,
          0.6599999999999997,
          0.6699999999999997,
          0.6799999999999997,
          0.6899999999999997,
          0.6999999999999996,
          0.7099999999999996,
          0.7199999999999996,
          0.7299999999999996,
          0.7399999999999997,
          0.7499999999999997,
          0.7599999999999997,
          0.7699999999999997,
          0.7799999999999997,
          0.7899999999999996,
          0.7999999999999996,
          0.8099999999999996,
          0.8199999999999996,
          0.8299999999999996,
          0.8399999999999996,
          0.8499999999999996,
          0.8599999999999995,
          0.8699999999999996,
          0.8799999999999996,
          0.8899999999999996,
          0.8999999999999996,
          0.9099999999999996,
          0.9199999999999996,
          0.9299999999999996,
          0.9399999999999996,
          0.9499999999999995,
          0.9599999999999995,
          0.9699999999999995,
          0.9799999999999995,
          0.9899999999999995
         ],
         "xaxis": "x",
         "y": [
          0.2827710477123444,
          0.2582009524657675,
          0.23772587309362023,
          0.22040080593257255,
          0.20555074836596032,
          0.19268069847489627,
          0.1814194048202152,
          0.17148296924255554,
          0.1626505820624136,
          0.15474791984860228,
          0.14763552385617226,
          0.14120049891064024,
          0.1353504762328838,
          0.1300091511792801,
          0.12511293654681013,
          0.1206084190849377,
          0.11645040296628632,
          0.11260038804160905,
          0.1090253741829802,
          0.10569691300425671,
          0.10259034923744814,
          0.09968420893946593,
          0.09695970241010764,
          0.09440031748858922,
          0.09199148462127778,
          0.08972029934638415,
          0.08757529103120681,
          0.08554622911144442,
          0.08362395992430115,
          0.08180026864419088,
          0.08006776192808614,
          0.07841976773471816,
          0.07685024945532012,
          0.0753537320261266,
          0.07392523811644193,
          0.0725602328249654,
          0.07125457558964006,
          0.07000447823666903,
          0.06880646827340507,
          0.06765735667598867,
          0.06655420954246885,
          0.06549432308085187,
          0.06447520148314315,
          0.06349453730421593,
          0.06255019402080451,
          0.06164019049315353,
          0.0607626870914901,
          0.05991597328286746,
          0.05909845650212838,
          0.05830865215463464,
          0.057545174618724076,
          0.05680672913317124,
          0.056092104469732965,
          0.05540016630354675,
          0.05472985120505384,
          0.05408016118651452,
          0.05345015874429462,
          0.05283896234512604,
          0.052245742310638894,
          0.05166971705976008,
          0.05111014967319208,
          0.0505663447482175,
          0.050037645515603406,
          0.04952343119347184,
          0.04902311455572222,
          0.04853613969497923,
          0.04806197996215059,
          0.047600136066538234,
          0.04715013432209544,
          0.04671152502687903,
          0.04628388096404307,
          0.04586679601386965,
          0.04545988386735909,
          0.04506277683281259,
          0.04467512472766006,
          0.04429659384851111,
          0.0439268660130633,
          0.043565637668085584,
          0.04321261905822097,
          0.04286753345082523,
          0.0425301164124827,
          0.042200115133224664,
          0.04187728779482003,
          0.04156140297982198,
          0.04125223911833451,
          0.040949583969720475,
          0.04065323413670253,
          0.04036299460952003,
          0.04007867833799434,
          0.039800105829529746
         ],
         "yaxis": "y"
        },
        {
         "hovertemplate": "Technology=Nuclear<br>DiscountRate=0.1<br>LoadFactor (%)=%{x}<br>LCOE (€/kW)=%{y}<extra></extra>",
         "legendgroup": "Nuclear",
         "line": {
          "color": "#00cc96",
          "dash": "solid"
         },
         "mode": "lines",
         "name": "Nuclear",
         "orientation": "v",
         "showlegend": false,
         "type": "scatter",
         "x": [
          0.1,
          0.11,
          0.12,
          0.13,
          0.13999999999999999,
          0.14999999999999997,
          0.15999999999999998,
          0.16999999999999998,
          0.17999999999999997,
          0.18999999999999995,
          0.19999999999999996,
          0.20999999999999996,
          0.21999999999999995,
          0.22999999999999995,
          0.23999999999999994,
          0.24999999999999992,
          0.2599999999999999,
          0.2699999999999999,
          0.2799999999999999,
          0.2899999999999999,
          0.29999999999999993,
          0.30999999999999994,
          0.3199999999999999,
          0.32999999999999985,
          0.33999999999999986,
          0.34999999999999987,
          0.3599999999999999,
          0.3699999999999999,
          0.3799999999999999,
          0.3899999999999999,
          0.3999999999999998,
          0.4099999999999998,
          0.4199999999999998,
          0.4299999999999998,
          0.43999999999999984,
          0.44999999999999984,
          0.45999999999999985,
          0.46999999999999986,
          0.47999999999999976,
          0.48999999999999977,
          0.4999999999999998,
          0.5099999999999998,
          0.5199999999999998,
          0.5299999999999998,
          0.5399999999999998,
          0.5499999999999998,
          0.5599999999999997,
          0.5699999999999997,
          0.5799999999999997,
          0.5899999999999997,
          0.5999999999999998,
          0.6099999999999998,
          0.6199999999999998,
          0.6299999999999997,
          0.6399999999999997,
          0.6499999999999997,
          0.6599999999999997,
          0.6699999999999997,
          0.6799999999999997,
          0.6899999999999997,
          0.6999999999999996,
          0.7099999999999996,
          0.7199999999999996,
          0.7299999999999996,
          0.7399999999999997,
          0.7499999999999997,
          0.7599999999999997,
          0.7699999999999997,
          0.7799999999999997,
          0.7899999999999996,
          0.7999999999999996,
          0.8099999999999996,
          0.8199999999999996,
          0.8299999999999996,
          0.8399999999999996,
          0.8499999999999996,
          0.8599999999999995,
          0.8699999999999996,
          0.8799999999999996,
          0.8899999999999996,
          0.8999999999999996,
          0.9099999999999996,
          0.9199999999999996,
          0.9299999999999996,
          0.9399999999999996,
          0.9499999999999995,
          0.9599999999999995,
          0.9699999999999995,
          0.9799999999999995,
          0.9899999999999995
         ],
         "xaxis": "x2",
         "y": [
          0.4857941917886466,
          0.4427674470805878,
          0.40691182649053914,
          0.3765724552220361,
          0.3505672798490333,
          0.3280294611924312,
          0.30830886986790434,
          0.29090834811096883,
          0.2754412176603594,
          0.26160220620455116,
          0.24914709589432343,
          0.23787818656602241,
          0.22763372354029396,
          0.21828008338636828,
          0.20970591324526955,
          0.20181767671545886,
          0.19453622761101813,
          0.18779414510690629,
          0.18153363992451668,
          0.17570489372022313,
          0.17026473059621558,
          0.16517554573827326,
          0.1604044349339522,
          0.1559224823601961,
          0.15170417405548445,
          0.14772691193961351,
          0.14397060883017973,
          0.14041734913206677,
          0.13705110310227558,
          0.13385748507401202,
          0.13082354794716175,
          0.12793760775332855,
          0.12518909328301125,
          0.12256841669503418,
          0.12006686177014698,
          0.11767648706414381,
          0.11539004169318415,
          0.11320089186992494,
          0.11110295662263484,
          0.10909065138543816,
          0.10715883835772942,
          0.10530278270365628,
          0.10351811380550907,
          0.10180079090351833,
          0.10014707255345315,
          0.09855348941611766,
          0.09701681996225835,
          0.09553406873485037,
          0.09410244686011159,
          0.09271935454044865,
          0.09138236529810785,
          0.09008921176863063,
          0.08883777286913663,
          0.08762606218867414,
          0.08645221746697612,
          0.0853144910444072,
          0.08421124118009805,
          0.08314092414755929,
          0.08210208702774223,
          0.08109336112878945,
          0.08011345596980676,
          0.07916115377304889,
          0.07823530441508988,
          0.07733482079296532,
          0.07645867456603338,
          0.07560589223848627,
          0.07477555155113781,
          0.07396677815436979,
          0.07317874253700603,
          0.07241065718843635,
          0.07166177397358087,
          0.0709313817023021,
          0.07021880387666429,
          0.06952339660104176,
          0.06884454664150563,
          0.06818166962219378,
          0.0675342083475171,
          0.06690163124007435,
          0.06628343088507349,
          0.06567912267288172,
          0.06508824353207192,
          0.06451035074600517,
          0.06394502084659208,
          0.06339184857942443,
          0.06285044593496247,
          0.06232044124091025,
          0.06180147831131741,
          0.061293215648314144,
          0.06079532569271908,
          0.06030749412006536
         ],
         "yaxis": "y2"
        },
        {
         "hovertemplate": "Technology=CSP<br>DiscountRate=0.05<br>LoadFactor (%)=%{x}<br>LCOE (€/kW)=%{y}<extra></extra>",
         "legendgroup": "CSP",
         "line": {
          "color": "#ab63fa",
          "dash": "solid"
         },
         "mode": "lines",
         "name": "CSP",
         "orientation": "v",
         "showlegend": true,
         "type": "scatter",
         "x": [
          0.1,
          0.11,
          0.12,
          0.13,
          0.13999999999999999,
          0.14999999999999997,
          0.15999999999999998,
          0.16999999999999998,
          0.17999999999999997,
          0.18999999999999995,
          0.19999999999999996,
          0.20999999999999996,
          0.21999999999999995,
          0.22999999999999995,
          0.23999999999999994,
          0.24999999999999992,
          0.2599999999999999,
          0.2699999999999999,
          0.2799999999999999,
          0.2899999999999999,
          0.29999999999999993,
          0.30999999999999994,
          0.3199999999999999,
          0.32999999999999985,
          0.33999999999999986,
          0.34999999999999987,
          0.3599999999999999,
          0.3699999999999999,
          0.3799999999999999,
          0.3899999999999999,
          0.3999999999999998,
          0.4099999999999998,
          0.4199999999999998,
          0.4299999999999998,
          0.43999999999999984,
          0.44999999999999984,
          0.45999999999999985,
          0.46999999999999986,
          0.47999999999999976,
          0.48999999999999977,
          0.4999999999999998,
          0.5099999999999998,
          0.5199999999999998,
          0.5299999999999998,
          0.5399999999999998,
          0.5499999999999998,
          0.5599999999999997,
          0.5699999999999997,
          0.5799999999999997,
          0.5899999999999997,
          0.5999999999999998,
          0.6099999999999998,
          0.6199999999999998,
          0.6299999999999997,
          0.6399999999999997,
          0.6499999999999997,
          0.6599999999999997,
          0.6699999999999997,
          0.6799999999999997,
          0.6899999999999997,
          0.6999999999999996,
          0.7099999999999996,
          0.7199999999999996,
          0.7299999999999996,
          0.7399999999999997,
          0.7499999999999997,
          0.7599999999999997,
          0.7699999999999997,
          0.7799999999999997,
          0.7899999999999996,
          0.7999999999999996,
          0.8099999999999996,
          0.8199999999999996,
          0.8299999999999996,
          0.8399999999999996,
          0.8499999999999996,
          0.8599999999999995,
          0.8699999999999996,
          0.8799999999999996,
          0.8899999999999996,
          0.8999999999999996,
          0.9099999999999996,
          0.9199999999999996,
          0.9299999999999996,
          0.9399999999999996,
          0.9499999999999995,
          0.9599999999999995,
          0.9699999999999995,
          0.9799999999999995,
          0.9899999999999995
         ],
         "xaxis": "x",
         "y": [
          0.2976788985405352,
          0.2706171804913956,
          0.2480657487837793,
          0.22898376810810397,
          0.21262778467181087,
          0.1984525990270235,
          0.18604931158783453,
          0.17510523443560896,
          0.16537716585585294,
          0.1566731044950186,
          0.1488394492702676,
          0.1417518564478739,
          0.13530859024569783,
          0.1294256080611023,
          0.1240328743918897,
          0.11907155941621413,
          0.11449188405405204,
          0.11025144390390197,
          0.10631389233590546,
          0.10264789604846043,
          0.09922629951351175,
          0.09602545114210813,
          0.09302465579391729,
          0.09020572683046525,
          0.08755261721780451,
          0.08505111386872438,
          0.08268858292792647,
          0.08045375636230682,
          0.0783365522475093,
          0.07632792270270135,
          0.07441972463513385,
          0.07260460940013055,
          0.07087592822393697,
          0.06922765082338028,
          0.06765429512284893,
          0.06615086634234116,
          0.06471280403055116,
          0.06333593585968834,
          0.06201643719594485,
          0.060750795620517405,
          0.05953577970810706,
          0.058368411478536324,
          0.05724594202702602,
          0.056165829913308554,
          0.055125721951950986,
          0.05412343609827913,
          0.05315694616795273,
          0.05222436816500619,
          0.051323948024230216,
          0.05045405060009073,
          0.04961314975675588,
          0.04879981943287463,
          0.048012725571054085,
          0.04725061881595798,
          0.046512327896958645,
          0.04579675362162081,
          0.045102863415232626,
          0.044429686349333634,
          0.043776308608902255,
          0.04314186935370078,
          0.0425255569343622,
          0.04192660542824441,
          0.04134429146396324,
          0.04077793130692264,
          0.04022687818115342,
          0.03969051980540471,
          0.03916827612375465,
          0.03865959721305654,
          0.038163961351350674,
          0.037680873232979153,
          0.03720986231756693,
          0.036750481301300666,
          0.03630230470006528,
          0.03586492753500425,
          0.035437964111968485,
          0.0350210468871218,
          0.03461382541169015,
          0.03421596534948682,
          0.033827147561424464,
          0.03344706725174554,
          0.033075433171170586,
          0.0327119668725863,
          0.03235640201527558,
          0.03200848371403606,
          0.03166796792984418,
          0.03133462089900372,
          0.031008218597972426,
          0.030688546241292292,
          0.030375397810258702,
          0.030068575610155076
         ],
         "yaxis": "y"
        },
        {
         "hovertemplate": "Technology=CSP<br>DiscountRate=0.1<br>LoadFactor (%)=%{x}<br>LCOE (€/kW)=%{y}<extra></extra>",
         "legendgroup": "CSP",
         "line": {
          "color": "#ab63fa",
          "dash": "solid"
         },
         "mode": "lines",
         "name": "CSP",
         "orientation": "v",
         "showlegend": false,
         "type": "scatter",
         "x": [
          0.1,
          0.11,
          0.12,
          0.13,
          0.13999999999999999,
          0.14999999999999997,
          0.15999999999999998,
          0.16999999999999998,
          0.17999999999999997,
          0.18999999999999995,
          0.19999999999999996,
          0.20999999999999996,
          0.21999999999999995,
          0.22999999999999995,
          0.23999999999999994,
          0.24999999999999992,
          0.2599999999999999,
          0.2699999999999999,
          0.2799999999999999,
          0.2899999999999999,
          0.29999999999999993,
          0.30999999999999994,
          0.3199999999999999,
          0.32999999999999985,
          0.33999999999999986,
          0.34999999999999987,
          0.3599999999999999,
          0.3699999999999999,
          0.3799999999999999,
          0.3899999999999999,
          0.3999999999999998,
          0.4099999999999998,
          0.4199999999999998,
          0.4299999999999998,
          0.43999999999999984,
          0.44999999999999984,
          0.45999999999999985,
          0.46999999999999986,
          0.47999999999999976,
          0.48999999999999977,
          0.4999999999999998,
          0.5099999999999998,
          0.5199999999999998,
          0.5299999999999998,
          0.5399999999999998,
          0.5499999999999998,
          0.5599999999999997,
          0.5699999999999997,
          0.5799999999999997,
          0.5899999999999997,
          0.5999999999999998,
          0.6099999999999998,
          0.6199999999999998,
          0.6299999999999997,
          0.6399999999999997,
          0.6499999999999997,
          0.6599999999999997,
          0.6699999999999997,
          0.6799999999999997,
          0.6899999999999997,
          0.6999999999999996,
          0.7099999999999996,
          0.7199999999999996,
          0.7299999999999996,
          0.7399999999999997,
          0.7499999999999997,
          0.7599999999999997,
          0.7699999999999997,
          0.7799999999999997,
          0.7899999999999996,
          0.7999999999999996,
          0.8099999999999996,
          0.8199999999999996,
          0.8299999999999996,
          0.8399999999999996,
          0.8499999999999996,
          0.8599999999999995,
          0.8699999999999996,
          0.8799999999999996,
          0.8899999999999996,
          0.8999999999999996,
          0.9099999999999996,
          0.9199999999999996,
          0.9299999999999996,
          0.9399999999999996,
          0.9499999999999995,
          0.9599999999999995,
          0.9699999999999995,
          0.9799999999999995,
          0.9899999999999995
         ],
         "xaxis": "x2",
         "y": [
          0.4384455720622966,
          0.398586883692997,
          0.36537131005191387,
          0.3372658246633052,
          0.31317540861592635,
          0.2922970480415312,
          0.2740284825389355,
          0.25790916003664527,
          0.24358087336794265,
          0.23076082740120885,
          0.21922278603114836,
          0.20878360574395094,
          0.19929344184649855,
          0.19062850959230299,
          0.18268565502595702,
          0.17537822882491877,
          0.16863291233165267,
          0.16238724891196185,
          0.15658770430796318,
          0.1511881282973438,
          0.1461485240207656,
          0.14143405550396673,
          0.1370142412694678,
          0.13286229456433243,
          0.12895458001832266,
          0.1252701634463705,
          0.12179043668397135,
          0.11849880326008021,
          0.11538041370060442,
          0.11242194155443509,
          0.10961139301557425,
          0.10693794440543826,
          0.1043918028719755,
          0.10196408652611556,
          0.09964672092324932,
          0.09743234934717708,
          0.09531425479615149,
          0.09328629192814827,
          0.09134282751297852,
          0.08947868817597898,
          0.08768911441245938,
          0.08596972001221509,
          0.08431645616582634,
          0.08272557963439567,
          0.08119362445598093,
          0.07971737673859942,
          0.0782938521539816,
          0.07692027580040298,
          0.0755940641486719,
          0.07431280882411812,
          0.07307426201038283,
          0.0718763232889011,
          0.07071702775198337,
          0.06959453524798363,
          0.06850712063473391,
          0.06745316493266107,
          0.06643114728216622,
          0.06543963762123835,
          0.06447729000916133,
          0.06354283653076767,
          0.06263508172318528,
          0.06175289747356296,
          0.0608952183419857,
          0.0600610372688078,
          0.059249401630040124,
          0.058459409608306256,
          0.05769020685030222,
          0.05694098338471388,
          0.056210970777217546,
          0.055499439501556565,
          0.054805696507787126,
          0.05412908297065395,
          0.05346897220271913,
          0.05282476771834903,
          0.05219590143598775,
          0.05158183200732903,
          0.05098204326305778,
          0.05039604276578126,
          0.04982336046162466,
          0.04926354742272999,
          0.04871617467358854,
          0.04818083209475791,
          0.047657127398075746,
          0.047144685167988906,
          0.04664314596407414,
          0.046152165480241765,
          0.04567141375648926,
          0.04520057443941205,
          0.04473934408798949,
          0.04428743152144413
         ],
         "yaxis": "y2"
        },
        {
         "hovertemplate": "Technology=Wind<br>DiscountRate=0.05<br>LoadFactor (%)=%{x}<br>LCOE (€/kW)=%{y}<extra></extra>",
         "legendgroup": "Wind",
         "line": {
          "color": "#FFA15A",
          "dash": "solid"
         },
         "mode": "lines",
         "name": "Wind",
         "orientation": "v",
         "showlegend": true,
         "type": "scatter",
         "x": [
          0.1,
          0.11,
          0.12,
          0.13,
          0.13999999999999999,
          0.14999999999999997,
          0.15999999999999998,
          0.16999999999999998,
          0.17999999999999997,
          0.18999999999999995,
          0.19999999999999996,
          0.20999999999999996,
          0.21999999999999995,
          0.22999999999999995,
          0.23999999999999994,
          0.24999999999999992,
          0.2599999999999999,
          0.2699999999999999,
          0.2799999999999999,
          0.2899999999999999,
          0.29999999999999993,
          0.30999999999999994,
          0.3199999999999999,
          0.32999999999999985,
          0.33999999999999986,
          0.34999999999999987,
          0.3599999999999999,
          0.3699999999999999,
          0.3799999999999999,
          0.3899999999999999,
          0.3999999999999998,
          0.4099999999999998,
          0.4199999999999998,
          0.4299999999999998,
          0.43999999999999984,
          0.44999999999999984,
          0.45999999999999985,
          0.46999999999999986,
          0.47999999999999976,
          0.48999999999999977,
          0.4999999999999998,
          0.5099999999999998,
          0.5199999999999998,
          0.5299999999999998,
          0.5399999999999998,
          0.5499999999999998,
          0.5599999999999997,
          0.5699999999999997,
          0.5799999999999997,
          0.5899999999999997,
          0.5999999999999998,
          0.6099999999999998,
          0.6199999999999998,
          0.6299999999999997,
          0.6399999999999997,
          0.6499999999999997,
          0.6599999999999997,
          0.6699999999999997,
          0.6799999999999997,
          0.6899999999999997,
          0.6999999999999996,
          0.7099999999999996,
          0.7199999999999996,
          0.7299999999999996,
          0.7399999999999997,
          0.7499999999999997,
          0.7599999999999997,
          0.7699999999999997,
          0.7799999999999997,
          0.7899999999999996,
          0.7999999999999996,
          0.8099999999999996,
          0.8199999999999996,
          0.8299999999999996,
          0.8399999999999996,
          0.8499999999999996,
          0.8599999999999995,
          0.8699999999999996,
          0.8799999999999996,
          0.8899999999999996,
          0.8999999999999996,
          0.9099999999999996,
          0.9199999999999996,
          0.9299999999999996,
          0.9399999999999996,
          0.9499999999999995,
          0.9599999999999995,
          0.9699999999999995,
          0.9799999999999995,
          0.9899999999999995
         ],
         "xaxis": "x",
         "y": [
          0.0948499116754464,
          0.08622719243222396,
          0.07904159306287198,
          0.07296147051957415,
          0.06774993691103316,
          0.06323327445029761,
          0.05928119479715402,
          0.05579406569143903,
          0.052694395375248004,
          0.04992100614497179,
          0.04742495583772321,
          0.04516662460735544,
          0.043113596216112,
          0.041239092032802786,
          0.039520796531436,
          0.037939964670178565,
          0.03648073525978709,
          0.03512959691683201,
          0.03387496845551658,
          0.03270686609498152,
          0.031616637225148805,
          0.030596745701756918,
          0.02964059739857701,
          0.028742397477408015,
          0.02789703284571953,
          0.027099974764413264,
          0.026347197687624006,
          0.02563511126363416,
          0.024960503072485894,
          0.024320490173191385,
          0.02371247791886161,
          0.023134124798889377,
          0.022583312303677733,
          0.02205811899428987,
          0.021556798108056,
          0.021077758150099206,
          0.020619546016401397,
          0.020180832271371574,
          0.019760398265718012,
          0.019357124831723766,
          0.018969982335089286,
          0.01859802189714636,
          0.018240367629893544,
          0.017896209750084224,
          0.017564798458416006,
          0.017245438486444806,
          0.016937484227758298,
          0.01664033538165727,
          0.016353433047490762,
          0.01607625621617736,
          0.015808318612574403,
          0.015549165848433839,
          0.015298372850878459,
          0.015055541535785148,
          0.014820298699288505,
          0.014592294103914837,
          0.014371198738704008,
          0.01415670323514126,
          0.013948516422859766,
          0.013746364010934264,
          0.013549987382206632,
          0.013359142489499497,
          0.013173598843812003,
          0.012993138585677588,
          0.012817555631817084,
          0.012646654890059525,
          0.012480251536242947,
          0.012318170347460577,
          0.012160245086595694,
          0.012006317933600815,
          0.011856238959430805,
          0.011709865638944002,
          0.011567062399444689,
          0.01142770020186102,
          0.011291656151838867,
          0.011158813138287817,
          0.011029059497144935,
          0.010902288698327177,
          0.010778399054028,
          0.010657293446679374,
          0.010538879075049605,
          0.010423067217082024,
          0.0103097730082007,
          0.01019891523391897,
          0.010090416135685789,
          0.009984201228994363,
          0.009880199132859006,
          0.009778341409839837,
          0.009678562415861883,
          0.009580799159136002
         ],
         "yaxis": "y"
        },
        {
         "hovertemplate": "Technology=Wind<br>DiscountRate=0.1<br>LoadFactor (%)=%{x}<br>LCOE (€/kW)=%{y}<extra></extra>",
         "legendgroup": "Wind",
         "line": {
          "color": "#FFA15A",
          "dash": "solid"
         },
         "mode": "lines",
         "name": "Wind",
         "orientation": "v",
         "showlegend": false,
         "type": "scatter",
         "x": [
          0.1,
          0.11,
          0.12,
          0.13,
          0.13999999999999999,
          0.14999999999999997,
          0.15999999999999998,
          0.16999999999999998,
          0.17999999999999997,
          0.18999999999999995,
          0.19999999999999996,
          0.20999999999999996,
          0.21999999999999995,
          0.22999999999999995,
          0.23999999999999994,
          0.24999999999999992,
          0.2599999999999999,
          0.2699999999999999,
          0.2799999999999999,
          0.2899999999999999,
          0.29999999999999993,
          0.30999999999999994,
          0.3199999999999999,
          0.32999999999999985,
          0.33999999999999986,
          0.34999999999999987,
          0.3599999999999999,
          0.3699999999999999,
          0.3799999999999999,
          0.3899999999999999,
          0.3999999999999998,
          0.4099999999999998,
          0.4199999999999998,
          0.4299999999999998,
          0.43999999999999984,
          0.44999999999999984,
          0.45999999999999985,
          0.46999999999999986,
          0.47999999999999976,
          0.48999999999999977,
          0.4999999999999998,
          0.5099999999999998,
          0.5199999999999998,
          0.5299999999999998,
          0.5399999999999998,
          0.5499999999999998,
          0.5599999999999997,
          0.5699999999999997,
          0.5799999999999997,
          0.5899999999999997,
          0.5999999999999998,
          0.6099999999999998,
          0.6199999999999998,
          0.6299999999999997,
          0.6399999999999997,
          0.6499999999999997,
          0.6599999999999997,
          0.6699999999999997,
          0.6799999999999997,
          0.6899999999999997,
          0.6999999999999996,
          0.7099999999999996,
          0.7199999999999996,
          0.7299999999999996,
          0.7399999999999997,
          0.7499999999999997,
          0.7599999999999997,
          0.7699999999999997,
          0.7799999999999997,
          0.7899999999999996,
          0.7999999999999996,
          0.8099999999999996,
          0.8199999999999996,
          0.8299999999999996,
          0.8399999999999996,
          0.8499999999999996,
          0.8599999999999995,
          0.8699999999999996,
          0.8799999999999996,
          0.8899999999999996,
          0.8999999999999996,
          0.9099999999999996,
          0.9199999999999996,
          0.9299999999999996,
          0.9399999999999996,
          0.9499999999999995,
          0.9599999999999995,
          0.9699999999999995,
          0.9799999999999995,
          0.9899999999999995
         ],
         "xaxis": "x2",
         "y": [
          0.13947871173518586,
          0.12679882885016897,
          0.11623225977932153,
          0.1072913167193737,
          0.09962765123941844,
          0.09298580782345726,
          0.08717419483449117,
          0.08204630102069754,
          0.07748817318621436,
          0.07340984828167679,
          0.06973935586759294,
          0.06641843415961231,
          0.0633994144250845,
          0.06064291814573298,
          0.05811612988966078,
          0.05579148469407434,
          0.05364565835968688,
          0.05165878212414293,
          0.04981382561970922,
          0.04809610749489169,
          0.04649290391172863,
          0.04499313281780189,
          0.04358709741724559,
          0.04226627628338966,
          0.04102315051034879,
          0.0398510604957674,
          0.03874408659310719,
          0.03769694911761781,
          0.036704924140838396,
          0.03576377223979124,
          0.034869677933796486,
          0.034019197984191674,
          0.03320921707980616,
          0.03243690970585719,
          0.03169970721254225,
          0.030995269274485756,
          0.030321459072866496,
          0.029676321645784227,
          0.029058064944830396,
          0.02846504321126243,
          0.02789574234703717,
          0.02734876700689919,
          0.02682282917984344,
          0.02631673806324263,
          0.025829391062071466,
          0.025359765770033807,
          0.024906912809854624,
          0.024469949427225596,
          0.02404805374744585,
          0.023640459616133206,
          0.02324645195586432,
          0.022865362579538667,
          0.02249656640890095,
          0.02213947805320412,
          0.021793548708622795,
          0.021458263343874757,
          0.02113313814169483,
          0.020817718169430732,
          0.020511575255174396,
          0.02021430604857767,
          0.019925530247883707,
          0.01964488897678676,
          0.019372043296553596,
          0.019106672840436423,
          0.01884847455880891,
          0.018597161564691458,
          0.018352462070419198,
          0.018114118407167003,
          0.017881886119895628,
          0.017655533131036193,
          0.017434838966898243,
          0.017219594041380973,
          0.017009598992095837,
          0.01680466406448023,
          0.01660460853990308,
          0.016409260204139527,
          0.016218454852928596,
          0.016032035831630563,
          0.015849853606271128,
          0.015671765363504033,
          0.015497634637242883,
          0.01532733095991054,
          0.015160729536433248,
          0.014997710939267302,
          0.014838160822892115,
          0.01468196965633536,
          0.014529032472415198,
          0.014379248632493395,
          0.014232521605631215,
          0.014088758761129893
         ],
         "yaxis": "y2"
        }
       ],
       "layout": {
        "annotations": [
         {
          "font": {},
          "showarrow": false,
          "text": "DiscountRate=0.05",
          "x": 0.245,
          "xanchor": "center",
          "xref": "paper",
          "y": 1,
          "yanchor": "bottom",
          "yref": "paper"
         },
         {
          "font": {},
          "showarrow": false,
          "text": "DiscountRate=0.1",
          "x": 0.755,
          "xanchor": "center",
          "xref": "paper",
          "y": 1,
          "yanchor": "bottom",
          "yref": "paper"
         }
        ],
        "legend": {
         "title": {
          "text": "Technology"
         },
         "tracegroupgap": 0
        },
        "margin": {
         "t": 60
        },
        "template": {
         "data": {
          "bar": [
           {
            "error_x": {
             "color": "#2a3f5f"
            },
            "error_y": {
             "color": "#2a3f5f"
            },
            "marker": {
             "line": {
              "color": "#E5ECF6",
              "width": 0.5
             }
            },
            "type": "bar"
           }
          ],
          "barpolar": [
           {
            "marker": {
             "line": {
              "color": "#E5ECF6",
              "width": 0.5
             }
            },
            "type": "barpolar"
           }
          ],
          "carpet": [
           {
            "aaxis": {
             "endlinecolor": "#2a3f5f",
             "gridcolor": "white",
             "linecolor": "white",
             "minorgridcolor": "white",
             "startlinecolor": "#2a3f5f"
            },
            "baxis": {
             "endlinecolor": "#2a3f5f",
             "gridcolor": "white",
             "linecolor": "white",
             "minorgridcolor": "white",
             "startlinecolor": "#2a3f5f"
            },
            "type": "carpet"
           }
          ],
          "choropleth": [
           {
            "colorbar": {
             "outlinewidth": 0,
             "ticks": ""
            },
            "type": "choropleth"
           }
          ],
          "contour": [
           {
            "colorbar": {
             "outlinewidth": 0,
             "ticks": ""
            },
            "colorscale": [
             [
              0,
              "#0d0887"
             ],
             [
              0.1111111111111111,
              "#46039f"
             ],
             [
              0.2222222222222222,
              "#7201a8"
             ],
             [
              0.3333333333333333,
              "#9c179e"
             ],
             [
              0.4444444444444444,
              "#bd3786"
             ],
             [
              0.5555555555555556,
              "#d8576b"
             ],
             [
              0.6666666666666666,
              "#ed7953"
             ],
             [
              0.7777777777777778,
              "#fb9f3a"
             ],
             [
              0.8888888888888888,
              "#fdca26"
             ],
             [
              1,
              "#f0f921"
             ]
            ],
            "type": "contour"
           }
          ],
          "contourcarpet": [
           {
            "colorbar": {
             "outlinewidth": 0,
             "ticks": ""
            },
            "type": "contourcarpet"
           }
          ],
          "heatmap": [
           {
            "colorbar": {
             "outlinewidth": 0,
             "ticks": ""
            },
            "colorscale": [
             [
              0,
              "#0d0887"
             ],
             [
              0.1111111111111111,
              "#46039f"
             ],
             [
              0.2222222222222222,
              "#7201a8"
             ],
             [
              0.3333333333333333,
              "#9c179e"
             ],
             [
              0.4444444444444444,
              "#bd3786"
             ],
             [
              0.5555555555555556,
              "#d8576b"
             ],
             [
              0.6666666666666666,
              "#ed7953"
             ],
             [
              0.7777777777777778,
              "#fb9f3a"
             ],
             [
              0.8888888888888888,
              "#fdca26"
             ],
             [
              1,
              "#f0f921"
             ]
            ],
            "type": "heatmap"
           }
          ],
          "heatmapgl": [
           {
            "colorbar": {
             "outlinewidth": 0,
             "ticks": ""
            },
            "colorscale": [
             [
              0,
              "#0d0887"
             ],
             [
              0.1111111111111111,
              "#46039f"
             ],
             [
              0.2222222222222222,
              "#7201a8"
             ],
             [
              0.3333333333333333,
              "#9c179e"
             ],
             [
              0.4444444444444444,
              "#bd3786"
             ],
             [
              0.5555555555555556,
              "#d8576b"
             ],
             [
              0.6666666666666666,
              "#ed7953"
             ],
             [
              0.7777777777777778,
              "#fb9f3a"
             ],
             [
              0.8888888888888888,
              "#fdca26"
             ],
             [
              1,
              "#f0f921"
             ]
            ],
            "type": "heatmapgl"
           }
          ],
          "histogram": [
           {
            "marker": {
             "colorbar": {
              "outlinewidth": 0,
              "ticks": ""
             }
            },
            "type": "histogram"
           }
          ],
          "histogram2d": [
           {
            "colorbar": {
             "outlinewidth": 0,
             "ticks": ""
            },
            "colorscale": [
             [
              0,
              "#0d0887"
             ],
             [
              0.1111111111111111,
              "#46039f"
             ],
             [
              0.2222222222222222,
              "#7201a8"
             ],
             [
              0.3333333333333333,
              "#9c179e"
             ],
             [
              0.4444444444444444,
              "#bd3786"
             ],
             [
              0.5555555555555556,
              "#d8576b"
             ],
             [
              0.6666666666666666,
              "#ed7953"
             ],
             [
              0.7777777777777778,
              "#fb9f3a"
             ],
             [
              0.8888888888888888,
              "#fdca26"
             ],
             [
              1,
              "#f0f921"
             ]
            ],
            "type": "histogram2d"
           }
          ],
          "histogram2dcontour": [
           {
            "colorbar": {
             "outlinewidth": 0,
             "ticks": ""
            },
            "colorscale": [
             [
              0,
              "#0d0887"
             ],
             [
              0.1111111111111111,
              "#46039f"
             ],
             [
              0.2222222222222222,
              "#7201a8"
             ],
             [
              0.3333333333333333,
              "#9c179e"
             ],
             [
              0.4444444444444444,
              "#bd3786"
             ],
             [
              0.5555555555555556,
              "#d8576b"
             ],
             [
              0.6666666666666666,
              "#ed7953"
             ],
             [
              0.7777777777777778,
              "#fb9f3a"
             ],
             [
              0.8888888888888888,
              "#fdca26"
             ],
             [
              1,
              "#f0f921"
             ]
            ],
            "type": "histogram2dcontour"
           }
          ],
          "mesh3d": [
           {
            "colorbar": {
             "outlinewidth": 0,
             "ticks": ""
            },
            "type": "mesh3d"
           }
          ],
          "parcoords": [
           {
            "line": {
             "colorbar": {
              "outlinewidth": 0,
              "ticks": ""
             }
            },
            "type": "parcoords"
           }
          ],
          "pie": [
           {
            "automargin": true,
            "type": "pie"
           }
          ],
          "scatter": [
           {
            "marker": {
             "colorbar": {
              "outlinewidth": 0,
              "ticks": ""
             }
            },
            "type": "scatter"
           }
          ],
          "scatter3d": [
           {
            "line": {
             "colorbar": {
              "outlinewidth": 0,
              "ticks": ""
             }
            },
            "marker": {
             "colorbar": {
              "outlinewidth": 0,
              "ticks": ""
             }
            },
            "type": "scatter3d"
           }
          ],
          "scattercarpet": [
           {
            "marker": {
             "colorbar": {
              "outlinewidth": 0,
              "ticks": ""
             }
            },
            "type": "scattercarpet"
           }
          ],
          "scattergeo": [
           {
            "marker": {
             "colorbar": {
              "outlinewidth": 0,
              "ticks": ""
             }
            },
            "type": "scattergeo"
           }
          ],
          "scattergl": [
           {
            "marker": {
             "colorbar": {
              "outlinewidth": 0,
              "ticks": ""
             }
            },
            "type": "scattergl"
           }
          ],
          "scattermapbox": [
           {
            "marker": {
             "colorbar": {
              "outlinewidth": 0,
              "ticks": ""
             }
            },
            "type": "scattermapbox"
           }
          ],
          "scatterpolar": [
           {
            "marker": {
             "colorbar": {
              "outlinewidth": 0,
              "ticks": ""
             }
            },
            "type": "scatterpolar"
           }
          ],
          "scatterpolargl": [
           {
            "marker": {
             "colorbar": {
              "outlinewidth": 0,
              "ticks": ""
             }
            },
            "type": "scatterpolargl"
           }
          ],
          "scatterternary": [
           {
            "marker": {
             "colorbar": {
              "outlinewidth": 0,
              "ticks": ""
             }
            },
            "type": "scatterternary"
           }
          ],
          "surface": [
           {
            "colorbar": {
             "outlinewidth": 0,
             "ticks": ""
            },
            "colorscale": [
             [
              0,
              "#0d0887"
             ],
             [
              0.1111111111111111,
              "#46039f"
             ],
             [
              0.2222222222222222,
              "#7201a8"
             ],
             [
              0.3333333333333333,
              "#9c179e"
             ],
             [
              0.4444444444444444,
              "#bd3786"
             ],
             [
              0.5555555555555556,
              "#d8576b"
             ],
             [
              0.6666666666666666,
              "#ed7953"
             ],
             [
              0.7777777777777778,
              "#fb9f3a"
             ],
             [
              0.8888888888888888,
              "#fdca26"
             ],
             [
              1,
              "#f0f921"
             ]
            ],
            "type": "surface"
           }
          ],
          "table": [
           {
            "cells": {
             "fill": {
              "color": "#EBF0F8"
             },
             "line": {
              "color": "white"
             }
            },
            "header": {
             "fill": {
              "color": "#C8D4E3"
             },
             "line": {
              "color": "white"
             }
            },
            "type": "table"
           }
          ]
         },
         "layout": {
          "annotationdefaults": {
           "arrowcolor": "#2a3f5f",
           "arrowhead": 0,
           "arrowwidth": 1
          },
          "coloraxis": {
           "colorbar": {
            "outlinewidth": 0,
            "ticks": ""
           }
          },
          "colorscale": {
           "diverging": [
            [
             0,
             "#8e0152"
            ],
            [
             0.1,
             "#c51b7d"
            ],
            [
             0.2,
             "#de77ae"
            ],
            [
             0.3,
             "#f1b6da"
            ],
            [
             0.4,
             "#fde0ef"
            ],
            [
             0.5,
             "#f7f7f7"
            ],
            [
             0.6,
             "#e6f5d0"
            ],
            [
             0.7,
             "#b8e186"
            ],
            [
             0.8,
             "#7fbc41"
            ],
            [
             0.9,
             "#4d9221"
            ],
            [
             1,
             "#276419"
            ]
           ],
           "sequential": [
            [
             0,
             "#0d0887"
            ],
            [
             0.1111111111111111,
             "#46039f"
            ],
            [
             0.2222222222222222,
             "#7201a8"
            ],
            [
             0.3333333333333333,
             "#9c179e"
            ],
            [
             0.4444444444444444,
             "#bd3786"
            ],
            [
             0.5555555555555556,
             "#d8576b"
            ],
            [
             0.6666666666666666,
             "#ed7953"
            ],
            [
             0.7777777777777778,
             "#fb9f3a"
            ],
            [
             0.8888888888888888,
             "#fdca26"
            ],
            [
             1,
             "#f0f921"
            ]
           ],
           "sequentialminus": [
            [
             0,
             "#0d0887"
            ],
            [
             0.1111111111111111,
             "#46039f"
            ],
            [
             0.2222222222222222,
             "#7201a8"
            ],
            [
             0.3333333333333333,
             "#9c179e"
            ],
            [
             0.4444444444444444,
             "#bd3786"
            ],
            [
             0.5555555555555556,
             "#d8576b"
            ],
            [
             0.6666666666666666,
             "#ed7953"
            ],
            [
             0.7777777777777778,
             "#fb9f3a"
            ],
            [
             0.8888888888888888,
             "#fdca26"
            ],
            [
             1,
             "#f0f921"
            ]
           ]
          },
          "colorway": [
           "#636efa",
           "#EF553B",
           "#00cc96",
           "#ab63fa",
           "#FFA15A",
           "#19d3f3",
           "#FF6692",
           "#B6E880",
           "#FF97FF",
           "#FECB52"
          ],
          "font": {
           "color": "#2a3f5f"
          },
          "geo": {
           "bgcolor": "white",
           "lakecolor": "white",
           "landcolor": "#E5ECF6",
           "showlakes": true,
           "showland": true,
           "subunitcolor": "white"
          },
          "hoverlabel": {
           "align": "left"
          },
          "hovermode": "closest",
          "mapbox": {
           "style": "light"
          },
          "paper_bgcolor": "white",
          "plot_bgcolor": "#E5ECF6",
          "polar": {
           "angularaxis": {
            "gridcolor": "white",
            "linecolor": "white",
            "ticks": ""
           },
           "bgcolor": "#E5ECF6",
           "radialaxis": {
            "gridcolor": "white",
            "linecolor": "white",
            "ticks": ""
           }
          },
          "scene": {
           "xaxis": {
            "backgroundcolor": "#E5ECF6",
            "gridcolor": "white",
            "gridwidth": 2,
            "linecolor": "white",
            "showbackground": true,
            "ticks": "",
            "zerolinecolor": "white"
           },
           "yaxis": {
            "backgroundcolor": "#E5ECF6",
            "gridcolor": "white",
            "gridwidth": 2,
            "linecolor": "white",
            "showbackground": true,
            "ticks": "",
            "zerolinecolor": "white"
           },
           "zaxis": {
            "backgroundcolor": "#E5ECF6",
            "gridcolor": "white",
            "gridwidth": 2,
            "linecolor": "white",
            "showbackground": true,
            "ticks": "",
            "zerolinecolor": "white"
           }
          },
          "shapedefaults": {
           "line": {
            "color": "#2a3f5f"
           }
          },
          "ternary": {
           "aaxis": {
            "gridcolor": "white",
            "linecolor": "white",
            "ticks": ""
           },
           "baxis": {
            "gridcolor": "white",
            "linecolor": "white",
            "ticks": ""
           },
           "bgcolor": "#E5ECF6",
           "caxis": {
            "gridcolor": "white",
            "linecolor": "white",
            "ticks": ""
           }
          },
          "title": {
           "x": 0.05
          },
          "xaxis": {
           "automargin": true,
           "gridcolor": "white",
           "linecolor": "white",
           "ticks": "",
           "title": {
            "standoff": 15
           },
           "zerolinecolor": "white",
           "zerolinewidth": 2
          },
          "yaxis": {
           "automargin": true,
           "gridcolor": "white",
           "linecolor": "white",
           "ticks": "",
           "title": {
            "standoff": 15
           },
           "zerolinecolor": "white",
           "zerolinewidth": 2
          }
         }
        },
        "xaxis": {
         "anchor": "y",
         "domain": [
          0,
          0.49
         ],
         "title": {
          "text": "LoadFactor (%)"
         }
        },
        "xaxis2": {
         "anchor": "y2",
         "domain": [
          0.51,
          1
         ],
         "matches": "x",
         "title": {
          "text": "LoadFactor (%)"
         }
        },
        "yaxis": {
         "anchor": "x",
         "domain": [
          0,
          1
         ],
         "title": {
          "text": "LCOE (€/kW)"
         }
        },
        "yaxis2": {
         "anchor": "x2",
         "domain": [
          0,
          1
         ],
         "matches": "y",
         "showticklabels": false
        }
       }
      },
      "text/html": [
       "<div>                            <div id=\"03cec984-e42a-4bbf-904a-747744598a55\" class=\"plotly-graph-div\" style=\"height:525px; width:100%;\"></div>            <script type=\"text/javascript\">                require([\"plotly\"], function(Plotly) {                    window.PLOTLYENV=window.PLOTLYENV || {};                                    if (document.getElementById(\"03cec984-e42a-4bbf-904a-747744598a55\")) {                    Plotly.newPlot(                        \"03cec984-e42a-4bbf-904a-747744598a55\",                        [{\"hovertemplate\": \"Technology=CCGT<br>DiscountRate=0.05<br>LoadFactor (%)=%{x}<br>LCOE (\\u20ac/kW)=%{y}<extra></extra>\", \"legendgroup\": \"CCGT\", \"line\": {\"color\": \"#636efa\", \"dash\": \"solid\"}, \"mode\": \"lines\", \"name\": \"CCGT\", \"orientation\": \"v\", \"showlegend\": true, \"type\": \"scatter\", \"x\": [0.1, 0.11, 0.12, 0.13, 0.13999999999999999, 0.14999999999999997, 0.15999999999999998, 0.16999999999999998, 0.17999999999999997, 0.18999999999999995, 0.19999999999999996, 0.20999999999999996, 0.21999999999999995, 0.22999999999999995, 0.23999999999999994, 0.24999999999999992, 0.2599999999999999, 0.2699999999999999, 0.2799999999999999, 0.2899999999999999, 0.29999999999999993, 0.30999999999999994, 0.3199999999999999, 0.32999999999999985, 0.33999999999999986, 0.34999999999999987, 0.3599999999999999, 0.3699999999999999, 0.3799999999999999, 0.3899999999999999, 0.3999999999999998, 0.4099999999999998, 0.4199999999999998, 0.4299999999999998, 0.43999999999999984, 0.44999999999999984, 0.45999999999999985, 0.46999999999999986, 0.47999999999999976, 0.48999999999999977, 0.4999999999999998, 0.5099999999999998, 0.5199999999999998, 0.5299999999999998, 0.5399999999999998, 0.5499999999999998, 0.5599999999999997, 0.5699999999999997, 0.5799999999999997, 0.5899999999999997, 0.5999999999999998, 0.6099999999999998, 0.6199999999999998, 0.6299999999999997, 0.6399999999999997, 0.6499999999999997, 0.6599999999999997, 0.6699999999999997, 0.6799999999999997, 0.6899999999999997, 0.6999999999999996, 0.7099999999999996, 0.7199999999999996, 0.7299999999999996, 0.7399999999999997, 0.7499999999999997, 0.7599999999999997, 0.7699999999999997, 0.7799999999999997, 0.7899999999999996, 0.7999999999999996, 0.8099999999999996, 0.8199999999999996, 0.8299999999999996, 0.8399999999999996, 0.8499999999999996, 0.8599999999999995, 0.8699999999999996, 0.8799999999999996, 0.8899999999999996, 0.8999999999999996, 0.9099999999999996, 0.9199999999999996, 0.9299999999999996, 0.9399999999999996, 0.9499999999999995, 0.9599999999999995, 0.9699999999999995, 0.9799999999999995, 0.9899999999999995], \"xaxis\": \"x\", \"y\": [0.12127891169213117, 0.11570810153830105, 0.11106575974344265, 0.10713762437856239, 0.10377065120866512, 0.10085260779475409, 0.09829931980758197, 0.09604641864243008, 0.09404383982896174, 0.09225205878533221, 0.09063945584606559, 0.0891804341391101, 0.08785405076915055, 0.08664300508353533, 0.08553287987172134, 0.08451156467685249, 0.08356881218928121, 0.08269589321930784, 0.08188532560433257, 0.08113065920418318, 0.08042630389737702, 0.07976739086842939, 0.079149659903791, 0.07856936717943368, 0.07802320932121505, 0.07750826048346608, 0.0770219199144809, 0.07656186802490034, 0.07612602939266612, 0.07571254145952085, 0.0753197279230328, 0.07494607602247103, 0.07459021706955506, 0.07425090969584446, 0.07392702538457527, 0.0736175359315847, 0.07332150254176768, 0.07303806631747474, 0.07276643993586066, 0.07250590034533291, 0.07225578233842624, 0.07201547288081002, 0.07178440609464061, 0.07156205880983606, 0.07134794660965395, 0.07114162030766022, 0.0709426628021663, 0.07075068626177741, 0.07056532960209158, 0.07038625621900528, 0.0702131519486885, 0.07004572322821824, 0.0698836954342147, 0.06972681137970337, 0.06957482995189548, 0.06942752487571248, 0.06928468358971683, 0.06914610622270614, 0.06901160466060752, 0.06888100169451176, 0.06875413024173303, 0.06863083263269454, 0.06851095995724046, 0.06839437146467549, 0.06828093401245015, 0.06817052155895081, 0.06806301469633304, 0.0679583002197573, 0.06785627072976043, 0.06775682426482674, 0.06765986396151642, 0.06756529773976927, 0.06747303801123551, 0.06738300140869051, 0.06729510853477753, 0.06720928372848602, 0.0671254548479222, 0.06704355306806108, 0.06696351269228763, 0.06688527097664394, 0.06680876796579235, 0.06673394633979463, 0.06666075127088385, 0.06658913028947647, 0.06651903315873738, 0.06645041175706642, 0.06638321996793035, 0.06631741357650837, 0.06625295017266647, 0.06618978905981121], \"yaxis\": \"y\"}, {\"hovertemplate\": \"Technology=CCGT<br>DiscountRate=0.1<br>LoadFactor (%)=%{x}<br>LCOE (\\u20ac/kW)=%{y}<extra></extra>\", \"legendgroup\": \"CCGT\", \"line\": {\"color\": \"#636efa\", \"dash\": \"solid\"}, \"mode\": \"lines\", \"name\": \"CCGT\", \"orientation\": \"v\", \"showlegend\": false, \"type\": \"scatter\", \"x\": [0.1, 0.11, 0.12, 0.13, 0.13999999999999999, 0.14999999999999997, 0.15999999999999998, 0.16999999999999998, 0.17999999999999997, 0.18999999999999995, 0.19999999999999996, 0.20999999999999996, 0.21999999999999995, 0.22999999999999995, 0.23999999999999994, 0.24999999999999992, 0.2599999999999999, 0.2699999999999999, 0.2799999999999999, 0.2899999999999999, 0.29999999999999993, 0.30999999999999994, 0.3199999999999999, 0.32999999999999985, 0.33999999999999986, 0.34999999999999987, 0.3599999999999999, 0.3699999999999999, 0.3799999999999999, 0.3899999999999999, 0.3999999999999998, 0.4099999999999998, 0.4199999999999998, 0.4299999999999998, 0.43999999999999984, 0.44999999999999984, 0.45999999999999985, 0.46999999999999986, 0.47999999999999976, 0.48999999999999977, 0.4999999999999998, 0.5099999999999998, 0.5199999999999998, 0.5299999999999998, 0.5399999999999998, 0.5499999999999998, 0.5599999999999997, 0.5699999999999997, 0.5799999999999997, 0.5899999999999997, 0.5999999999999998, 0.6099999999999998, 0.6199999999999998, 0.6299999999999997, 0.6399999999999997, 0.6499999999999997, 0.6599999999999997, 0.6699999999999997, 0.6799999999999997, 0.6899999999999997, 0.6999999999999996, 0.7099999999999996, 0.7199999999999996, 0.7299999999999996, 0.7399999999999997, 0.7499999999999997, 0.7599999999999997, 0.7699999999999997, 0.7799999999999997, 0.7899999999999996, 0.7999999999999996, 0.8099999999999996, 0.8199999999999996, 0.8299999999999996, 0.8399999999999996, 0.8499999999999996, 0.8599999999999995, 0.8699999999999996, 0.8799999999999996, 0.8899999999999996, 0.8999999999999996, 0.9099999999999996, 0.9199999999999996, 0.9299999999999996, 0.9399999999999996, 0.9499999999999995, 0.9599999999999995, 0.9699999999999995, 0.9799999999999995, 0.9899999999999995], \"xaxis\": \"x2\", \"y\": [0.14917191172946836, 0.14106537429951668, 0.13430992644122364, 0.12859377825343718, 0.123694222663906, 0.11944794115297888, 0.11573244483091767, 0.11245406572321669, 0.10953995096081576, 0.10693258512077285, 0.10458595586473418, 0.10246281510927063, 0.10053268714975837, 0.09877039640411665, 0.09715496322061183, 0.09566876469178733, 0.0942968891267186, 0.09302663397387717, 0.09184711133195303, 0.090748935079127, 0.08972397057648944, 0.08876513281595752, 0.08786622241545884, 0.08702179143317226, 0.08622703286160835, 0.08547768906556236, 0.0847699754804079, 0.08410051668364008, 0.08346629256038643, 0.08286459275114573, 0.08229297793236712, 0.08174924676328497, 0.08123140755463533, 0.08073765389057404, 0.08026634357487918, 0.07981598038432629, 0.07938519820205833, 0.07897274717648262, 0.07857748161030592, 0.07819834933254458, 0.07783438234589368, 0.07748468857440555, 0.07714844456335931, 0.07682488900556006, 0.07651331698693857, 0.07621307485990333, 0.0759235556659765, 0.07564419504025757, 0.0753744675395635, 0.07511388334397771, 0.07486198528824475, 0.07461834618515877, 0.07438256640797876, 0.0741542717030902, 0.07393311120772943, 0.07371875565068746, 0.07351089571658613, 0.07330924055663707, 0.07311351643080417, 0.07292346546803888, 0.07273884453278119, 0.07255942418724909, 0.07238498774020397, 0.07221533037389978, 0.07205025834182004, 0.07188958823059578, 0.0717331462801932, 0.07158076775707381, 0.07143229637557288, 0.07128758376322383, 0.07114648896618357, 0.0710088779912924, 0.07087462338164248, 0.07074360382282754, 0.07061570377731764, 0.07049081314464335, 0.07036882694528701, 0.07024964502637568, 0.0701331717874396, 0.07001931592465936, 0.06990799019216315, 0.06979911117906246, 0.06969259910102918, 0.06958837760531918, 0.0694863735882413, 0.06938651702415456, 0.06928874080515296, 0.06919298059066684, 0.06909917466627229, 0.06900726381105739], \"yaxis\": \"y2\"}, {\"hovertemplate\": \"Technology=Coal<br>DiscountRate=0.05<br>LoadFactor (%)=%{x}<br>LCOE (\\u20ac/kW)=%{y}<extra></extra>\", \"legendgroup\": \"Coal\", \"line\": {\"color\": \"#EF553B\", \"dash\": \"solid\"}, \"mode\": \"lines\", \"name\": \"Coal\", \"orientation\": \"v\", \"showlegend\": true, \"type\": \"scatter\", \"x\": [0.1, 0.11, 0.12, 0.13, 0.13999999999999999, 0.14999999999999997, 0.15999999999999998, 0.16999999999999998, 0.17999999999999997, 0.18999999999999995, 0.19999999999999996, 0.20999999999999996, 0.21999999999999995, 0.22999999999999995, 0.23999999999999994, 0.24999999999999992, 0.2599999999999999, 0.2699999999999999, 0.2799999999999999, 0.2899999999999999, 0.29999999999999993, 0.30999999999999994, 0.3199999999999999, 0.32999999999999985, 0.33999999999999986, 0.34999999999999987, 0.3599999999999999, 0.3699999999999999, 0.3799999999999999, 0.3899999999999999, 0.3999999999999998, 0.4099999999999998, 0.4199999999999998, 0.4299999999999998, 0.43999999999999984, 0.44999999999999984, 0.45999999999999985, 0.46999999999999986, 0.47999999999999976, 0.48999999999999977, 0.4999999999999998, 0.5099999999999998, 0.5199999999999998, 0.5299999999999998, 0.5399999999999998, 0.5499999999999998, 0.5599999999999997, 0.5699999999999997, 0.5799999999999997, 0.5899999999999997, 0.5999999999999998, 0.6099999999999998, 0.6199999999999998, 0.6299999999999997, 0.6399999999999997, 0.6499999999999997, 0.6599999999999997, 0.6699999999999997, 0.6799999999999997, 0.6899999999999997, 0.6999999999999996, 0.7099999999999996, 0.7199999999999996, 0.7299999999999996, 0.7399999999999997, 0.7499999999999997, 0.7599999999999997, 0.7699999999999997, 0.7799999999999997, 0.7899999999999996, 0.7999999999999996, 0.8099999999999996, 0.8199999999999996, 0.8299999999999996, 0.8399999999999996, 0.8499999999999996, 0.8599999999999995, 0.8699999999999996, 0.8799999999999996, 0.8899999999999996, 0.8999999999999996, 0.9099999999999996, 0.9199999999999996, 0.9299999999999996, 0.9399999999999996, 0.9499999999999995, 0.9599999999999995, 0.9699999999999995, 0.9799999999999995, 0.9899999999999995], \"xaxis\": \"x\", \"y\": [0.16350121163481157, 0.15091019239528325, 0.140417676362343, 0.13153939356523967, 0.1239294368820083, 0.11733414108987436, 0.11156325727175727, 0.10647130096165389, 0.10194511757489536, 0.09789537454463772, 0.09425060581740581, 0.09095295792133883, 0.08795509619764165, 0.08521791810209203, 0.08270883818117152, 0.08040048465392467, 0.07826969678261986, 0.07629674504993021, 0.07446471844100415, 0.07275903849476266, 0.07116707054493718, 0.06967781020477795, 0.06828162863587865, 0.0669700641317611, 0.06573565048082695, 0.06457177475280335, 0.06347255878744766, 0.06243275990130042, 0.061447687272318856, 0.060513131188413234, 0.05962530290870293, 0.05878078332556381, 0.057976478960669445, 0.05720958410111899, 0.05647754809882084, 0.05577804702995814, 0.05510895905104603, 0.054468342901023745, 0.05385441909058575, 0.053265553394859534, 0.05270024232696233, 0.05215710032055129, 0.05163484839130993, 0.05113230408203994, 0.0506483725249651, 0.05018203847905667, 0.04973235922050207, 0.049298458181545886, 0.04887951924738132, 0.04847478163301894, 0.04808353527246858, 0.04770511666144454, 0.047338905102388994, 0.04698431930711295, 0.04664081431793933, 0.04630787871304795, 0.04598503206588055, 0.04567182263206145, 0.04536782524041347, 0.04507263936736401, 0.044785887376401684, 0.044507212906311495, 0.044236279393723835, 0.043972768717097495, 0.04371637995065021, 0.0434668282179749, 0.04322384363615944, 0.042987170342183335, 0.04275656559420662, 0.0425317989411154, 0.042312651454351466, 0.04209891501664342, 0.0418903916627819, 0.0416868929680496, 0.041488239480334727, 0.04129426019233079, 0.04110479205055949, 0.04091967949825422, 0.04073877404941042, 0.04056193389155187, 0.04038902351497907, 0.04021991336646281, 0.040054479525523025, 0.03989260340159264, 0.039734171450511876, 0.03957907490892755, 0.03942720954529287, 0.03927847542626923, 0.03913277669742977, 0.03899002137725369], \"yaxis\": \"y\"}, {\"hovertemplate\": \"Technology=Coal<br>DiscountRate=0.1<br>LoadFactor (%)=%{x}<br>LCOE (\\u20ac/kW)=%{y}<extra></extra>\", \"legendgroup\": \"Coal\", \"line\": {\"color\": \"#EF553B\", \"dash\": \"solid\"}, \"mode\": \"lines\", \"name\": \"Coal\", \"orientation\": \"v\", \"showlegend\": false, \"type\": \"scatter\", \"x\": [0.1, 0.11, 0.12, 0.13, 0.13999999999999999, 0.14999999999999997, 0.15999999999999998, 0.16999999999999998, 0.17999999999999997, 0.18999999999999995, 0.19999999999999996, 0.20999999999999996, 0.21999999999999995, 0.22999999999999995, 0.23999999999999994, 0.24999999999999992, 0.2599999999999999, 0.2699999999999999, 0.2799999999999999, 0.2899999999999999, 0.29999999999999993, 0.30999999999999994, 0.3199999999999999, 0.32999999999999985, 0.33999999999999986, 0.34999999999999987, 0.3599999999999999, 0.3699999999999999, 0.3799999999999999, 0.3899999999999999, 0.3999999999999998, 0.4099999999999998, 0.4199999999999998, 0.4299999999999998, 0.43999999999999984, 0.44999999999999984, 0.45999999999999985, 0.46999999999999986, 0.47999999999999976, 0.48999999999999977, 0.4999999999999998, 0.5099999999999998, 0.5199999999999998, 0.5299999999999998, 0.5399999999999998, 0.5499999999999998, 0.5599999999999997, 0.5699999999999997, 0.5799999999999997, 0.5899999999999997, 0.5999999999999998, 0.6099999999999998, 0.6199999999999998, 0.6299999999999997, 0.6399999999999997, 0.6499999999999997, 0.6599999999999997, 0.6699999999999997, 0.6799999999999997, 0.6899999999999997, 0.6999999999999996, 0.7099999999999996, 0.7199999999999996, 0.7299999999999996, 0.7399999999999997, 0.7499999999999997, 0.7599999999999997, 0.7699999999999997, 0.7799999999999997, 0.7899999999999996, 0.7999999999999996, 0.8099999999999996, 0.8199999999999996, 0.8299999999999996, 0.8399999999999996, 0.8499999999999996, 0.8599999999999995, 0.8699999999999996, 0.8799999999999996, 0.8899999999999996, 0.8999999999999996, 0.9099999999999996, 0.9199999999999996, 0.9299999999999996, 0.9399999999999996, 0.9499999999999995, 0.9599999999999995, 0.9699999999999995, 0.9799999999999995, 0.9899999999999995], \"xaxis\": \"x2\", \"y\": [0.24592093217081254, 0.22583721106437507, 0.20910077680901043, 0.19493917859293275, 0.18280066583629484, 0.1722806214472085, 0.16307558260675792, 0.1549534895122428, 0.14773385120600704, 0.1412741748267435, 0.1354604660854063, 0.13020044389086324, 0.1254186055321876, 0.12105257920470121, 0.11705038840450525, 0.11336837286832507, 0.10996958929646641, 0.10682256747067136, 0.1039003329181474, 0.10117963178303889, 0.09864031072360423, 0.09626481682929441, 0.09403779130337897, 0.09194573702145843, 0.08997674475612143, 0.08812026633451792, 0.08636692560300353, 0.08470836004616558, 0.08313708741337175, 0.08164639286431094, 0.08023023304270317, 0.0788831541880031, 0.07760022194543163, 0.07637696096995646, 0.07520930276609382, 0.07409354048240284, 0.0730262896023506, 0.07200445365336441, 0.07102519420225263, 0.07008590452465567, 0.06918418643416253, 0.06831782983741426, 0.06748479464823319, 0.06668319474920997, 0.06591128373533567, 0.06516744221287503, 0.06445016645907371, 0.06375805827558119, 0.06308981589151946, 0.06244422579166316, 0.06182015536180211, 0.061216546257510274, 0.06063240841464721, 0.06006681463028773, 0.05951889565168949, 0.058987835718586575, 0.05847286851072922, 0.05797327345833026, 0.057488372378060724, 0.05701752640156707, 0.056560133167258976, 0.056115624249410245, 0.055683462801501785, 0.05526314139326203, 0.0548541800230828, 0.054456124289441694, 0.05406854370668589, 0.053691030152053607, 0.053323196432155474, 0.052964674958330724, 0.05261511652135158, 0.05227418915689047, 0.05194157709400154, 0.051616979779616, 0.05130011097271583, 0.05099069790244853, 0.05068848048497822, 0.05039321059434629, 0.05010465138304691, 0.04982257664840592, 0.04954677024120141, 0.04927702551327612, 0.049013144801175294, 0.048754938943098125, 0.048502226826682204, 0.04825483496534869, 0.0480125971011263, 0.047775353832042546, 0.04754295226232783, 0.047315245673819464], \"yaxis\": \"y2\"}, {\"hovertemplate\": \"Technology=Nuclear<br>DiscountRate=0.05<br>LoadFactor (%)=%{x}<br>LCOE (\\u20ac/kW)=%{y}<extra></extra>\", \"legendgroup\": \"Nuclear\", \"line\": {\"color\": \"#00cc96\", \"dash\": \"solid\"}, \"mode\": \"lines\", \"name\": \"Nuclear\", \"orientation\": \"v\", \"showlegend\": true, \"type\": \"scatter\", \"x\": [0.1, 0.11, 0.12, 0.13, 0.13999999999999999, 0.14999999999999997, 0.15999999999999998, 0.16999999999999998, 0.17999999999999997, 0.18999999999999995, 0.19999999999999996, 0.20999999999999996, 0.21999999999999995, 0.22999999999999995, 0.23999999999999994, 0.24999999999999992, 0.2599999999999999, 0.2699999999999999, 0.2799999999999999, 0.2899999999999999, 0.29999999999999993, 0.30999999999999994, 0.3199999999999999, 0.32999999999999985, 0.33999999999999986, 0.34999999999999987, 0.3599999999999999, 0.3699999999999999, 0.3799999999999999, 0.3899999999999999, 0.3999999999999998, 0.4099999999999998, 0.4199999999999998, 0.4299999999999998, 0.43999999999999984, 0.44999999999999984, 0.45999999999999985, 0.46999999999999986, 0.47999999999999976, 0.48999999999999977, 0.4999999999999998, 0.5099999999999998, 0.5199999999999998, 0.5299999999999998, 0.5399999999999998, 0.5499999999999998, 0.5599999999999997, 0.5699999999999997, 0.5799999999999997, 0.5899999999999997, 0.5999999999999998, 0.6099999999999998, 0.6199999999999998, 0.6299999999999997, 0.6399999999999997, 0.6499999999999997, 0.6599999999999997, 0.6699999999999997, 0.6799999999999997, 0.6899999999999997, 0.6999999999999996, 0.7099999999999996, 0.7199999999999996, 0.7299999999999996, 0.7399999999999997, 0.7499999999999997, 0.7599999999999997, 0.7699999999999997, 0.7799999999999997, 0.7899999999999996, 0.7999999999999996, 0.8099999999999996, 0.8199999999999996, 0.8299999999999996, 0.8399999999999996, 0.8499999999999996, 0.8599999999999995, 0.8699999999999996, 0.8799999999999996, 0.8899999999999996, 0.8999999999999996, 0.9099999999999996, 0.9199999999999996, 0.9299999999999996, 0.9399999999999996, 0.9499999999999995, 0.9599999999999995, 0.9699999999999995, 0.9799999999999995, 0.9899999999999995], \"xaxis\": \"x\", \"y\": [0.2827710477123444, 0.2582009524657675, 0.23772587309362023, 0.22040080593257255, 0.20555074836596032, 0.19268069847489627, 0.1814194048202152, 0.17148296924255554, 0.1626505820624136, 0.15474791984860228, 0.14763552385617226, 0.14120049891064024, 0.1353504762328838, 0.1300091511792801, 0.12511293654681013, 0.1206084190849377, 0.11645040296628632, 0.11260038804160905, 0.1090253741829802, 0.10569691300425671, 0.10259034923744814, 0.09968420893946593, 0.09695970241010764, 0.09440031748858922, 0.09199148462127778, 0.08972029934638415, 0.08757529103120681, 0.08554622911144442, 0.08362395992430115, 0.08180026864419088, 0.08006776192808614, 0.07841976773471816, 0.07685024945532012, 0.0753537320261266, 0.07392523811644193, 0.0725602328249654, 0.07125457558964006, 0.07000447823666903, 0.06880646827340507, 0.06765735667598867, 0.06655420954246885, 0.06549432308085187, 0.06447520148314315, 0.06349453730421593, 0.06255019402080451, 0.06164019049315353, 0.0607626870914901, 0.05991597328286746, 0.05909845650212838, 0.05830865215463464, 0.057545174618724076, 0.05680672913317124, 0.056092104469732965, 0.05540016630354675, 0.05472985120505384, 0.05408016118651452, 0.05345015874429462, 0.05283896234512604, 0.052245742310638894, 0.05166971705976008, 0.05111014967319208, 0.0505663447482175, 0.050037645515603406, 0.04952343119347184, 0.04902311455572222, 0.04853613969497923, 0.04806197996215059, 0.047600136066538234, 0.04715013432209544, 0.04671152502687903, 0.04628388096404307, 0.04586679601386965, 0.04545988386735909, 0.04506277683281259, 0.04467512472766006, 0.04429659384851111, 0.0439268660130633, 0.043565637668085584, 0.04321261905822097, 0.04286753345082523, 0.0425301164124827, 0.042200115133224664, 0.04187728779482003, 0.04156140297982198, 0.04125223911833451, 0.040949583969720475, 0.04065323413670253, 0.04036299460952003, 0.04007867833799434, 0.039800105829529746], \"yaxis\": \"y\"}, {\"hovertemplate\": \"Technology=Nuclear<br>DiscountRate=0.1<br>LoadFactor (%)=%{x}<br>LCOE (\\u20ac/kW)=%{y}<extra></extra>\", \"legendgroup\": \"Nuclear\", \"line\": {\"color\": \"#00cc96\", \"dash\": \"solid\"}, \"mode\": \"lines\", \"name\": \"Nuclear\", \"orientation\": \"v\", \"showlegend\": false, \"type\": \"scatter\", \"x\": [0.1, 0.11, 0.12, 0.13, 0.13999999999999999, 0.14999999999999997, 0.15999999999999998, 0.16999999999999998, 0.17999999999999997, 0.18999999999999995, 0.19999999999999996, 0.20999999999999996, 0.21999999999999995, 0.22999999999999995, 0.23999999999999994, 0.24999999999999992, 0.2599999999999999, 0.2699999999999999, 0.2799999999999999, 0.2899999999999999, 0.29999999999999993, 0.30999999999999994, 0.3199999999999999, 0.32999999999999985, 0.33999999999999986, 0.34999999999999987, 0.3599999999999999, 0.3699999999999999, 0.3799999999999999, 0.3899999999999999, 0.3999999999999998, 0.4099999999999998, 0.4199999999999998, 0.4299999999999998, 0.43999999999999984, 0.44999999999999984, 0.45999999999999985, 0.46999999999999986, 0.47999999999999976, 0.48999999999999977, 0.4999999999999998, 0.5099999999999998, 0.5199999999999998, 0.5299999999999998, 0.5399999999999998, 0.5499999999999998, 0.5599999999999997, 0.5699999999999997, 0.5799999999999997, 0.5899999999999997, 0.5999999999999998, 0.6099999999999998, 0.6199999999999998, 0.6299999999999997, 0.6399999999999997, 0.6499999999999997, 0.6599999999999997, 0.6699999999999997, 0.6799999999999997, 0.6899999999999997, 0.6999999999999996, 0.7099999999999996, 0.7199999999999996, 0.7299999999999996, 0.7399999999999997, 0.7499999999999997, 0.7599999999999997, 0.7699999999999997, 0.7799999999999997, 0.7899999999999996, 0.7999999999999996, 0.8099999999999996, 0.8199999999999996, 0.8299999999999996, 0.8399999999999996, 0.8499999999999996, 0.8599999999999995, 0.8699999999999996, 0.8799999999999996, 0.8899999999999996, 0.8999999999999996, 0.9099999999999996, 0.9199999999999996, 0.9299999999999996, 0.9399999999999996, 0.9499999999999995, 0.9599999999999995, 0.9699999999999995, 0.9799999999999995, 0.9899999999999995], \"xaxis\": \"x2\", \"y\": [0.4857941917886466, 0.4427674470805878, 0.40691182649053914, 0.3765724552220361, 0.3505672798490333, 0.3280294611924312, 0.30830886986790434, 0.29090834811096883, 0.2754412176603594, 0.26160220620455116, 0.24914709589432343, 0.23787818656602241, 0.22763372354029396, 0.21828008338636828, 0.20970591324526955, 0.20181767671545886, 0.19453622761101813, 0.18779414510690629, 0.18153363992451668, 0.17570489372022313, 0.17026473059621558, 0.16517554573827326, 0.1604044349339522, 0.1559224823601961, 0.15170417405548445, 0.14772691193961351, 0.14397060883017973, 0.14041734913206677, 0.13705110310227558, 0.13385748507401202, 0.13082354794716175, 0.12793760775332855, 0.12518909328301125, 0.12256841669503418, 0.12006686177014698, 0.11767648706414381, 0.11539004169318415, 0.11320089186992494, 0.11110295662263484, 0.10909065138543816, 0.10715883835772942, 0.10530278270365628, 0.10351811380550907, 0.10180079090351833, 0.10014707255345315, 0.09855348941611766, 0.09701681996225835, 0.09553406873485037, 0.09410244686011159, 0.09271935454044865, 0.09138236529810785, 0.09008921176863063, 0.08883777286913663, 0.08762606218867414, 0.08645221746697612, 0.0853144910444072, 0.08421124118009805, 0.08314092414755929, 0.08210208702774223, 0.08109336112878945, 0.08011345596980676, 0.07916115377304889, 0.07823530441508988, 0.07733482079296532, 0.07645867456603338, 0.07560589223848627, 0.07477555155113781, 0.07396677815436979, 0.07317874253700603, 0.07241065718843635, 0.07166177397358087, 0.0709313817023021, 0.07021880387666429, 0.06952339660104176, 0.06884454664150563, 0.06818166962219378, 0.0675342083475171, 0.06690163124007435, 0.06628343088507349, 0.06567912267288172, 0.06508824353207192, 0.06451035074600517, 0.06394502084659208, 0.06339184857942443, 0.06285044593496247, 0.06232044124091025, 0.06180147831131741, 0.061293215648314144, 0.06079532569271908, 0.06030749412006536], \"yaxis\": \"y2\"}, {\"hovertemplate\": \"Technology=CSP<br>DiscountRate=0.05<br>LoadFactor (%)=%{x}<br>LCOE (\\u20ac/kW)=%{y}<extra></extra>\", \"legendgroup\": \"CSP\", \"line\": {\"color\": \"#ab63fa\", \"dash\": \"solid\"}, \"mode\": \"lines\", \"name\": \"CSP\", \"orientation\": \"v\", \"showlegend\": true, \"type\": \"scatter\", \"x\": [0.1, 0.11, 0.12, 0.13, 0.13999999999999999, 0.14999999999999997, 0.15999999999999998, 0.16999999999999998, 0.17999999999999997, 0.18999999999999995, 0.19999999999999996, 0.20999999999999996, 0.21999999999999995, 0.22999999999999995, 0.23999999999999994, 0.24999999999999992, 0.2599999999999999, 0.2699999999999999, 0.2799999999999999, 0.2899999999999999, 0.29999999999999993, 0.30999999999999994, 0.3199999999999999, 0.32999999999999985, 0.33999999999999986, 0.34999999999999987, 0.3599999999999999, 0.3699999999999999, 0.3799999999999999, 0.3899999999999999, 0.3999999999999998, 0.4099999999999998, 0.4199999999999998, 0.4299999999999998, 0.43999999999999984, 0.44999999999999984, 0.45999999999999985, 0.46999999999999986, 0.47999999999999976, 0.48999999999999977, 0.4999999999999998, 0.5099999999999998, 0.5199999999999998, 0.5299999999999998, 0.5399999999999998, 0.5499999999999998, 0.5599999999999997, 0.5699999999999997, 0.5799999999999997, 0.5899999999999997, 0.5999999999999998, 0.6099999999999998, 0.6199999999999998, 0.6299999999999997, 0.6399999999999997, 0.6499999999999997, 0.6599999999999997, 0.6699999999999997, 0.6799999999999997, 0.6899999999999997, 0.6999999999999996, 0.7099999999999996, 0.7199999999999996, 0.7299999999999996, 0.7399999999999997, 0.7499999999999997, 0.7599999999999997, 0.7699999999999997, 0.7799999999999997, 0.7899999999999996, 0.7999999999999996, 0.8099999999999996, 0.8199999999999996, 0.8299999999999996, 0.8399999999999996, 0.8499999999999996, 0.8599999999999995, 0.8699999999999996, 0.8799999999999996, 0.8899999999999996, 0.8999999999999996, 0.9099999999999996, 0.9199999999999996, 0.9299999999999996, 0.9399999999999996, 0.9499999999999995, 0.9599999999999995, 0.9699999999999995, 0.9799999999999995, 0.9899999999999995], \"xaxis\": \"x\", \"y\": [0.2976788985405352, 0.2706171804913956, 0.2480657487837793, 0.22898376810810397, 0.21262778467181087, 0.1984525990270235, 0.18604931158783453, 0.17510523443560896, 0.16537716585585294, 0.1566731044950186, 0.1488394492702676, 0.1417518564478739, 0.13530859024569783, 0.1294256080611023, 0.1240328743918897, 0.11907155941621413, 0.11449188405405204, 0.11025144390390197, 0.10631389233590546, 0.10264789604846043, 0.09922629951351175, 0.09602545114210813, 0.09302465579391729, 0.09020572683046525, 0.08755261721780451, 0.08505111386872438, 0.08268858292792647, 0.08045375636230682, 0.0783365522475093, 0.07632792270270135, 0.07441972463513385, 0.07260460940013055, 0.07087592822393697, 0.06922765082338028, 0.06765429512284893, 0.06615086634234116, 0.06471280403055116, 0.06333593585968834, 0.06201643719594485, 0.060750795620517405, 0.05953577970810706, 0.058368411478536324, 0.05724594202702602, 0.056165829913308554, 0.055125721951950986, 0.05412343609827913, 0.05315694616795273, 0.05222436816500619, 0.051323948024230216, 0.05045405060009073, 0.04961314975675588, 0.04879981943287463, 0.048012725571054085, 0.04725061881595798, 0.046512327896958645, 0.04579675362162081, 0.045102863415232626, 0.044429686349333634, 0.043776308608902255, 0.04314186935370078, 0.0425255569343622, 0.04192660542824441, 0.04134429146396324, 0.04077793130692264, 0.04022687818115342, 0.03969051980540471, 0.03916827612375465, 0.03865959721305654, 0.038163961351350674, 0.037680873232979153, 0.03720986231756693, 0.036750481301300666, 0.03630230470006528, 0.03586492753500425, 0.035437964111968485, 0.0350210468871218, 0.03461382541169015, 0.03421596534948682, 0.033827147561424464, 0.03344706725174554, 0.033075433171170586, 0.0327119668725863, 0.03235640201527558, 0.03200848371403606, 0.03166796792984418, 0.03133462089900372, 0.031008218597972426, 0.030688546241292292, 0.030375397810258702, 0.030068575610155076], \"yaxis\": \"y\"}, {\"hovertemplate\": \"Technology=CSP<br>DiscountRate=0.1<br>LoadFactor (%)=%{x}<br>LCOE (\\u20ac/kW)=%{y}<extra></extra>\", \"legendgroup\": \"CSP\", \"line\": {\"color\": \"#ab63fa\", \"dash\": \"solid\"}, \"mode\": \"lines\", \"name\": \"CSP\", \"orientation\": \"v\", \"showlegend\": false, \"type\": \"scatter\", \"x\": [0.1, 0.11, 0.12, 0.13, 0.13999999999999999, 0.14999999999999997, 0.15999999999999998, 0.16999999999999998, 0.17999999999999997, 0.18999999999999995, 0.19999999999999996, 0.20999999999999996, 0.21999999999999995, 0.22999999999999995, 0.23999999999999994, 0.24999999999999992, 0.2599999999999999, 0.2699999999999999, 0.2799999999999999, 0.2899999999999999, 0.29999999999999993, 0.30999999999999994, 0.3199999999999999, 0.32999999999999985, 0.33999999999999986, 0.34999999999999987, 0.3599999999999999, 0.3699999999999999, 0.3799999999999999, 0.3899999999999999, 0.3999999999999998, 0.4099999999999998, 0.4199999999999998, 0.4299999999999998, 0.43999999999999984, 0.44999999999999984, 0.45999999999999985, 0.46999999999999986, 0.47999999999999976, 0.48999999999999977, 0.4999999999999998, 0.5099999999999998, 0.5199999999999998, 0.5299999999999998, 0.5399999999999998, 0.5499999999999998, 0.5599999999999997, 0.5699999999999997, 0.5799999999999997, 0.5899999999999997, 0.5999999999999998, 0.6099999999999998, 0.6199999999999998, 0.6299999999999997, 0.6399999999999997, 0.6499999999999997, 0.6599999999999997, 0.6699999999999997, 0.6799999999999997, 0.6899999999999997, 0.6999999999999996, 0.7099999999999996, 0.7199999999999996, 0.7299999999999996, 0.7399999999999997, 0.7499999999999997, 0.7599999999999997, 0.7699999999999997, 0.7799999999999997, 0.7899999999999996, 0.7999999999999996, 0.8099999999999996, 0.8199999999999996, 0.8299999999999996, 0.8399999999999996, 0.8499999999999996, 0.8599999999999995, 0.8699999999999996, 0.8799999999999996, 0.8899999999999996, 0.8999999999999996, 0.9099999999999996, 0.9199999999999996, 0.9299999999999996, 0.9399999999999996, 0.9499999999999995, 0.9599999999999995, 0.9699999999999995, 0.9799999999999995, 0.9899999999999995], \"xaxis\": \"x2\", \"y\": [0.4384455720622966, 0.398586883692997, 0.36537131005191387, 0.3372658246633052, 0.31317540861592635, 0.2922970480415312, 0.2740284825389355, 0.25790916003664527, 0.24358087336794265, 0.23076082740120885, 0.21922278603114836, 0.20878360574395094, 0.19929344184649855, 0.19062850959230299, 0.18268565502595702, 0.17537822882491877, 0.16863291233165267, 0.16238724891196185, 0.15658770430796318, 0.1511881282973438, 0.1461485240207656, 0.14143405550396673, 0.1370142412694678, 0.13286229456433243, 0.12895458001832266, 0.1252701634463705, 0.12179043668397135, 0.11849880326008021, 0.11538041370060442, 0.11242194155443509, 0.10961139301557425, 0.10693794440543826, 0.1043918028719755, 0.10196408652611556, 0.09964672092324932, 0.09743234934717708, 0.09531425479615149, 0.09328629192814827, 0.09134282751297852, 0.08947868817597898, 0.08768911441245938, 0.08596972001221509, 0.08431645616582634, 0.08272557963439567, 0.08119362445598093, 0.07971737673859942, 0.0782938521539816, 0.07692027580040298, 0.0755940641486719, 0.07431280882411812, 0.07307426201038283, 0.0718763232889011, 0.07071702775198337, 0.06959453524798363, 0.06850712063473391, 0.06745316493266107, 0.06643114728216622, 0.06543963762123835, 0.06447729000916133, 0.06354283653076767, 0.06263508172318528, 0.06175289747356296, 0.0608952183419857, 0.0600610372688078, 0.059249401630040124, 0.058459409608306256, 0.05769020685030222, 0.05694098338471388, 0.056210970777217546, 0.055499439501556565, 0.054805696507787126, 0.05412908297065395, 0.05346897220271913, 0.05282476771834903, 0.05219590143598775, 0.05158183200732903, 0.05098204326305778, 0.05039604276578126, 0.04982336046162466, 0.04926354742272999, 0.04871617467358854, 0.04818083209475791, 0.047657127398075746, 0.047144685167988906, 0.04664314596407414, 0.046152165480241765, 0.04567141375648926, 0.04520057443941205, 0.04473934408798949, 0.04428743152144413], \"yaxis\": \"y2\"}, {\"hovertemplate\": \"Technology=Wind<br>DiscountRate=0.05<br>LoadFactor (%)=%{x}<br>LCOE (\\u20ac/kW)=%{y}<extra></extra>\", \"legendgroup\": \"Wind\", \"line\": {\"color\": \"#FFA15A\", \"dash\": \"solid\"}, \"mode\": \"lines\", \"name\": \"Wind\", \"orientation\": \"v\", \"showlegend\": true, \"type\": \"scatter\", \"x\": [0.1, 0.11, 0.12, 0.13, 0.13999999999999999, 0.14999999999999997, 0.15999999999999998, 0.16999999999999998, 0.17999999999999997, 0.18999999999999995, 0.19999999999999996, 0.20999999999999996, 0.21999999999999995, 0.22999999999999995, 0.23999999999999994, 0.24999999999999992, 0.2599999999999999, 0.2699999999999999, 0.2799999999999999, 0.2899999999999999, 0.29999999999999993, 0.30999999999999994, 0.3199999999999999, 0.32999999999999985, 0.33999999999999986, 0.34999999999999987, 0.3599999999999999, 0.3699999999999999, 0.3799999999999999, 0.3899999999999999, 0.3999999999999998, 0.4099999999999998, 0.4199999999999998, 0.4299999999999998, 0.43999999999999984, 0.44999999999999984, 0.45999999999999985, 0.46999999999999986, 0.47999999999999976, 0.48999999999999977, 0.4999999999999998, 0.5099999999999998, 0.5199999999999998, 0.5299999999999998, 0.5399999999999998, 0.5499999999999998, 0.5599999999999997, 0.5699999999999997, 0.5799999999999997, 0.5899999999999997, 0.5999999999999998, 0.6099999999999998, 0.6199999999999998, 0.6299999999999997, 0.6399999999999997, 0.6499999999999997, 0.6599999999999997, 0.6699999999999997, 0.6799999999999997, 0.6899999999999997, 0.6999999999999996, 0.7099999999999996, 0.7199999999999996, 0.7299999999999996, 0.7399999999999997, 0.7499999999999997, 0.7599999999999997, 0.7699999999999997, 0.7799999999999997, 0.7899999999999996, 0.7999999999999996, 0.8099999999999996, 0.8199999999999996, 0.8299999999999996, 0.8399999999999996, 0.8499999999999996, 0.8599999999999995, 0.8699999999999996, 0.8799999999999996, 0.8899999999999996, 0.8999999999999996, 0.9099999999999996, 0.9199999999999996, 0.9299999999999996, 0.9399999999999996, 0.9499999999999995, 0.9599999999999995, 0.9699999999999995, 0.9799999999999995, 0.9899999999999995], \"xaxis\": \"x\", \"y\": [0.0948499116754464, 0.08622719243222396, 0.07904159306287198, 0.07296147051957415, 0.06774993691103316, 0.06323327445029761, 0.05928119479715402, 0.05579406569143903, 0.052694395375248004, 0.04992100614497179, 0.04742495583772321, 0.04516662460735544, 0.043113596216112, 0.041239092032802786, 0.039520796531436, 0.037939964670178565, 0.03648073525978709, 0.03512959691683201, 0.03387496845551658, 0.03270686609498152, 0.031616637225148805, 0.030596745701756918, 0.02964059739857701, 0.028742397477408015, 0.02789703284571953, 0.027099974764413264, 0.026347197687624006, 0.02563511126363416, 0.024960503072485894, 0.024320490173191385, 0.02371247791886161, 0.023134124798889377, 0.022583312303677733, 0.02205811899428987, 0.021556798108056, 0.021077758150099206, 0.020619546016401397, 0.020180832271371574, 0.019760398265718012, 0.019357124831723766, 0.018969982335089286, 0.01859802189714636, 0.018240367629893544, 0.017896209750084224, 0.017564798458416006, 0.017245438486444806, 0.016937484227758298, 0.01664033538165727, 0.016353433047490762, 0.01607625621617736, 0.015808318612574403, 0.015549165848433839, 0.015298372850878459, 0.015055541535785148, 0.014820298699288505, 0.014592294103914837, 0.014371198738704008, 0.01415670323514126, 0.013948516422859766, 0.013746364010934264, 0.013549987382206632, 0.013359142489499497, 0.013173598843812003, 0.012993138585677588, 0.012817555631817084, 0.012646654890059525, 0.012480251536242947, 0.012318170347460577, 0.012160245086595694, 0.012006317933600815, 0.011856238959430805, 0.011709865638944002, 0.011567062399444689, 0.01142770020186102, 0.011291656151838867, 0.011158813138287817, 0.011029059497144935, 0.010902288698327177, 0.010778399054028, 0.010657293446679374, 0.010538879075049605, 0.010423067217082024, 0.0103097730082007, 0.01019891523391897, 0.010090416135685789, 0.009984201228994363, 0.009880199132859006, 0.009778341409839837, 0.009678562415861883, 0.009580799159136002], \"yaxis\": \"y\"}, {\"hovertemplate\": \"Technology=Wind<br>DiscountRate=0.1<br>LoadFactor (%)=%{x}<br>LCOE (\\u20ac/kW)=%{y}<extra></extra>\", \"legendgroup\": \"Wind\", \"line\": {\"color\": \"#FFA15A\", \"dash\": \"solid\"}, \"mode\": \"lines\", \"name\": \"Wind\", \"orientation\": \"v\", \"showlegend\": false, \"type\": \"scatter\", \"x\": [0.1, 0.11, 0.12, 0.13, 0.13999999999999999, 0.14999999999999997, 0.15999999999999998, 0.16999999999999998, 0.17999999999999997, 0.18999999999999995, 0.19999999999999996, 0.20999999999999996, 0.21999999999999995, 0.22999999999999995, 0.23999999999999994, 0.24999999999999992, 0.2599999999999999, 0.2699999999999999, 0.2799999999999999, 0.2899999999999999, 0.29999999999999993, 0.30999999999999994, 0.3199999999999999, 0.32999999999999985, 0.33999999999999986, 0.34999999999999987, 0.3599999999999999, 0.3699999999999999, 0.3799999999999999, 0.3899999999999999, 0.3999999999999998, 0.4099999999999998, 0.4199999999999998, 0.4299999999999998, 0.43999999999999984, 0.44999999999999984, 0.45999999999999985, 0.46999999999999986, 0.47999999999999976, 0.48999999999999977, 0.4999999999999998, 0.5099999999999998, 0.5199999999999998, 0.5299999999999998, 0.5399999999999998, 0.5499999999999998, 0.5599999999999997, 0.5699999999999997, 0.5799999999999997, 0.5899999999999997, 0.5999999999999998, 0.6099999999999998, 0.6199999999999998, 0.6299999999999997, 0.6399999999999997, 0.6499999999999997, 0.6599999999999997, 0.6699999999999997, 0.6799999999999997, 0.6899999999999997, 0.6999999999999996, 0.7099999999999996, 0.7199999999999996, 0.7299999999999996, 0.7399999999999997, 0.7499999999999997, 0.7599999999999997, 0.7699999999999997, 0.7799999999999997, 0.7899999999999996, 0.7999999999999996, 0.8099999999999996, 0.8199999999999996, 0.8299999999999996, 0.8399999999999996, 0.8499999999999996, 0.8599999999999995, 0.8699999999999996, 0.8799999999999996, 0.8899999999999996, 0.8999999999999996, 0.9099999999999996, 0.9199999999999996, 0.9299999999999996, 0.9399999999999996, 0.9499999999999995, 0.9599999999999995, 0.9699999999999995, 0.9799999999999995, 0.9899999999999995], \"xaxis\": \"x2\", \"y\": [0.13947871173518586, 0.12679882885016897, 0.11623225977932153, 0.1072913167193737, 0.09962765123941844, 0.09298580782345726, 0.08717419483449117, 0.08204630102069754, 0.07748817318621436, 0.07340984828167679, 0.06973935586759294, 0.06641843415961231, 0.0633994144250845, 0.06064291814573298, 0.05811612988966078, 0.05579148469407434, 0.05364565835968688, 0.05165878212414293, 0.04981382561970922, 0.04809610749489169, 0.04649290391172863, 0.04499313281780189, 0.04358709741724559, 0.04226627628338966, 0.04102315051034879, 0.0398510604957674, 0.03874408659310719, 0.03769694911761781, 0.036704924140838396, 0.03576377223979124, 0.034869677933796486, 0.034019197984191674, 0.03320921707980616, 0.03243690970585719, 0.03169970721254225, 0.030995269274485756, 0.030321459072866496, 0.029676321645784227, 0.029058064944830396, 0.02846504321126243, 0.02789574234703717, 0.02734876700689919, 0.02682282917984344, 0.02631673806324263, 0.025829391062071466, 0.025359765770033807, 0.024906912809854624, 0.024469949427225596, 0.02404805374744585, 0.023640459616133206, 0.02324645195586432, 0.022865362579538667, 0.02249656640890095, 0.02213947805320412, 0.021793548708622795, 0.021458263343874757, 0.02113313814169483, 0.020817718169430732, 0.020511575255174396, 0.02021430604857767, 0.019925530247883707, 0.01964488897678676, 0.019372043296553596, 0.019106672840436423, 0.01884847455880891, 0.018597161564691458, 0.018352462070419198, 0.018114118407167003, 0.017881886119895628, 0.017655533131036193, 0.017434838966898243, 0.017219594041380973, 0.017009598992095837, 0.01680466406448023, 0.01660460853990308, 0.016409260204139527, 0.016218454852928596, 0.016032035831630563, 0.015849853606271128, 0.015671765363504033, 0.015497634637242883, 0.01532733095991054, 0.015160729536433248, 0.014997710939267302, 0.014838160822892115, 0.01468196965633536, 0.014529032472415198, 0.014379248632493395, 0.014232521605631215, 0.014088758761129893], \"yaxis\": \"y2\"}],                        {\"annotations\": [{\"font\": {}, \"showarrow\": false, \"text\": \"DiscountRate=0.05\", \"x\": 0.245, \"xanchor\": \"center\", \"xref\": \"paper\", \"y\": 1.0, \"yanchor\": \"bottom\", \"yref\": \"paper\"}, {\"font\": {}, \"showarrow\": false, \"text\": \"DiscountRate=0.1\", \"x\": 0.755, \"xanchor\": \"center\", \"xref\": \"paper\", \"y\": 1.0, \"yanchor\": \"bottom\", \"yref\": \"paper\"}], \"legend\": {\"title\": {\"text\": \"Technology\"}, \"tracegroupgap\": 0}, \"margin\": {\"t\": 60}, \"template\": {\"data\": {\"bar\": [{\"error_x\": {\"color\": \"#2a3f5f\"}, \"error_y\": {\"color\": \"#2a3f5f\"}, \"marker\": {\"line\": {\"color\": \"#E5ECF6\", \"width\": 0.5}}, \"type\": \"bar\"}], \"barpolar\": [{\"marker\": {\"line\": {\"color\": \"#E5ECF6\", \"width\": 0.5}}, \"type\": \"barpolar\"}], \"carpet\": [{\"aaxis\": {\"endlinecolor\": \"#2a3f5f\", \"gridcolor\": \"white\", \"linecolor\": \"white\", \"minorgridcolor\": \"white\", \"startlinecolor\": \"#2a3f5f\"}, \"baxis\": {\"endlinecolor\": \"#2a3f5f\", \"gridcolor\": \"white\", \"linecolor\": \"white\", \"minorgridcolor\": \"white\", \"startlinecolor\": \"#2a3f5f\"}, \"type\": \"carpet\"}], \"choropleth\": [{\"colorbar\": {\"outlinewidth\": 0, \"ticks\": \"\"}, \"type\": \"choropleth\"}], \"contour\": [{\"colorbar\": {\"outlinewidth\": 0, \"ticks\": \"\"}, \"colorscale\": [[0.0, \"#0d0887\"], [0.1111111111111111, \"#46039f\"], [0.2222222222222222, \"#7201a8\"], [0.3333333333333333, \"#9c179e\"], [0.4444444444444444, \"#bd3786\"], [0.5555555555555556, \"#d8576b\"], [0.6666666666666666, \"#ed7953\"], [0.7777777777777778, \"#fb9f3a\"], [0.8888888888888888, \"#fdca26\"], [1.0, \"#f0f921\"]], \"type\": \"contour\"}], \"contourcarpet\": [{\"colorbar\": {\"outlinewidth\": 0, \"ticks\": \"\"}, \"type\": \"contourcarpet\"}], \"heatmap\": [{\"colorbar\": {\"outlinewidth\": 0, \"ticks\": \"\"}, \"colorscale\": [[0.0, \"#0d0887\"], [0.1111111111111111, \"#46039f\"], [0.2222222222222222, \"#7201a8\"], [0.3333333333333333, \"#9c179e\"], [0.4444444444444444, \"#bd3786\"], [0.5555555555555556, \"#d8576b\"], [0.6666666666666666, \"#ed7953\"], [0.7777777777777778, \"#fb9f3a\"], [0.8888888888888888, \"#fdca26\"], [1.0, \"#f0f921\"]], \"type\": \"heatmap\"}], \"heatmapgl\": [{\"colorbar\": {\"outlinewidth\": 0, \"ticks\": \"\"}, \"colorscale\": [[0.0, \"#0d0887\"], [0.1111111111111111, \"#46039f\"], [0.2222222222222222, \"#7201a8\"], [0.3333333333333333, \"#9c179e\"], [0.4444444444444444, \"#bd3786\"], [0.5555555555555556, \"#d8576b\"], [0.6666666666666666, \"#ed7953\"], [0.7777777777777778, \"#fb9f3a\"], [0.8888888888888888, \"#fdca26\"], [1.0, \"#f0f921\"]], \"type\": \"heatmapgl\"}], \"histogram\": [{\"marker\": {\"colorbar\": {\"outlinewidth\": 0, \"ticks\": \"\"}}, \"type\": \"histogram\"}], \"histogram2d\": [{\"colorbar\": {\"outlinewidth\": 0, \"ticks\": \"\"}, \"colorscale\": [[0.0, \"#0d0887\"], [0.1111111111111111, \"#46039f\"], [0.2222222222222222, \"#7201a8\"], [0.3333333333333333, \"#9c179e\"], [0.4444444444444444, \"#bd3786\"], [0.5555555555555556, \"#d8576b\"], [0.6666666666666666, \"#ed7953\"], [0.7777777777777778, \"#fb9f3a\"], [0.8888888888888888, \"#fdca26\"], [1.0, \"#f0f921\"]], \"type\": \"histogram2d\"}], \"histogram2dcontour\": [{\"colorbar\": {\"outlinewidth\": 0, \"ticks\": \"\"}, \"colorscale\": [[0.0, \"#0d0887\"], [0.1111111111111111, \"#46039f\"], [0.2222222222222222, \"#7201a8\"], [0.3333333333333333, \"#9c179e\"], [0.4444444444444444, \"#bd3786\"], [0.5555555555555556, \"#d8576b\"], [0.6666666666666666, \"#ed7953\"], [0.7777777777777778, \"#fb9f3a\"], [0.8888888888888888, \"#fdca26\"], [1.0, \"#f0f921\"]], \"type\": \"histogram2dcontour\"}], \"mesh3d\": [{\"colorbar\": {\"outlinewidth\": 0, \"ticks\": \"\"}, \"type\": \"mesh3d\"}], \"parcoords\": [{\"line\": {\"colorbar\": {\"outlinewidth\": 0, \"ticks\": \"\"}}, \"type\": \"parcoords\"}], \"pie\": [{\"automargin\": true, \"type\": \"pie\"}], \"scatter\": [{\"marker\": {\"colorbar\": {\"outlinewidth\": 0, \"ticks\": \"\"}}, \"type\": \"scatter\"}], \"scatter3d\": [{\"line\": {\"colorbar\": {\"outlinewidth\": 0, \"ticks\": \"\"}}, \"marker\": {\"colorbar\": {\"outlinewidth\": 0, \"ticks\": \"\"}}, \"type\": \"scatter3d\"}], \"scattercarpet\": [{\"marker\": {\"colorbar\": {\"outlinewidth\": 0, \"ticks\": \"\"}}, \"type\": \"scattercarpet\"}], \"scattergeo\": [{\"marker\": {\"colorbar\": {\"outlinewidth\": 0, \"ticks\": \"\"}}, \"type\": \"scattergeo\"}], \"scattergl\": [{\"marker\": {\"colorbar\": {\"outlinewidth\": 0, \"ticks\": \"\"}}, \"type\": \"scattergl\"}], \"scattermapbox\": [{\"marker\": {\"colorbar\": {\"outlinewidth\": 0, \"ticks\": \"\"}}, \"type\": \"scattermapbox\"}], \"scatterpolar\": [{\"marker\": {\"colorbar\": {\"outlinewidth\": 0, \"ticks\": \"\"}}, \"type\": \"scatterpolar\"}], \"scatterpolargl\": [{\"marker\": {\"colorbar\": {\"outlinewidth\": 0, \"ticks\": \"\"}}, \"type\": \"scatterpolargl\"}], \"scatterternary\": [{\"marker\": {\"colorbar\": {\"outlinewidth\": 0, \"ticks\": \"\"}}, \"type\": \"scatterternary\"}], \"surface\": [{\"colorbar\": {\"outlinewidth\": 0, \"ticks\": \"\"}, \"colorscale\": [[0.0, \"#0d0887\"], [0.1111111111111111, \"#46039f\"], [0.2222222222222222, \"#7201a8\"], [0.3333333333333333, \"#9c179e\"], [0.4444444444444444, \"#bd3786\"], [0.5555555555555556, \"#d8576b\"], [0.6666666666666666, \"#ed7953\"], [0.7777777777777778, \"#fb9f3a\"], [0.8888888888888888, \"#fdca26\"], [1.0, \"#f0f921\"]], \"type\": \"surface\"}], \"table\": [{\"cells\": {\"fill\": {\"color\": \"#EBF0F8\"}, \"line\": {\"color\": \"white\"}}, \"header\": {\"fill\": {\"color\": \"#C8D4E3\"}, \"line\": {\"color\": \"white\"}}, \"type\": \"table\"}]}, \"layout\": {\"annotationdefaults\": {\"arrowcolor\": \"#2a3f5f\", \"arrowhead\": 0, \"arrowwidth\": 1}, \"coloraxis\": {\"colorbar\": {\"outlinewidth\": 0, \"ticks\": \"\"}}, \"colorscale\": {\"diverging\": [[0, \"#8e0152\"], [0.1, \"#c51b7d\"], [0.2, \"#de77ae\"], [0.3, \"#f1b6da\"], [0.4, \"#fde0ef\"], [0.5, \"#f7f7f7\"], [0.6, \"#e6f5d0\"], [0.7, \"#b8e186\"], [0.8, \"#7fbc41\"], [0.9, \"#4d9221\"], [1, \"#276419\"]], \"sequential\": [[0.0, \"#0d0887\"], [0.1111111111111111, \"#46039f\"], [0.2222222222222222, \"#7201a8\"], [0.3333333333333333, \"#9c179e\"], [0.4444444444444444, \"#bd3786\"], [0.5555555555555556, \"#d8576b\"], [0.6666666666666666, \"#ed7953\"], [0.7777777777777778, \"#fb9f3a\"], [0.8888888888888888, \"#fdca26\"], [1.0, \"#f0f921\"]], \"sequentialminus\": [[0.0, \"#0d0887\"], [0.1111111111111111, \"#46039f\"], [0.2222222222222222, \"#7201a8\"], [0.3333333333333333, \"#9c179e\"], [0.4444444444444444, \"#bd3786\"], [0.5555555555555556, \"#d8576b\"], [0.6666666666666666, \"#ed7953\"], [0.7777777777777778, \"#fb9f3a\"], [0.8888888888888888, \"#fdca26\"], [1.0, \"#f0f921\"]]}, \"colorway\": [\"#636efa\", \"#EF553B\", \"#00cc96\", \"#ab63fa\", \"#FFA15A\", \"#19d3f3\", \"#FF6692\", \"#B6E880\", \"#FF97FF\", \"#FECB52\"], \"font\": {\"color\": \"#2a3f5f\"}, \"geo\": {\"bgcolor\": \"white\", \"lakecolor\": \"white\", \"landcolor\": \"#E5ECF6\", \"showlakes\": true, \"showland\": true, \"subunitcolor\": \"white\"}, \"hoverlabel\": {\"align\": \"left\"}, \"hovermode\": \"closest\", \"mapbox\": {\"style\": \"light\"}, \"paper_bgcolor\": \"white\", \"plot_bgcolor\": \"#E5ECF6\", \"polar\": {\"angularaxis\": {\"gridcolor\": \"white\", \"linecolor\": \"white\", \"ticks\": \"\"}, \"bgcolor\": \"#E5ECF6\", \"radialaxis\": {\"gridcolor\": \"white\", \"linecolor\": \"white\", \"ticks\": \"\"}}, \"scene\": {\"xaxis\": {\"backgroundcolor\": \"#E5ECF6\", \"gridcolor\": \"white\", \"gridwidth\": 2, \"linecolor\": \"white\", \"showbackground\": true, \"ticks\": \"\", \"zerolinecolor\": \"white\"}, \"yaxis\": {\"backgroundcolor\": \"#E5ECF6\", \"gridcolor\": \"white\", \"gridwidth\": 2, \"linecolor\": \"white\", \"showbackground\": true, \"ticks\": \"\", \"zerolinecolor\": \"white\"}, \"zaxis\": {\"backgroundcolor\": \"#E5ECF6\", \"gridcolor\": \"white\", \"gridwidth\": 2, \"linecolor\": \"white\", \"showbackground\": true, \"ticks\": \"\", \"zerolinecolor\": \"white\"}}, \"shapedefaults\": {\"line\": {\"color\": \"#2a3f5f\"}}, \"ternary\": {\"aaxis\": {\"gridcolor\": \"white\", \"linecolor\": \"white\", \"ticks\": \"\"}, \"baxis\": {\"gridcolor\": \"white\", \"linecolor\": \"white\", \"ticks\": \"\"}, \"bgcolor\": \"#E5ECF6\", \"caxis\": {\"gridcolor\": \"white\", \"linecolor\": \"white\", \"ticks\": \"\"}}, \"title\": {\"x\": 0.05}, \"xaxis\": {\"automargin\": true, \"gridcolor\": \"white\", \"linecolor\": \"white\", \"ticks\": \"\", \"title\": {\"standoff\": 15}, \"zerolinecolor\": \"white\", \"zerolinewidth\": 2}, \"yaxis\": {\"automargin\": true, \"gridcolor\": \"white\", \"linecolor\": \"white\", \"ticks\": \"\", \"title\": {\"standoff\": 15}, \"zerolinecolor\": \"white\", \"zerolinewidth\": 2}}}, \"xaxis\": {\"anchor\": \"y\", \"domain\": [0.0, 0.49], \"title\": {\"text\": \"LoadFactor (%)\"}}, \"xaxis2\": {\"anchor\": \"y2\", \"domain\": [0.51, 1.0], \"matches\": \"x\", \"title\": {\"text\": \"LoadFactor (%)\"}}, \"yaxis\": {\"anchor\": \"x\", \"domain\": [0.0, 1.0], \"title\": {\"text\": \"LCOE (\\u20ac/kW)\"}}, \"yaxis2\": {\"anchor\": \"x2\", \"domain\": [0.0, 1.0], \"matches\": \"y\", \"showticklabels\": false}},                        {\"responsive\": true}                    ).then(function(){\n",
       "                            \n",
       "var gd = document.getElementById('03cec984-e42a-4bbf-904a-747744598a55');\n",
       "var x = new MutationObserver(function (mutations, observer) {{\n",
       "        var display = window.getComputedStyle(gd).display;\n",
       "        if (!display || display === 'none') {{\n",
       "            console.log([gd, 'removed!']);\n",
       "            Plotly.purge(gd);\n",
       "            observer.disconnect();\n",
       "        }}\n",
       "}});\n",
       "\n",
       "// Listen for the removal of the full notebook cells\n",
       "var notebookContainer = gd.closest('#notebook-container');\n",
       "if (notebookContainer) {{\n",
       "    x.observe(notebookContainer, {childList: true});\n",
       "}}\n",
       "\n",
       "// Listen for the clearing of the current output cell\n",
       "var outputEl = gd.closest('.output');\n",
       "if (outputEl) {{\n",
       "    x.observe(outputEl, {childList: true});\n",
       "}}\n",
       "\n",
       "                        })                };                });            </script>        </div>"
      ]
     },
     "metadata": {},
     "output_type": "display_data"
    }
   ],
   "source": [
    "# Here we create an array of load factors from 0.1 to 1.0 in steps of 0.01\n",
    "load_factors = np.arange(0.1, 1.0, 0.01)\n",
    "# We set the discount rate to a fixed value for the moment\n",
    "discount_rate = [0.05, 0.1] # %\n",
    "\n",
    "# CCGT plant parameters\n",
    "technical_lifetime = [25] # years\n",
    "station_size = [750000]  # kW\n",
    "fuel_price = [0.03] # €/kWh\n",
    "overnight_cost = [750]  # €/kW\n",
    "fixed_om_cost = [3.0] # €/kW\n",
    "fuel_efficiency = [0.5]\n",
    "\n",
    "ccgt_results = lcoe_params(\n",
    "    station_size, overnight_cost, fixed_om_cost, load_factors, fuel_efficiency, \n",
    "    fuel_price, discount_rate, technical_lifetime, technology='CCGT')\n",
    "\n",
    "# Coal plants\n",
    "technical_lifetime = [35] # years\n",
    "station_size = [1000000] # kW\n",
    "fuel_price = [0.01] # €/kWh\n",
    "overnight_cost = [2000]  # €/kW\n",
    "fixed_om_cost = [5.0] # €/kW\n",
    "fuel_efficiency = [0.4]\n",
    "\n",
    "coal_results = lcoe_params(\n",
    "    station_size, overnight_cost, fixed_om_cost, load_factors, fuel_efficiency, \n",
    "    fuel_price, discount_rate, technical_lifetime, technology='Coal')\n",
    "\n",
    "# Nuclear plants\n",
    "technical_lifetime = [50] # years\n",
    "station_size = [1200000] # kW\n",
    "fuel_price = [0.005] # €/kWh\n",
    "overnight_cost = [4500]  # €/kW\n",
    "fixed_om_cost = [2.0] # €/kW\n",
    "fuel_efficiency = [0.4]\n",
    "\n",
    "nuclear_results = lcoe_params(\n",
    "    station_size, overnight_cost, fixed_om_cost, load_factors, fuel_efficiency, \n",
    "    fuel_price, discount_rate, technical_lifetime, technology='Nuclear')\n",
    "\n",
    "# Concentrating solar power\n",
    "technical_lifetime = [25] # years\n",
    "station_size = [500000] # kW\n",
    "fuel_price = [0.0] # €/kWh\n",
    "overnight_cost = [3785]  # €/kW\n",
    "fixed_om_cost = [5.0] # €/kW\n",
    "fuel_efficiency = [1.0]\n",
    "\n",
    "csp_results = lcoe_params(\n",
    "    station_size, overnight_cost, fixed_om_cost, load_factors, fuel_efficiency, \n",
    "    fuel_price, discount_rate, technical_lifetime, technology='CSP')\n",
    "\n",
    "# Wind turbines\n",
    "technical_lifetime = [25] # years\n",
    "station_size = [200000] # kW\n",
    "fuel_price = [0.0] # €/kWh\n",
    "overnight_cost = [1200]  # €/kW\n",
    "fixed_om_cost = [2.0] # €/kW\n",
    "fuel_efficiency = [1.0]\n",
    "\n",
    "wind_results = lcoe_params(\n",
    "    station_size, overnight_cost, fixed_om_cost, load_factors, fuel_efficiency, \n",
    "    fuel_price, discount_rate, technical_lifetime, technology='Wind')\n",
    "\n",
    "\n",
    "plotting = pd.DataFrame(ccgt_results + coal_results + nuclear_results + csp_results + wind_results)\n",
    "px.line(plotting, x='LoadFactor', y='LCOE', color='Technology', facet_col='DiscountRate',\n",
    "        labels={'LoadFactor': 'LoadFactor (%)', 'LCOE': 'LCOE (€/kW)'})"
   ]
  },
  {
   "cell_type": "markdown",
   "metadata": {},
   "source": [
    "- What do you see when you compare technologies at different load factors?\n",
    "- What does the LCOE graph *not* show you?\n",
    "\n",
    "Run the following cell to check another repreentation of the results:"
   ]
  },
  {
   "cell_type": "code",
   "execution_count": null,
   "metadata": {},
   "outputs": [],
   "source": [
    "df = plotting.melt(id_vars=['Technology', 'LoadFactor', 'DiscountRate'], value_vars=['Fixed OM Cost', 'Variable OM Cost', 'Capital Cost'])\n",
    "\n",
    "px.area(df, x='LoadFactor', y='value', color='variable', facet_col='Technology', facet_row='DiscountRate',\n",
    "        labels={'LoadFactor': 'LoadFactor (%)', 'value': 'LCOE (€/kW)'})"
   ]
  },
  {
   "cell_type": "markdown",
   "metadata": {},
   "source": [
    "* What can you say about the different costs per technology?\n",
    "* Does the wind technology really the have the lowest levelised cost of electricity?\n",
    "* What happens if the cost of natural gas doubles? What happens if coal doubles in price?\n",
    "* What happens if concrete gets cheaper?"
   ]
  },
  {
   "cell_type": "markdown",
   "metadata": {},
   "source": [
    "That is it for today's lab, we hope you enjoyed it and that you got a good idea of what the LCOE is and how to use it."
   ]
  }
 ],
 "metadata": {
  "kernelspec": {
   "display_name": "Python 3",
   "language": "python",
   "name": "python3"
  },
  "language_info": {
   "codemirror_mode": {
    "name": "ipython",
    "version": 3
   },
   "file_extension": ".py",
   "mimetype": "text/x-python",
   "name": "python",
   "nbconvert_exporter": "python",
   "pygments_lexer": "ipython3",
   "version": "3.8.5"
  }
 },
 "nbformat": 4,
 "nbformat_minor": 4
}
