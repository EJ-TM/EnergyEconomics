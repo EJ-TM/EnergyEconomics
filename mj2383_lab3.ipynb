{
 "cells": [
  {
   "cell_type": "code",
   "execution_count": null,
   "metadata": {},
   "outputs": [],
   "source": [
    "import pandas as pd\n",
    "from plotly import express as ex"
   ]
  },
  {
   "cell_type": "markdown",
   "metadata": {},
   "source": [
    "# MJ2383 Computer Lab 3\n",
    "This lab aims to provide an inside view on what a supply curve is and how it can be generated while using OSeMOSYS. Reminder, a supply curve is a graphical representation of the law of supply. It slopes upward because quantity supplied rises as price rises, with other things constant.\n",
    "\n",
    "In this lab, we'll be using OSeMOSYS."
   ]
  },
  {
   "cell_type": "code",
   "execution_count": null,
   "metadata": {},
   "outputs": [],
   "source": [
    "!glpsol -d super_simple_model.txt -m osemosys.txt > osemosys.log"
   ]
  },
  {
   "cell_type": "code",
   "execution_count": null,
   "metadata": {},
   "outputs": [],
   "source": [
    "%ls results"
   ]
  },
  {
   "cell_type": "code",
   "execution_count": null,
   "metadata": {},
   "outputs": [],
   "source": [
    "demand = pd.read_csv('results/Demand.csv').groupby(by=['TIMESLICE', 'FUEL', 'YEAR']).sum()\n",
    "ex.line(demand.reset_index(), x='YEAR', y='VALUE', color='FUEL')"
   ]
  }
 ],
 "metadata": {
  "kernelspec": {
   "display_name": "Python 3.8.5 64-bit ('mj2383': conda)",
   "metadata": {
    "interpreter": {
     "hash": "9a7ce8f59576c087e4277e4cf763f1baab70682b5661f975d4fdee42f0f5301f"
    }
   },
   "name": "Python 3.8.5 64-bit ('mj2383': conda)"
  },
  "language_info": {
   "codemirror_mode": {
    "name": "ipython",
    "version": 3
   },
   "file_extension": ".py",
   "mimetype": "text/x-python",
   "name": "python",
   "nbconvert_exporter": "python",
   "pygments_lexer": "ipython3",
   "version": "3.8.5-final"
  }
 },
 "nbformat": 4,
 "nbformat_minor": 2
}
