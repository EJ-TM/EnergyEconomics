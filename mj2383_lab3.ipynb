{
 "cells": [
  {
   "cell_type": "code",
   "execution_count": null,
   "metadata": {},
   "outputs": [],
   "source": [
    "import pandas as pd\n",
    "from plotly import express as ex\n",
    "from tqdm import trange"
   ]
  },
  {
   "cell_type": "markdown",
   "metadata": {},
   "source": [
    "# MJ2383 Computer Lab 3\n",
    "\n",
    "This lab aims to provide an inside view on what a supply curve is and how it can be generated while using OSeMOSYS. Reminder, a supply curve is a graphical representation of the law of supply. It slopes upward because the quantity supplied increases as price increases, with other things constant.\n",
    "\n",
    "In this lab, we'll be using OSeMOSYS, but we'll be running it in the background using this Jupyter Notebook to control the input data, run the model and extract and visualise the results.\n",
    "\n",
    "## Contents\n",
    "\n",
    "- [Stage 1](#Stage-1:-A-super-simple-supply-curve) - In this section, we expore a very simple model with a two-stage supply curve for natural gas to develop our economic interpretation of OSeMOSYS\n",
    "- [Stage 2]() - We add complexity, by increasing the number of steps in our supply curve by adding resources. We explore what difference this makes to the electricity price under different conditions.\n",
    "- [Stage 3]() - We add an emissions penalty, imposing a tax upon CO2\n",
    "- [Stage 4]() - We add renewable technologies to the electricity sector, whose marginal cost of generation is 0. However, this creates a demand for backup capacity. How does this affect the marginal price of electricity?"
   ]
  },
  {
   "cell_type": "markdown",
   "metadata": {},
   "source": [
    "## Stage 1: A super simple supply curve\n",
    "\n",
    "We start with the simplest supply cost curve you can imagine. In this simple OSeMOSYS model, there are two natural gas commodities (fuels) - imports of natural gas, and extraction. Both of these generate CO2, and feed a natural gas combined-cycle electricity generation plant. This produces secondary electricity `SEC_EL` which enters a transmission and distribution technology `TD` which produces final electricity `FEL`.\n",
    "\n",
    "![](img/simple.svg)\n",
    "\n",
    "(Note, this image is produced using the command `!otoole viz res SimpleEnergyModel/SimpleEnergyModel_Gas/datapackage.json img/simple.svg`)\n",
    "\n",
    "---\n",
    "\n",
    "First, let's have a think about the supply curve in this system.\n",
    "\n",
    "Shown on the left of the image, there are two natural gas resources. `GasExtraction` has a maximum production capacity of 6 PJ/year at a variable cost of €8/PJ. However, `GasImport` has no upper bound, but a higher cost of €12/PJ.\n",
    "\n",
    "Plotted, this looks rather uninspiring, but at least gives an impression of a supply curve for natural gas.\n"
   ]
  },
  {
   "cell_type": "code",
   "execution_count": null,
   "metadata": {},
   "outputs": [],
   "source": [
    "gas_extraction = [[\"GasExtraction\", x, 8] for x in range(7)]\n",
    "gas_import = [[\"GasImport\", x, 12] for x in range(6, 21)]\n",
    "gas_supply_curve = pd.DataFrame(gas_extraction + gas_import, \n",
    "    columns=['name', 'supply', 'marginal_cost'])\n",
    "fig = ex.line(gas_supply_curve, x='supply', y='marginal_cost', range_x=[0, 20], range_y=[0, 20], line_shape='vh')\n",
    "fig.update_traces(mode=\"markers+lines\")\n",
    "fig.update_xaxes(showspikes=True)\n",
    "fig.show()"
   ]
  },
  {
   "cell_type": "markdown",
   "metadata": {},
   "source": [
    "In OSeMOSYS, supply must equal demand, and as the quantity demanded increases, supply increases accordingly. Given that our demand curve is a straight line (imagine a vertical line moving along the x-axis) the equilibrium point (where the lines cross) denotes the marginal cost of production and in this case is equal to the price.\n",
    "\n",
    "Within most energy systems, there are multiple markets for different, related, energy commodities. We can use our simple OSeMOSYS model to begin to understand these different energy markets, and how they relate to one another.\n",
    "\n",
    "Think about how our simple supply curve for natural gas interacts with the demand for electricity. \n",
    "\n",
    "In our simple example, we demand a specific quantity of electricity. The electricity is produced by the `NGCC` technology which requires almost 2 units of gas to produce 1 unit of electricity.\n",
    "\n",
    "**Q. If the marginal cost of production of gas is €8/PJ, what is the marginal cost of production of electricity when 2 units of gas are needed to produce 1 unit of electricity?**"
   ]
  },
  {
   "cell_type": "markdown",
   "metadata": {},
   "source": [
    "That's right, it should be around €16/PJ. Of course, it won't be exactly that, because in OSeMOSYS the marginal cost of production of electricity will take into account all the inputs into the production, including:\n",
    "- capital cost of the extra capacity required\n",
    "- fixed operating cost\n",
    "- any costs associated with emissions\n",
    "\n",
    "In addition, in OSeMOSYS, operating costs are discounted to the middle of the year, which is equivalent to a capital recovery factor of about 0.975 for the current year with a discount rate of 5%."
   ]
  },
  {
   "cell_type": "markdown",
   "metadata": {},
   "source": [
    "### Using OSeMOSYS to compute the equilibrium price\n",
    "\n",
    "We'll now run OSeMOSYS from this Jupyter Notebook to compute the equilibrium price:"
   ]
  },
  {
   "cell_type": "code",
   "execution_count": null,
   "metadata": {},
   "outputs": [],
   "source": [
    "def write_demand(value):\n",
    "    \"\"\"Write a ``value`` into the SpecifiedAnnualDemand file\n",
    "    \"\"\"\n",
    "    demand = pd.DataFrame([['SIMPLICITY', 'FEL', 2014, value]], columns=[\"REGION\",\"FUEL\",\"YEAR\",\"VALUE\"])\n",
    "    demand.to_csv(\"SimpleEnergyModel/SimpleEnergyModel_Gas/data/SpecifiedAnnualDemand.csv\", index=False)\n",
    "\n",
    "demand = 7\n",
    "write_demand(demand)\n",
    "!otoole convert datapackage datafile SimpleEnergyModel/SimpleEnergyModel_Gas/datapackage.json SimpleEnergyModel/SimpleEnergyModel_Gas/data_SimplicityModified_Gas.txt"
   ]
  },
  {
   "cell_type": "code",
   "execution_count": null,
   "metadata": {},
   "outputs": [],
   "source": [
    "# Solve the model, writing the results into ./results\n",
    "!glpsol -d SimpleEnergyModel/SimpleEnergyModel_Gas/data_SimplicityModified_Gas.txt -m osemosys.txt > osemosys.log"
   ]
  },
  {
   "cell_type": "markdown",
   "metadata": {},
   "source": [
    "In the plot below, we can see the total production by fuel.  \n",
    "\n",
    "**Q. Why is the production of `SEC_EL` higher than final electricity `FEL`?**"
   ]
  },
  {
   "cell_type": "code",
   "execution_count": null,
   "metadata": {},
   "outputs": [],
   "source": [
    "production = pd.read_csv('results/ProductionByTechnologyAnnual.csv').groupby(by=['TECHNOLOGY', 'FUEL']).sum()\n",
    "ex.bar(production.reset_index(), x='FUEL', y='VALUE', color='TECHNOLOGY')"
   ]
  },
  {
   "cell_type": "code",
   "execution_count": null,
   "metadata": {},
   "outputs": [],
   "source": [
    "cost = pd.read_csv('results/ProductionDual.csv').set_index(['TIMESLICE', 'FUEL'])\n",
    "cost['DUAL'] = cost['DUAL'] / (1.05**-0.5)\n",
    "cost.loc[('WD', 'GAS'),'DUAL']"
   ]
  },
  {
   "cell_type": "code",
   "execution_count": null,
   "metadata": {},
   "outputs": [],
   "source": [
    "fig = ex.line(gas_supply_curve, x='supply', y='marginal_cost', range_x=[0, 20], range_y=[0, 30], line_shape='vh')\n",
    "\n",
    "gas_demand = production.groupby(by='FUEL').sum().loc['GAS', 'VALUE']\n",
    "\n",
    "fig.add_shape( # add a vertical \"demand\" line\n",
    "    type=\"line\", line_color=\"salmon\", line_width=3, opacity=1, line_dash=\"dot\",\n",
    "    x0=gas_demand, x1=gas_demand, xref=\"x\", y0=0, y1=cost.loc[('WD', 'GAS'),'DUAL'])\n",
    "\n",
    "fig.add_annotation( # add a text callout with arrow\n",
    "    text=\"Marginal cost of gas\", x=gas_demand, y=cost.loc[('WD', 'GAS'),'DUAL'], arrowhead=1, showarrow=True\n",
    ")\n",
    "\n",
    "fig.add_annotation( # add a text callout with arrow\n",
    "    text=\"Marginal cost of electricity\", x=gas_demand, y=cost.loc[('WD', 'FEL'),'DUAL'], arrowhead=1, showarrow=True\n",
    ")\n",
    "\n",
    "fig.show()"
   ]
  },
  {
   "cell_type": "code",
   "execution_count": null,
   "metadata": {},
   "outputs": [],
   "source": []
  },
  {
   "cell_type": "markdown",
   "metadata": {},
   "source": [
    "## Running the model to extract the marginal cost of production of electricity"
   ]
  },
  {
   "cell_type": "code",
   "execution_count": null,
   "metadata": {},
   "outputs": [],
   "source": [
    "def run_model():\n",
    "    results = []\n",
    "    for dem in trange(1, 101, 5):\n",
    "        observation = {}\n",
    "        write_demand(dem)\n",
    "        !otoole convert datapackage datafile SimpleEnergyModel/SimpleEnergyModel_Gas/datapackage.json SimpleEnergyModel/SimpleEnergyModel_Gas/data_SimplicityModified_Gas.txt\n",
    "        !glpsol -d SimpleEnergyModel/SimpleEnergyModel_Gas/data_SimplicityModified_Gas.txt -m osemosys.txt > osemosys.log\n",
    "        cost = pd.read_csv('results/ProductionDual.csv').set_index(['TIMESLICE', 'FUEL'])\n",
    "        value = cost.loc[('WD', 'FEL'), 'DUAL']\n",
    "        results.append({'value': value, 'param': 'FEL', 'demand': dem})\n",
    "        value = cost.loc[('WD', 'GAS'), 'DUAL']\n",
    "        results.append({'value': value, 'param': 'GAS', 'demand': dem})\n",
    "    return results\n"
   ]
  },
  {
   "cell_type": "code",
   "execution_count": null,
   "metadata": {},
   "outputs": [],
   "source": [
    "results = run_model()\n"
   ]
  },
  {
   "cell_type": "code",
   "execution_count": null,
   "metadata": {},
   "outputs": [],
   "source": [
    "data = pd.DataFrame(results)\n",
    "ex.line(data, x='demand', y='value', color='param', range_x=[0,100], range_y=[0,50])\n"
   ]
  },
  {
   "cell_type": "code",
   "execution_count": null,
   "metadata": {},
   "outputs": [],
   "source": [
    "data = pd.DataFrame(results)\n",
    "ex.line(data, x='demand', y='value', color='param', range_x=[0, 30], range_y=[0, 50])"
   ]
  },
  {
   "cell_type": "markdown",
   "metadata": {},
   "source": [
    "# Stage 2: Adding Resources"
   ]
  },
  {
   "cell_type": "markdown",
   "metadata": {},
   "source": [
    "# Stage 3: A tax on pollution"
   ]
  },
  {
   "cell_type": "markdown",
   "metadata": {},
   "source": [
    "# Stage 4: Renewable electricity \"there's no such thing as a free lunch\"\n"
   ]
  },
  {
   "cell_type": "code",
   "execution_count": null,
   "metadata": {},
   "outputs": [],
   "source": []
  }
 ],
 "metadata": {
  "kernelspec": {
   "display_name": "Python 3.8.5 64-bit ('mj2383': conda)",
   "metadata": {
    "interpreter": {
     "hash": "9a7ce8f59576c087e4277e4cf763f1baab70682b5661f975d4fdee42f0f5301f"
    }
   },
   "name": "Python 3.8.5 64-bit ('mj2383': conda)"
  },
  "language_info": {
   "codemirror_mode": {
    "name": "ipython",
    "version": 3
   },
   "file_extension": ".py",
   "mimetype": "text/x-python",
   "name": "python",
   "nbconvert_exporter": "python",
   "pygments_lexer": "ipython3",
   "version": "3.8.5-final"
  }
 },
 "nbformat": 4,
 "nbformat_minor": 2
}
